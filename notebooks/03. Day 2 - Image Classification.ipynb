{
 "cells": [
  {
   "cell_type": "code",
   "execution_count": null,
   "id": "a6879dac",
   "metadata": {},
   "outputs": [],
   "source": [
    "from sklearn.datasets import load_digits\n",
    "digits = load_digits()"
   ]
  },
  {
   "cell_type": "code",
   "execution_count": null,
   "id": "480bef19",
   "metadata": {},
   "outputs": [],
   "source": [
    "type(digits.data)"
   ]
  },
  {
   "cell_type": "code",
   "execution_count": null,
   "id": "5fe4d57c",
   "metadata": {},
   "outputs": [],
   "source": [
    "digits.keys()"
   ]
  },
  {
   "cell_type": "code",
   "execution_count": null,
   "id": "5cdd03ef",
   "metadata": {},
   "outputs": [],
   "source": [
    "(digits.data.shape, digits.target.shape, digits.images.shape)"
   ]
  },
  {
   "cell_type": "code",
   "execution_count": null,
   "id": "5343dd45",
   "metadata": {},
   "outputs": [],
   "source": [
    "import numpy as np\n",
    "import matplotlib.pyplot as plt\n",
    "%matplotlib inline"
   ]
  },
  {
   "cell_type": "code",
   "execution_count": null,
   "id": "7dec2eaf",
   "metadata": {},
   "outputs": [],
   "source": [
    "plt.figure(figsize=(20,4))\n",
    "for index, (image, label) in enumerate(zip(digits.data[0:5], digits.target[0:5])):\n",
    "    plt.subplot(1, 5, index + 1)\n",
    "    plt.imshow(np.reshape(image, (8,8)), cmap=plt.cm.gray)\n",
    "    plt.title('Training: %i\\n' % label, fontsize = 20);"
   ]
  },
  {
   "cell_type": "code",
   "execution_count": null,
   "id": "7c88abba",
   "metadata": {},
   "outputs": [],
   "source": [
    "from sklearn.model_selection import train_test_split\n",
    "X_train, X_test, y_train, y_test = train_test_split(digits.data, digits.target,test_size=0.25)\n",
    "X_train.shape, X_test.shape"
   ]
  },
  {
   "cell_type": "code",
   "execution_count": null,
   "id": "251f35f5",
   "metadata": {},
   "outputs": [],
   "source": [
    "from sklearn.linear_model import LogisticRegression\n",
    "clf = LogisticRegression(fit_intercept=True, multi_class='auto', penalty='l2', solver='saga', max_iter=10000, C=50)"
   ]
  },
  {
   "cell_type": "code",
   "execution_count": null,
   "id": "2fee30e9",
   "metadata": {},
   "outputs": [],
   "source": [
    "clf.fit(X_train, y_train)"
   ]
  },
  {
   "cell_type": "code",
   "execution_count": null,
   "id": "393b3efb",
   "metadata": {},
   "outputs": [],
   "source": [
    "clf.classes_"
   ]
  },
  {
   "cell_type": "code",
   "execution_count": null,
   "id": "a4dcb542",
   "metadata": {},
   "outputs": [],
   "source": [
    "print(clf.predict(X_test[0:9]))\n",
    "print(y_test[0:9])"
   ]
  },
  {
   "cell_type": "code",
   "execution_count": null,
   "id": "386bf9b5",
   "metadata": {},
   "outputs": [],
   "source": [
    "score = clf.score(X_test, y_test) \n",
    "score"
   ]
  },
  {
   "cell_type": "markdown",
   "id": "e68c5720",
   "metadata": {},
   "source": [
    "# Classify a new Digit"
   ]
  },
  {
   "cell_type": "code",
   "execution_count": null,
   "id": "7d66e112",
   "metadata": {},
   "outputs": [],
   "source": [
    "from PIL import Image\n",
    "import numpy as np\n",
    "im = Image.open(\"C:\\\\tempimg.png\")\n",
    "p = np.array(im)\n",
    "p\n",
    "\n",
    "p = p.flatten()"
   ]
  },
  {
   "cell_type": "code",
   "execution_count": null,
   "id": "58d7fd10",
   "metadata": {},
   "outputs": [],
   "source": [
    "plt.imshow(np.reshape(p, (8,8)), cmap=plt.cm.gray)"
   ]
  },
  {
   "cell_type": "code",
   "execution_count": null,
   "id": "ff856e5b",
   "metadata": {},
   "outputs": [],
   "source": [
    "print(clf.predict([p]))"
   ]
  },
  {
   "cell_type": "markdown",
   "id": "afab1eb9",
   "metadata": {},
   "source": [
    "# How did the model perform?"
   ]
  },
  {
   "cell_type": "code",
   "execution_count": null,
   "id": "24a5f788",
   "metadata": {},
   "outputs": [],
   "source": [
    "from sklearn.metrics import classification_report, confusion_matrix\n",
    "\n",
    "y_pred = clf.predict(X_test)\n",
    "confusion_matrix(y_test, y_pred)"
   ]
  },
  {
   "cell_type": "code",
   "execution_count": null,
   "id": "76792388",
   "metadata": {},
   "outputs": [],
   "source": [
    "import seaborn as sns\n",
    "\n",
    "conf_mat = confusion_matrix(y_test, y_pred)\n",
    "\n",
    "plt.figure(figsize=(10,10))\n",
    "sns.heatmap(conf_mat, annot=True, \n",
    "            linewidths=.5, square = True, cmap = 'Blues_r');\n",
    "\n",
    "plt.ylabel('Actual label')\n",
    "plt.xlabel('Predicted label')\n",
    "all_sample_title = 'Accuracy Score: {0}'.format(score)\n",
    "plt.title(all_sample_title);"
   ]
  },
  {
   "cell_type": "code",
   "execution_count": null,
   "id": "291c8022",
   "metadata": {},
   "outputs": [],
   "source": [
    "print (classification_report(y_test, y_pred))"
   ]
  },
  {
   "cell_type": "markdown",
   "id": "23b3f335",
   "metadata": {},
   "source": [
    "# What Went Wrong?"
   ]
  },
  {
   "cell_type": "code",
   "execution_count": null,
   "id": "ea470bf8",
   "metadata": {},
   "outputs": [],
   "source": [
    "index = 0\n",
    "misclassified_images = []\n",
    "for label, predict in zip(y_test, y_pred):\n",
    "    if label != predict: \n",
    "        misclassified_images.append(index)\n",
    "    index +=1"
   ]
  },
  {
   "cell_type": "code",
   "execution_count": null,
   "id": "429f48c8",
   "metadata": {},
   "outputs": [],
   "source": [
    "misclassified_images"
   ]
  },
  {
   "cell_type": "code",
   "execution_count": null,
   "id": "a77adbc8",
   "metadata": {},
   "outputs": [],
   "source": [
    "plt.figure(figsize=(10,10))\n",
    "plt.suptitle('Misclassifications');\n",
    "\n",
    "for plot_index, bad_index in enumerate(misclassified_images[0:20]):\n",
    "    p = plt.subplot(4,5, plot_index+1) # 4x5 plot\n",
    "    p.imshow(X_test[bad_index].reshape(8,8), cmap=plt.cm.gray)\n",
    "    p.set_xticks(()); p.set_yticks(()) \n",
    "    p.set_title(f'Pred: {y_pred[bad_index]}, Actual: {y_test[bad_index]}');"
   ]
  },
  {
   "cell_type": "markdown",
   "id": "2840566e",
   "metadata": {},
   "source": [
    "# What did the model actually 'learn'?"
   ]
  },
  {
   "cell_type": "code",
   "execution_count": null,
   "id": "8c02acc2",
   "metadata": {},
   "outputs": [],
   "source": [
    "clf.classes_"
   ]
  },
  {
   "cell_type": "code",
   "execution_count": null,
   "id": "088a71cd",
   "metadata": {},
   "outputs": [],
   "source": [
    "clf.coef_.shape"
   ]
  },
  {
   "cell_type": "code",
   "execution_count": null,
   "id": "73a7cdda",
   "metadata": {},
   "outputs": [],
   "source": [
    "clf.coef_"
   ]
  },
  {
   "cell_type": "code",
   "execution_count": null,
   "id": "573f285d",
   "metadata": {},
   "outputs": [],
   "source": [
    "clf.coef_[0].round(2)"
   ]
  },
  {
   "cell_type": "code",
   "execution_count": null,
   "id": "1ff687b5",
   "metadata": {},
   "outputs": [],
   "source": [
    "clf.intercept_"
   ]
  },
  {
   "cell_type": "code",
   "execution_count": null,
   "id": "6b97ec5d",
   "metadata": {},
   "outputs": [],
   "source": [
    "coef = clf.coef_.copy()\n",
    "plt.imshow(coef[2].reshape(8,8).round(2));"
   ]
  },
  {
   "cell_type": "code",
   "execution_count": null,
   "id": "5d8cf994",
   "metadata": {},
   "outputs": [],
   "source": [
    "scale = np.abs(coef).max()\n",
    "plt.figure(figsize=(10,5))\n",
    "\n",
    "for i in range(10): # 0-9\n",
    "    coef_plot = plt.subplot(2, 5, i + 1) # 2x5 plot\n",
    "\n",
    "    coef_plot.imshow(coef[i].reshape(8,8), cmap='Greys', interpolation='bilinear')\n",
    "    \n",
    "# 'Greys', 'Purples', 'Blues', 'Greens', 'Oranges', 'Reds', \n",
    "#             'YlOrBr', 'YlOrRd', 'OrRd', 'PuRd', 'RdPu', 'BuPu',\n",
    "#             'GnBu', 'PuBu', 'YlGnBu', 'PuBuGn', 'BuGn', 'YlGn'    \n",
    "#     coef_plot.imshow(coef[i].reshape(8,8), \n",
    "#                      cmap=plt.cm.RdBu,\n",
    "#                      vmin=-scale, vmax=scale)\n",
    "#                     interpolation='bilinear')\n",
    "    \n",
    "    coef_plot.set_xticks(()); coef_plot.set_yticks(()) # remove ticks\n",
    "    coef_plot.set_xlabel(f'Class {i}')\n",
    "\n",
    "plt.suptitle('Coefficients for various classes');"
   ]
  }
 ],
 "metadata": {
  "kernelspec": {
   "display_name": "Python 3 (ipykernel)",
   "language": "python",
   "name": "python3"
  },
  "language_info": {
   "codemirror_mode": {
    "name": "ipython",
    "version": 3
   },
   "file_extension": ".py",
   "mimetype": "text/x-python",
   "name": "python",
   "nbconvert_exporter": "python",
   "pygments_lexer": "ipython3",
   "version": "3.8.8"
  }
 },
 "nbformat": 4,
 "nbformat_minor": 5
}
