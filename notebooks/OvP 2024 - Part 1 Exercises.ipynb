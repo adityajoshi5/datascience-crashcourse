{
 "cells": [
  {
   "cell_type": "markdown",
   "id": "224022ac",
   "metadata": {},
   "source": [
    "# Python and Data Science\n",
    "\n",
    "Python is open source, interpreted, high level language and provides great approach for object-oriented programming. It is one of the best language used by data scientist for various data science projects/application. Python provide great functionality to deal with mathematics, statistics and scientific function. It provides great libraries to deals with data science application.\n",
    "\n",
    "One of the main reasons why Python is widely used in the scientific and research communities is because of its ease of use and simple syntax which makes it easy to adapt for people who do not have an engineering background. It is also more suited for quick prototyping.\n",
    "\n",
    "![](https://www.brsoftech.com/blog/wp-content/uploads/2019/11/most-in-demand-programming-languages-2020.png)\n",
    "\n",
    "# Is Python a New Language?\n",
    "\n",
    "Python was first released in 1991. It was created by Guido van Rossum as a hobby project. \n",
    "\n",
    "It was named after a comedy TV series.\n",
    "\n",
    "![Monty Python](https://upload.wikimedia.org/wikipedia/en/c/cd/Monty_Python%27s_Flying_Circus_Title_Card.png)\n",
    "\n",
    "# Computing for Everybody\n",
    "As python was becoming popular, Van Rossum submitted a funding proposal to DARPA called \"Computer Programming for Everybody\", in which he further defined his goals for Python:\n",
    "- An easy and intuitive language just as powerful as major competitors\n",
    "- Open source, so anyone can contribute to its development\n",
    "- Code that is as understandable as plain English\n",
    "- Suitability for everyday tasks, allowing for short development times\n",
    "\n",
    "> In 2018, Python was the third most popular language on GitHub, a social coding website, behind JavaScript and Java.\n",
    "\n",
    "According to a programming language popularity survey it is consistently among the top 10 most mentioned languages in job postings. Furthermore, Python has been among the 10 most popular programming languages every year since 2004 according to the TIOBE Programming Community Index.\n",
    "\n",
    "# The Zen of Python\n",
    "\n",
    "The Zen of Python is a collection of 19 \"guiding principles\" for writing computer programs that influence the design of the Python programming language. Software engineer Tim Peters wrote this set of principles and posted it on the Python mailing list in 1999. Peters's list left open a 20th principle \"for Guido to fill in\", referring to Guido van Rossum, the original author of the Python language. The vacancy for a 20th principle has not been filled.\n",
    "\n",
    "- Beautiful is better than ugly.\n",
    "- Explicit is better than implicit.\n",
    "- Simple is better than complex.\n",
    "- Complex is better than complicated.\n",
    "- Flat is better than nested.\n",
    "- Sparse is better than dense.\n",
    "- Readability counts.\n",
    "- Special cases aren't special enough to break the rules.\n",
    "- Although practicality beats purity.\n",
    "- Errors should never pass silently.\n",
    "- Unless explicitly silenced.\n",
    "- In the face of ambiguity, refuse the temptation to guess.\n",
    "- There should be one—and preferably only one—obvious way to do it.\n",
    "- Although that way may not be obvious at first unless you're Dutch.\n",
    "- Now is better than never.\n",
    "- Although never is often better than right now.\n",
    "- If the implementation is hard to explain, it's a bad idea.\n",
    "- If the implementation is easy to explain, it may be a good idea.\n",
    "- Namespaces are one honking great idea—let's do more of those!"
   ]
  },
  {
   "cell_type": "markdown",
   "id": "5a71ece0",
   "metadata": {},
   "source": [
    "### Getting Started\n",
    "\n",
    "Following line prints a message. To execute this line, select the line below and do one of the following:\n",
    "1. Click the RUN button on the top\n",
    "1. On the menubar on the top, click CELL > RUN CELLS\n",
    "1. Press Ctrl + ENTER on the keyboard"
   ]
  },
  {
   "cell_type": "code",
   "execution_count": null,
   "id": "6aa1e82b",
   "metadata": {},
   "outputs": [],
   "source": [
    "print (\"This is Python!\")"
   ]
  },
  {
   "cell_type": "markdown",
   "id": "85993e93",
   "metadata": {},
   "source": [
    "Try to write a line yourself below. You can add an empty block of code using the following:\n",
    "1. Click INSERT > INSERT CELL BELOW\n",
    "1. Press ESC key on the keyboard to enter the command mode. The color on the left will change. Then press 'b' to add a cell 'below'\n",
    "\n",
    "In a new code block, write a line that will print your name."
   ]
  },
  {
   "cell_type": "markdown",
   "id": "e782223a",
   "metadata": {},
   "source": [
    "What does the next piece of code do?"
   ]
  },
  {
   "cell_type": "code",
   "execution_count": null,
   "id": "cf1690df",
   "metadata": {},
   "outputs": [],
   "source": [
    "a = 10\n",
    "b = 15\n",
    "\n",
    "if b > a:\n",
    "    print(\"B is greater\")"
   ]
  },
  {
   "cell_type": "code",
   "execution_count": null,
   "id": "30c5b36d",
   "metadata": {},
   "outputs": [],
   "source": [
    "fruits = [\"Apple\", \"Banana\", \"Mango\"]\n",
    "\n",
    "for fruit in fruits:\n",
    "    print (\"I eat \"+fruit) "
   ]
  },
  {
   "cell_type": "markdown",
   "id": "b0a18a4e",
   "metadata": {},
   "source": [
    "# What is Anaconda?\n",
    "\n",
    "Anaconda is a free and open-source distribution of the Python and R programming languages for scientific computing (data science, machine learning applications, large-scale data processing, predictive analytics, etc.), that aims to simplify package management and deployment. \n",
    "\n",
    "There are several alternatives, however Anaconda is the most popular due to simplicity of managing the python components.\n",
    "\n",
    "Jupyter Notebook (formerly IPython Notebooks) is a web-based interactive computational environment for creating Jupyter notebook documents. The \"notebook\" term can colloquially make reference to many different entities, mainly the Jupyter web application, Jupyter Python web server, or Jupyter document format."
   ]
  },
  {
   "cell_type": "markdown",
   "id": "08368e80",
   "metadata": {},
   "source": [
    "# Markdown\n",
    "\n",
    "You can edit this block to see how it is formatted. Double-click anywhere on this text to activate.\n",
    "\n",
    "This is text. This is not python code. This will not run. \n",
    "\n",
    "But this will be displayed properly.\n",
    "\n",
    "# This is a heading\n",
    "\n",
    "## This is a smaller heading\n",
    "\n",
    "### This is an even smaller heading\n"
   ]
  },
  {
   "cell_type": "markdown",
   "id": "1a3ba107",
   "metadata": {},
   "source": [
    "\n",
    "Here're the reasons why you should use markdown cells:\n",
    "1. It makes your notes look better\n",
    "1. It helps other programmers understand what you are doing"
   ]
  },
  {
   "cell_type": "markdown",
   "id": "dd93c688",
   "metadata": {},
   "source": [
    "# Comments in Python\n",
    "\n",
    "Comments are used to explain the code, make notes to help other programmers, or make notes for future scope.\n",
    "They are mostly used to make code readable.\n",
    "\n",
    "They are part of the code, not the markdown."
   ]
  },
  {
   "cell_type": "code",
   "execution_count": null,
   "id": "d92efa7c",
   "metadata": {},
   "outputs": [],
   "source": [
    "print (\"Hello World!\") # This is a string statement\n",
    "print (5+9) # This is a number\n",
    "print ('The end!') # Bye"
   ]
  },
  {
   "cell_type": "code",
   "execution_count": null,
   "id": "9515cc7c",
   "metadata": {},
   "outputs": [],
   "source": [
    "def add_nums_and_print(num1, num2):\n",
    "    \"\"\"\n",
    "    This function adds two numbers and prints the sum\n",
    "    Parameters:\n",
    "    num1: firstnumber\n",
    "    num2: second number\n",
    "    Returns: Sum of the two numbers\n",
    "    \"\"\"\n",
    "    ans = num1+num2\n",
    "    print (\"The answer is \"+str(ans))\n",
    "    \n",
    "add_nums_and_print(5,10)"
   ]
  },
  {
   "cell_type": "markdown",
   "id": "805b17bf",
   "metadata": {},
   "source": [
    "In Python, you can use the help() function to see the details of the function."
   ]
  },
  {
   "cell_type": "code",
   "execution_count": null,
   "id": "1ea78edf",
   "metadata": {},
   "outputs": [],
   "source": [
    "help(print)"
   ]
  },
  {
   "cell_type": "markdown",
   "id": "37890a89",
   "metadata": {},
   "source": [
    "# Five Minute Python Refresher\n",
    "\n",
    "Python is an interpreted, object-oriented, high-level programming language with dynamic semantics. Its high-level built in data structures, combined with dynamic typing and dynamic binding, make it very attractive for Rapid Application Development, as well as for use as a scripting or glue language to connect existing components together. "
   ]
  },
  {
   "cell_type": "markdown",
   "id": "e054a0a3",
   "metadata": {},
   "source": [
    "# Data Structures\n",
    "\n",
    "### data structure\n",
    "An organization of data for the purpose of making it easier to use.\n",
    "### immutable data value\n",
    "A data value which cannot be modified. Assignments to elements or slices (sub-parts) of immutable values cause a runtime error.\n",
    "### mutable data value\n",
    "A data value which can be modified. The types of all mutable values are compound types. Lists and dictionaries are mutable; strings and tuples are not.\n",
    "\n",
    "\n",
    "## Following are the primary Data Structures that we will study:\n",
    "**1. Strings**\n",
    "Collection of unicode characters. It is indexed and immutable, \"hello world!\"\n",
    "\n",
    "**2. Lists**\n",
    "Collection of elements. It is indexed and mutable. Allows duplicates, \\[10,20,30\\]\n",
    "\n",
    "**3. Tuple**\n",
    "Collection which can be indexed but immutable, (apple, 250)\n",
    "\n",
    "**4. Set**\n",
    "Collection of unordered elements that doesn't allow repetitions, {apple, orange}\n",
    "\n",
    "**5. Dictionary**\n",
    "Collection of Key-Value pairs, {key:value}\n",
    "\n",
    "# Control Flow\n",
    "\n",
    "A program’s control flow is the order in which the program’s code executes. The control flow of a Python program is regulated by conditional statements, loops, and function calls. This section covers the if statement and for and while loops; functions are covered in the next class.\n",
    "\n",
    "![](https://www.researchgate.net/profile/Kay_Smarsly/publication/322509045/figure/fig1/AS:583153716215809@1516046088625/Control-flow-of-elementary-control-structures.png)\n",
    "\n",
    "# The if Statement\n",
    "\n",
    "Often, you need to execute some statements only if some condition holds, or choose statements to execute depending on several mutually exclusive conditions. The Python compound statement if, which uses if, elif, and else clauses, lets you conditionally execute blocks of statements. \n",
    "\n",
    "## Comparision Operators\n",
    "- x == y\n",
    "- x!= y\n",
    "- x < y\n",
    "- x <= y\n",
    "- x > y\n",
    "- x >= y\n",
    "\n",
    "## Python Indentation\n",
    "In Python, the code blocks are defined by a set of common or consistent number of spaces. This is called Python Indentation.\n",
    "\n",
    "The block scope will end at the first un-indented line.\n",
    "\n",
    "The best practice is to use on Tab space."
   ]
  },
  {
   "cell_type": "markdown",
   "id": "ad9209dc",
   "metadata": {},
   "source": [
    "##  Task 1.1: Fizz Buzz\n",
    "Write code to print all the numbers upto a given number \"N\", replacing every multiple of 3 by the word \"fizz\" and multiple of 5 by the word \"buzz\", and multiples of both 3 and 5 by \"fizzbuzz\"\n",
    "\n",
    "For N=7, print the output:\\\n",
    "1 2 fizz 4 buzz fizz 7\n",
    "\n",
    "All the items are printed in the same line"
   ]
  },
  {
   "cell_type": "code",
   "execution_count": null,
   "id": "fddb5db8",
   "metadata": {},
   "outputs": [],
   "source": [
    "max_num = 16\n",
    "\n",
    "for fizzbuzz in range(1, max_num+1):\n",
    "    if fizzbuzz % 3 == 0 and fizzbuzz % 5 == 0:\n",
    "        print(\"fizzbuzz\")\n",
    "        continue\n",
    "    elif fizzbuzz % 3 == 0:\n",
    "        print(\"fizz\")\n",
    "        continue\n",
    "    # complete the remaining section of this block"
   ]
  },
  {
   "cell_type": "markdown",
   "id": "692c0ad4",
   "metadata": {},
   "source": [
    "## Task 1.2: Create a Loan Interest Calculator Using Simple Interest\n",
    "\n",
    "Create a function that takes price, downpayment, rate of interest and time duration (computed yearly). Return the total amount user has to pay due to the interest excluding downpayment."
   ]
  },
  {
   "cell_type": "code",
   "execution_count": null,
   "id": "9b2b0364",
   "metadata": {},
   "outputs": [],
   "source": [
    "def get_amount(price, downpayment, rate, time):\n",
    "    principle = price-downpayment\n",
    "    interest = 0 # what should you write here?\n",
    "    return principle+interest\n",
    "\n",
    "get_amount(1000, 200, 4, 10)"
   ]
  },
  {
   "cell_type": "markdown",
   "id": "f5125609",
   "metadata": {},
   "source": [
    "# Working with Data"
   ]
  },
  {
   "cell_type": "markdown",
   "id": "a8297198",
   "metadata": {},
   "source": [
    "## Task 3: Find average value in a list\n",
    "\n",
    "Make a list of 10 numbers; say, each number represents grade of a student in the class. You can make list as:\n",
    "\n",
    "grades = [6,8,5,3,7,9,8,7,...]\n",
    "\n",
    "Find the average grade of students in the class without using the add symbol."
   ]
  },
  {
   "cell_type": "code",
   "execution_count": null,
   "id": "38ee1c55",
   "metadata": {},
   "outputs": [],
   "source": [
    "grades = [6,8,5,3,7,9,8,7,6,7]\n",
    "average_grades = # write your solution here\n",
    "\n",
    "print (\"Average grade is \"+str(average_grades))"
   ]
  },
  {
   "cell_type": "markdown",
   "id": "1d0ed9dc",
   "metadata": {},
   "source": [
    "## Task 3: Finding values from a Dictionary\n",
    "Make a dictionary with names and grades of 10 students in the class."
   ]
  },
  {
   "cell_type": "code",
   "execution_count": null,
   "id": "ea6c35e4",
   "metadata": {},
   "outputs": [],
   "source": [
    "grades = {\"Brandon\":6, \"Floris\":8, \"Levi\":5, \"Sanne\":3, \"Abdel\":7, \"Mila\":9, \"Daan\":8, \"Sophie\":7, \"Nora\":6, \"Mees\":7 }"
   ]
  },
  {
   "cell_type": "code",
   "execution_count": null,
   "id": "651dd694",
   "metadata": {},
   "outputs": [],
   "source": [
    "for name in grades:\n",
    "    print (name, grades[name])"
   ]
  },
  {
   "cell_type": "markdown",
   "id": "3d03ef4b",
   "metadata": {},
   "source": [
    "Find grades of Floris."
   ]
  },
  {
   "cell_type": "code",
   "execution_count": null,
   "id": "561cdb69",
   "metadata": {},
   "outputs": [],
   "source": [
    " # write your solution here"
   ]
  },
  {
   "cell_type": "markdown",
   "id": "877f88b1",
   "metadata": {},
   "source": [
    "What happens when you try to find grades of a student who is not in the list?"
   ]
  },
  {
   "cell_type": "code",
   "execution_count": null,
   "id": "61cd6c7b",
   "metadata": {},
   "outputs": [],
   "source": [
    "grades[\"Matt\"]"
   ]
  },
  {
   "cell_type": "markdown",
   "id": "74ad0ceb",
   "metadata": {},
   "source": [
    "### Task 3.1: Find name of the student with the highest score.\n",
    "If more than one students have the highest score, you can print any name."
   ]
  },
  {
   "cell_type": "code",
   "execution_count": null,
   "id": "ebeca517",
   "metadata": {},
   "outputs": [],
   "source": [
    "max_score = -1\n",
    "max_student = None\n",
    "\n",
    "for name in grades:\n",
    "     # write your solution here\n",
    "        \n",
    "print (max_student, grades[max_student])"
   ]
  },
  {
   "cell_type": "markdown",
   "id": "e0563077",
   "metadata": {},
   "source": [
    "### Task 3.2: A list of grades of the students is below. Find the average and variance.\n",
    "\n",
    "![](https://www.gstatic.com/education/formulas2/553212783/en/population_standard_deviation.svg)"
   ]
  },
  {
   "cell_type": "code",
   "execution_count": null,
   "id": "c983dac7",
   "metadata": {},
   "outputs": [],
   "source": [
    "grades = [6,8,5,3,7,9,8,7,6,7]\n",
    "\n",
    " # write your solution here"
   ]
  },
  {
   "cell_type": "markdown",
   "id": "8b923c2b",
   "metadata": {},
   "source": [
    "### Task 3.3: Find the Standard Deviation"
   ]
  },
  {
   "cell_type": "code",
   "execution_count": null,
   "id": "a03c5da0",
   "metadata": {},
   "outputs": [],
   "source": [
    "import math\n",
    "\n",
    " # write your solution here"
   ]
  },
  {
   "cell_type": "markdown",
   "id": "fbdb0253",
   "metadata": {},
   "source": [
    "### Discussion: \n",
    "\n",
    "- What does average tell us about the students? \n",
    "- What does the standard deviation tell us?\n",
    "- How can we use mean and standard deviation to analyze the data?"
   ]
  },
  {
   "cell_type": "markdown",
   "id": "6df5e5f7",
   "metadata": {},
   "source": [
    "# What the #%@&\n",
    "\n",
    "## Task 4: Fix the Errors\n",
    "The following piece of code is not running. Can you fix it?"
   ]
  },
  {
   "cell_type": "code",
   "execution_count": null,
   "id": "b6f6d10c",
   "metadata": {},
   "outputs": [],
   "source": [
    "grades = [9,8,2,4,7,9,8,4,6,9]\n",
    "mean = sum(grades)/len(grades)\n",
    "deviations = [(x - mean) ** 2 for x in grades]\n",
    "variance = sum(deviations) / len(grades)\n",
    "std_dev = sqrt(var)\n",
    "print (\"Standard Deviation is \" + std_dev)"
   ]
  },
  {
   "cell_type": "markdown",
   "id": "b243114d",
   "metadata": {},
   "source": [
    "## Example: Statistics of two different lists\n",
    "\n",
    "You are given two lists containing scores of students from two different cities. Find their means, standard deviations.\n",
    "\n",
    "Can you describe your observations?\n",
    "\n"
   ]
  },
  {
   "cell_type": "code",
   "execution_count": null,
   "id": "dd869d57",
   "metadata": {},
   "outputs": [],
   "source": [
    "import math\n",
    "\n",
    "def find_mean(grades):\n",
    "    return sum(grades)/len(grades)\n",
    "\n",
    "def find_std(grades):\n",
    "    mean = find_mean(grades)\n",
    "    deviations = [(x - mean) ** 2 for x in grades]\n",
    "    variance = sum(deviations) / len(grades)\n",
    "    std_dev = math.sqrt(variance)\n",
    "    return std_dev\n",
    "\n",
    "def find_stats(grades):\n",
    "    mean = find_mean(grades)\n",
    "    std = find_std(grades)\n",
    "    return (mean, std)\n",
    "    \n",
    "utrecht_grades = [9,8,2,2,7,9,8,4,8,9]\n",
    "amsterdam_grades = [7,6,7,3,7,9,8,7,6,6]\n",
    "\n",
    "print(\"Utrecht: \\t\"+ str(find_stats(utrecht_grades)))\n",
    "print(\"Amsterdam: \\t\"+ str(find_stats(amsterdam_grades)))    \n",
    "\n",
    "find_mean(utrecht_grades)"
   ]
  },
  {
   "cell_type": "markdown",
   "id": "c9fdf7ca",
   "metadata": {},
   "source": [
    "Combine both the lists into one list. Find mean and std again. You can use the functions we've defined below. Discuss what changed."
   ]
  },
  {
   "cell_type": "code",
   "execution_count": null,
   "id": "dae156c9",
   "metadata": {},
   "outputs": [],
   "source": [
    "all_grades = utrecht_grades + amsterdam_grades\n",
    "\n",
    "print(\"All Students: \\t\"+ str(find_stats(all_grades)))    "
   ]
  },
  {
   "cell_type": "markdown",
   "id": "80dec305",
   "metadata": {},
   "source": [
    "### Visualizing the Distributions"
   ]
  },
  {
   "cell_type": "code",
   "execution_count": null,
   "id": "c33ceba3",
   "metadata": {},
   "outputs": [],
   "source": [
    "import matplotlib.pyplot as plt\n",
    "import numpy as np\n",
    "plt.hist(utrecht_grades, bins=range(1, 11), alpha=0.5, label='Utrecht')\n",
    "plt.show()\n"
   ]
  },
  {
   "cell_type": "code",
   "execution_count": null,
   "id": "b5c4a272",
   "metadata": {},
   "outputs": [],
   "source": [
    "plt.hist(amsterdam_grades, bins=range(1, 11), alpha=0.5, label='Amsterdam')\n",
    "plt.show()"
   ]
  },
  {
   "cell_type": "markdown",
   "id": "a89b057c",
   "metadata": {},
   "source": [
    "# Introduction to Numeric Analysis Tools\n",
    "\n",
    "NumPy, short for Numerical Python, addresses the limitations of traditional Python lists when it comes to numerical computations. Python lists are flexible but lack the optimized structure needed for handling large datasets and performing complex mathematical operations. NumPy bridges this gap by introducing a powerful array object that facilitates vectorized operations and enhances computational efficiency.\n",
    "\n",
    "![https://i1.wp.com/indianaiproduction.com/wp-content/uploads/2019/06/NumPy-array.png?resize=768%2C368&ssl=1](https://i1.wp.com/indianaiproduction.com/wp-content/uploads/2019/06/NumPy-array.png?resize=768%2C368&ssl=1)"
   ]
  },
  {
   "cell_type": "code",
   "execution_count": null,
   "id": "b00c0792",
   "metadata": {},
   "outputs": [],
   "source": [
    "import numpy"
   ]
  },
  {
   "cell_type": "code",
   "execution_count": null,
   "id": "ee6aa34d",
   "metadata": {},
   "outputs": [],
   "source": [
    "grades_array = numpy.array(all_grades)\n",
    "grades_array"
   ]
  },
  {
   "cell_type": "code",
   "execution_count": null,
   "id": "c8d4af04",
   "metadata": {},
   "outputs": [],
   "source": [
    "type(grades_array)"
   ]
  },
  {
   "cell_type": "code",
   "execution_count": null,
   "id": "ec04139f",
   "metadata": {},
   "outputs": [],
   "source": [
    "numpy.max(grades_array)"
   ]
  },
  {
   "cell_type": "markdown",
   "id": "a55b4f6b",
   "metadata": {},
   "source": [
    "## Two Dimensional Arrays"
   ]
  },
  {
   "cell_type": "code",
   "execution_count": null,
   "id": "4d849376",
   "metadata": {},
   "outputs": [],
   "source": [
    "import numpy as np"
   ]
  },
  {
   "cell_type": "code",
   "execution_count": null,
   "id": "ee80625d",
   "metadata": {},
   "outputs": [],
   "source": [
    "ll = [[1,2,3],[4,5.0,6]]\n",
    "\n",
    "arr = np.array(ll)\n",
    "arr.shape\n",
    "type(arr)\n",
    "arr"
   ]
  },
  {
   "cell_type": "code",
   "execution_count": null,
   "id": "cb88ec11",
   "metadata": {},
   "outputs": [],
   "source": [
    "ll = [[1,\"Hi\"],[\"hello\",6]]\n",
    "arr = np.array(ll)\n",
    "arr"
   ]
  },
  {
   "cell_type": "code",
   "execution_count": null,
   "id": "7624daa6",
   "metadata": {},
   "outputs": [],
   "source": [
    "list(range(10,30,2))"
   ]
  },
  {
   "cell_type": "code",
   "execution_count": null,
   "id": "d721e9a5",
   "metadata": {},
   "outputs": [],
   "source": [
    "arr = np.arange(10)\n",
    "arr"
   ]
  },
  {
   "cell_type": "markdown",
   "id": "d040205d",
   "metadata": {},
   "source": [
    "### Special Functions for Creating Arrays"
   ]
  },
  {
   "cell_type": "code",
   "execution_count": null,
   "id": "0c337e7f",
   "metadata": {},
   "outputs": [],
   "source": [
    "np.arange(0.5,10.4,0.8)\n"
   ]
  },
  {
   "cell_type": "code",
   "execution_count": null,
   "id": "2a19fca3",
   "metadata": {},
   "outputs": [],
   "source": [
    "np.ones((3,6))"
   ]
  },
  {
   "cell_type": "code",
   "execution_count": null,
   "id": "7c6b0537",
   "metadata": {},
   "outputs": [],
   "source": [
    "np.zeros((3,3))"
   ]
  },
  {
   "cell_type": "code",
   "execution_count": null,
   "id": "d2944ad8",
   "metadata": {},
   "outputs": [],
   "source": [
    "np.eye(3)"
   ]
  },
  {
   "cell_type": "code",
   "execution_count": null,
   "id": "48f6d08d",
   "metadata": {},
   "outputs": [],
   "source": [
    "np.linspace(3,4,num=9)"
   ]
  },
  {
   "cell_type": "code",
   "execution_count": null,
   "id": "9961b05c",
   "metadata": {},
   "outputs": [],
   "source": [
    "np.random.rand(10,2)"
   ]
  },
  {
   "cell_type": "code",
   "execution_count": null,
   "id": "7d57e36b",
   "metadata": {},
   "outputs": [],
   "source": [
    "np.random.randint(10,20,(3,2))"
   ]
  },
  {
   "cell_type": "markdown",
   "id": "a1154e17",
   "metadata": {},
   "source": [
    "### Indexing, Slicing"
   ]
  },
  {
   "cell_type": "code",
   "execution_count": null,
   "id": "7a5bb1a6",
   "metadata": {},
   "outputs": [],
   "source": [
    "A = np.array(  [  [3.4,8.7,9.9],\n",
    "                [1.1,-7.8,-0.7],\n",
    "                [4.1,12.3,4.8]])\n",
    "A[1]"
   ]
  },
  {
   "cell_type": "code",
   "execution_count": null,
   "id": "34ad9a9e",
   "metadata": {},
   "outputs": [],
   "source": [
    "A[1][2]"
   ]
  },
  {
   "cell_type": "code",
   "execution_count": null,
   "id": "6087a285",
   "metadata": {},
   "outputs": [],
   "source": [
    "arr = np.arange(100)\n",
    "arr[10:30]"
   ]
  },
  {
   "cell_type": "markdown",
   "id": "06f41a03",
   "metadata": {},
   "source": [
    "### Statistics with Numpy"
   ]
  },
  {
   "cell_type": "code",
   "execution_count": null,
   "id": "d75761d2",
   "metadata": {},
   "outputs": [],
   "source": [
    "grades_array.mean()"
   ]
  },
  {
   "cell_type": "code",
   "execution_count": null,
   "id": "cafc533c",
   "metadata": {},
   "outputs": [],
   "source": [
    "grades_array.std()"
   ]
  },
  {
   "cell_type": "markdown",
   "id": "b0f5d546",
   "metadata": {},
   "source": [
    "# Data Analysis\n",
    "\n",
    "\n",
    "\n",
    "## Task 5: Explore and Discuss:\n",
    "Work in pairs/groups. You are given data from an application log of a learning management system. Read data from Pandas dataframe. Look at the structure of the data to understand the format of the data. Download the dataset here: https://studylens.science.uu.nl/media/ovp/userlog.csv\n",
    "\n",
    "You will need to *upload* the dataset so that jupyter notebook can read it, or refer to the absolute path in your system.\n",
    "\n",
    "You will then parse this file to retrieve details about the student that can help you summarize the students' use of the system in a much simpler way. Here're some ideas to get you started:\n",
    "1. What does each column mean? \n",
    "1. What does each action indicate? How to interpret the target?\n",
    "1. What can you extract from action and target? \n",
    "1. How would you process each row iteratively (one by one)?\n",
    "1. How would you process a whole column with one line of code?"
   ]
  },
  {
   "cell_type": "code",
   "execution_count": null,
   "id": "90e1cf08",
   "metadata": {},
   "outputs": [],
   "source": [
    "import pandas as pd\n",
    "filepath = \"C:\\\\Users\\\\Joshi008\\\\OneDrive - Universiteit Utrecht\\\\OVP Python 2024\\\\userlog.csv\"\n",
    "userlog = pd.read_csv(filepath)"
   ]
  },
  {
   "cell_type": "markdown",
   "id": "aa7dbf32",
   "metadata": {},
   "source": [
    "Use .head(), .tail() methods to take a look at the top and bottom rows of the dataset."
   ]
  },
  {
   "cell_type": "code",
   "execution_count": null,
   "id": "5df5fcc4",
   "metadata": {},
   "outputs": [],
   "source": [
    "userlog.head()"
   ]
  },
  {
   "cell_type": "markdown",
   "id": "c41f394c",
   "metadata": {},
   "source": [
    "You can explore the columns using the following:"
   ]
  },
  {
   "cell_type": "code",
   "execution_count": null,
   "id": "4726bb96",
   "metadata": {},
   "outputs": [],
   "source": [
    "for i in range(len(userlog.columns)):\n",
    "    print(userlog.columns[i], userlog.dtypes[i])"
   ]
  },
  {
   "cell_type": "markdown",
   "id": "a78a95f9",
   "metadata": {},
   "source": [
    "What do these mean?"
   ]
  },
  {
   "cell_type": "markdown",
   "id": "8d6b0eab",
   "metadata": {},
   "source": [
    "### Convertime timestamp to a readable format.\n",
    "\n",
    "timestamp is object. This will not be useful unless we convert it to date-time."
   ]
  },
  {
   "cell_type": "code",
   "execution_count": null,
   "id": "c85b1837",
   "metadata": {},
   "outputs": [],
   "source": [
    "pd.to_datetime(userlog['timestamp'], format='%d-%m-%y %H:%M:%S %p')"
   ]
  },
  {
   "cell_type": "code",
   "execution_count": null,
   "id": "2e9b88ff",
   "metadata": {},
   "outputs": [],
   "source": [
    "userlog['timestamp'] = pd.to_datetime(userlog['timestamp'], format='%d-%m-%y %H:%M:%S %p')"
   ]
  },
  {
   "cell_type": "code",
   "execution_count": null,
   "id": "facc84b2",
   "metadata": {},
   "outputs": [],
   "source": [
    "userlog.dtypes"
   ]
  },
  {
   "cell_type": "markdown",
   "id": "75933d3a",
   "metadata": {},
   "source": [
    "The following lines can be used to explore the dataset row by row. It is an easy approach but computationally, it can make your program run slower."
   ]
  },
  {
   "cell_type": "code",
   "execution_count": null,
   "id": "a2d5ea30",
   "metadata": {},
   "outputs": [],
   "source": [
    "# for i, row in userlog.iterrows():\n",
    "#     print (i, row['action'])"
   ]
  },
  {
   "cell_type": "markdown",
   "id": "315f0193",
   "metadata": {},
   "source": [
    "The following line can extract item at 3rd row and 2nd column."
   ]
  },
  {
   "cell_type": "code",
   "execution_count": null,
   "id": "69945360",
   "metadata": {},
   "outputs": [],
   "source": [
    "userlog.iloc[2, 1]"
   ]
  },
  {
   "cell_type": "markdown",
   "id": "723b6f61",
   "metadata": {},
   "source": [
    "### What are all possible actions a user might have taken?"
   ]
  },
  {
   "cell_type": "code",
   "execution_count": null,
   "id": "dc4d5601",
   "metadata": {},
   "outputs": [],
   "source": [
    "userlog.action"
   ]
  },
  {
   "cell_type": "code",
   "execution_count": null,
   "id": "9377dd48",
   "metadata": {},
   "outputs": [],
   "source": [
    "userlog.action.values"
   ]
  },
  {
   "cell_type": "code",
   "execution_count": null,
   "id": "c41a02ec",
   "metadata": {},
   "outputs": [],
   "source": [
    "userlog.action.unique()"
   ]
  },
  {
   "cell_type": "markdown",
   "id": "c1ed6406",
   "metadata": {},
   "source": [
    "## Task 6: Data Preparation\n",
    "Once you understand the basics, you will extract items like:\n",
    "1. How many unique sessions did the student have?\n",
    "1. What were the dates when the user was active? Can you find how many weekends they were active on?\n",
    "1. Did the user load an activity multiple times? Which activities were loaded the most?\n",
    "1. If you find what each \"target\" means, can you separate the number of loaded activities into articles read and videos watched?\n",
    "\n",
    "Hint:\n",
    "\n",
    "Pandas also allows using \"dt\" to access date time objects.\n",
    "```\n",
    "for date in userlog.timestamp.dt.date.unique():\n",
    "    print (date, date.strftime('%A'))\n",
    "```"
   ]
  },
  {
   "cell_type": "code",
   "execution_count": null,
   "id": "4f46b6da",
   "metadata": {},
   "outputs": [],
   "source": []
  },
  {
   "cell_type": "markdown",
   "id": "6979f159",
   "metadata": {},
   "source": []
  },
  {
   "cell_type": "code",
   "execution_count": null,
   "id": "2011ad2b",
   "metadata": {},
   "outputs": [],
   "source": []
  },
  {
   "cell_type": "code",
   "execution_count": null,
   "id": "a07d65ec",
   "metadata": {},
   "outputs": [],
   "source": []
  },
  {
   "cell_type": "markdown",
   "id": "103b072f",
   "metadata": {},
   "source": [
    "# Loading Data In The Real World\n",
    "\n",
    "In this problem, you will use an external API to prepare your dataset. \n",
    "\n",
    "Application Programming Interfaces (APIs) serve as intermediaries that enable communication and interaction between different software applications. APIs define a set of rules and protocols that allow one software system to request and exchange information with another. \n",
    "\n",
    "In Python, utilizing APIs involves sending HTTP requests to a specified endpoint, typically in the form of URLs, and receiving responses in a structured data format such as JSON or XML. To access data through an API, you would use Python libraries like requests to send HTTP requests and handle responses. Once data is retrieved, it can be processed using various Python libraries, such as pandas for data manipulation and analysis. \n",
    "\n",
    "The processing steps may include extracting relevant information, transforming data types, and cleaning the data. Finally, to prepare a single flat file, you can consolidate the processed data into a DataFrame using pandas and export it to a CSV or other flat file format, making it easily accessible for further analysis or sharing with other applications."
   ]
  },
  {
   "cell_type": "markdown",
   "id": "4f345005",
   "metadata": {},
   "source": [
    "### Example of using an API\n",
    "\n",
    "Before we get deeper into our problem, let's begin with a simple API. Take a look at https://restcountries.com/\n",
    "\n",
    "**Requests Module in Python:**\n",
    "\n",
    "The `requests` module in Python is a versatile HTTP library that simplifies the process of making HTTP requests. It provides a convenient API for sending HTTP/1.1 requests, handling response content, and managing various aspects of HTTP communication. The module is widely used for interacting with web APIs and fetching data from the internet. Its simplicity and readability make it a popular choice for HTTP-related tasks. \n",
    "\n",
    "`Requests` eliminates the need for manually handling low-level HTTP operations and provides a high-level interface for common use cases, such as sending GET and POST requests. \n",
    "\n",
    "The alternative to `requests` includes lower-level libraries like `urllib`, but `requests` stands out for its user-friendly syntax and comprehensive functionality. In the background, the `requests` module abstracts the complexities of building and sending HTTP requests, managing sessions, and handling cookies.\n",
    "\n",
    "\n",
    "Usually, you can simply send a GET or a POST request with the following syntax.\n",
    "```\n",
    "import requests\n",
    "response = requests.get(\"http://apiendpoint.com?param=123\")\n",
    "```\n",
    "Then you can process the response to use the data fetched from the API."
   ]
  },
  {
   "cell_type": "markdown",
   "id": "03ba540c",
   "metadata": {},
   "source": [
    "### Example: Get data about a country from the API"
   ]
  },
  {
   "cell_type": "code",
   "execution_count": null,
   "id": "44035c6f",
   "metadata": {},
   "outputs": [],
   "source": [
    "import requests\n",
    "\n",
    "# API endpoint for REST Countries\n",
    "api_endpoint = \"https://restcountries.com/v3.1/name/\"\n",
    "\n",
    "# Country name (replace with the desired country)\n",
    "country_name = \"netherlands\"\n",
    "\n",
    "# Make a request to the API\n",
    "response = requests.get(f\"{api_endpoint}{country_name}\")\n",
    "\n",
    "# Check if the request was successful (status code 200)\n",
    "if response.status_code == 200:\n",
    "    # Parse the JSON response\n",
    "    country_data = response.json()\n",
    "\n",
    "    # Display information about the country\n",
    "    print(\"Country Information:\")\n",
    "    print(\"Name:\", country_data[0]['name']['common'])\n",
    "    print(\"Capital:\", country_data[0]['capital'][0])\n",
    "    print(\"Population:\", country_data[0]['population'])\n",
    "    print(\"Region:\", country_data[0]['region'])\n",
    "else:\n",
    "    print(f\"Error: Unable to retrieve information. Status code: {response.status_code}\")"
   ]
  },
  {
   "cell_type": "markdown",
   "id": "d333401a",
   "metadata": {},
   "source": [
    "# API for Student Information"
   ]
  },
  {
   "cell_type": "markdown",
   "id": "1530a8d3",
   "metadata": {},
   "source": [
    "The API provided by the learning system can be used for obtaining the data. In more complex systems, you will have to register with the data provider and obtain the API key. We have set up an API key for you. \n",
    "```\n",
    "KEY = '20240202OVP'\n",
    "APP = 'ovpexample'\n",
    "```\n",
    "You will provide these along with your request.\n",
    "\n",
    "How the API works:\n",
    "\n",
    "First you will obtain a list of students. This API key authorizes you to access data about a limited list of students. No personal data is shared.\n",
    "\n",
    "Write working on large projects, you will upload your code on a shared repository, which in some cases, might be public. You will store KEY and APP in a separate file or as `environment` variables. For this example, you don't have to worry about that. This API will be disabled after the course."
   ]
  },
  {
   "cell_type": "code",
   "execution_count": null,
   "id": "d36cde2f",
   "metadata": {},
   "outputs": [],
   "source": [
    "import requests\n",
    "\n",
    "api_key = 'YOUR_API_KEY'\n",
    "api_app = 'YOUR_APP'\n",
    "\n",
    "api_endpoint = 'https://studylens.science.uu.nl/ovp/'\n",
    "params = {'appid': api_app, 'key': api_key}\n",
    "\n",
    "response = requests.get(api_endpoint, params=params)\n",
    "\n",
    "if response.status_code == 200:\n",
    "    server_response_data = response.json()\n",
    "    print (server_response_data)\n",
    "else:\n",
    "    print(f\"Error: Unable to retrieve data. Status code: {response.status_code}\")"
   ]
  },
  {
   "cell_type": "markdown",
   "id": "bbfaf060",
   "metadata": {},
   "source": [
    "Here's API specification defined by this software.\n",
    "\n",
    "**Get Student List** `/ovp/students?courseid=401`\n",
    "Get a list of all the students in the course assigned to courseid 401. The response will contain a list of student ids.\n",
    "\n",
    "**Get Student Details** `/ovp/studentrecord?studentid=<STUDENTID>`\n",
    "Get a json object with all the details about student's activities in the system."
   ]
  },
  {
   "cell_type": "markdown",
   "id": "e87c7fcd",
   "metadata": {},
   "source": [
    "### Testing the status of the API"
   ]
  },
  {
   "cell_type": "code",
   "execution_count": null,
   "id": "ef4ecc59",
   "metadata": {},
   "outputs": [],
   "source": [
    "import requests\n",
    "response = requests.get('https://studylens.science.uu.nl/ovp/', params=params)\n",
    "\n",
    "if response.status_code == 200:\n",
    "    server_response_data = response.json()\n",
    "    print (server_response_data)\n",
    "else:\n",
    "    print(f\"Error: Unable to retrieve data. Status code: {response.status_code}\")"
   ]
  },
  {
   "cell_type": "markdown",
   "id": "339b3645",
   "metadata": {},
   "source": [
    "## API Parameters\n",
    "Run the following block of code to prepare the variables we will need to send to the API."
   ]
  },
  {
   "cell_type": "code",
   "execution_count": null,
   "id": "3865cb84",
   "metadata": {},
   "outputs": [],
   "source": [
    "API_ENDPOINT = 'https://studylens.science.uu.nl/ovp/'\n",
    "KEY = ''\n",
    "APP = ''\n",
    "COURSEID = '2024214'"
   ]
  },
  {
   "cell_type": "markdown",
   "id": "5d8f0593",
   "metadata": {},
   "source": [
    "### Task 6.1: Get a list of all the students in this course\n",
    "\n",
    "Fetch a list of all the student ids present in this course. Save it to a list with variable name ```studentids```"
   ]
  },
  {
   "cell_type": "code",
   "execution_count": null,
   "id": "8215c35c",
   "metadata": {},
   "outputs": [],
   "source": [
    "params = {'appid': APP, 'key': KEY, 'courseid':COURSEID}\n",
    "url = api_endpoint+\"/students\"\n",
    "print (url)\n",
    "\n",
    "response = requests.get(url, params=params)\n",
    "\n",
    "print (response.status_code)\n",
    "print (response.json())\n",
    "\n",
    "studentids = # write your solution here"
   ]
  },
  {
   "cell_type": "markdown",
   "id": "eeb47b2a",
   "metadata": {},
   "source": [
    "### Example: First Get details of one student\n",
    "\n",
    "Pick student id, say, 1167799. We will make it work for one student. Once it is ready, we can write a loop to write details of all the students, collect them in a list, and convert it to a dataframe"
   ]
  },
  {
   "cell_type": "code",
   "execution_count": null,
   "id": "a25c70bd",
   "metadata": {},
   "outputs": [],
   "source": [
    "url = api_endpoint+\"/getstudentrecord\"\n",
    "params = {'appid': APP, 'key': KEY, 'studentid':'1167799'}\n",
    "response = requests.get(url, params=params)\n",
    "response.json()"
   ]
  },
  {
   "cell_type": "markdown",
   "id": "d73699fc",
   "metadata": {},
   "source": [
    "### Task 6.2: Collect details of all the students in the course"
   ]
  },
  {
   "cell_type": "code",
   "execution_count": null,
   "id": "202ef3a2",
   "metadata": {},
   "outputs": [],
   "source": [
    "url = api_endpoint+\"getstudentrecord\"\n",
    "\n",
    "student_data = []\n",
    "for student in studentids:\n",
    "    params = {'appid': APP, 'key': KEY, 'studentid':str(student)}\n",
    "    response = requests.get(url, params=params)\n",
    "    \n",
    "    student_data.append( # write your solution here )"
   ]
  },
  {
   "cell_type": "markdown",
   "id": "67038749",
   "metadata": {},
   "source": [
    "### Convert to a dataframe and save as a CSV file\n",
    "\n",
    "It is timeconsuming to approach an API whenever you need a piece of data. It is better to not send request for the same data item multiple times. Some APIs restrict you to the number of requests you can send per hour, or each request might cost something. In some government applications, if you are accessing sensitive data, your API key may be valid only for a short amount of time.\n",
    "\n",
    "Let's convert all the data to a Dataframe, that can be stored as a CSV for the future use."
   ]
  },
  {
   "cell_type": "code",
   "execution_count": null,
   "id": "f3966e22",
   "metadata": {},
   "outputs": [],
   "source": [
    "import pandas as pd\n",
    "df = pd.DataFrame(student_data, columns = ['UserID','FirstLoginDate','UnqDay','UnqWeeknd','NumSessions','UnqArticlesRead','UnqVideosWatched','QuizAttempted','QuizReviewed','ArticlesVisited','VideosWatched','Quiz1','Quiz2','Quiz3','Quiz4','Quiz5','Quiz6','Quiz7','Quiz8','Quiz9','Quiz10','AvgQuizGrade','CourseGrade','FinalResult'])\n",
    "df.to_csv('mydata.csv')"
   ]
  },
  {
   "cell_type": "code",
   "execution_count": null,
   "id": "e100c39d",
   "metadata": {},
   "outputs": [],
   "source": [
    "df = pd.read_csv('mydata.csv')"
   ]
  },
  {
   "cell_type": "markdown",
   "id": "07d12304",
   "metadata": {},
   "source": [
    "# Visualizing the Dataset\n",
    "\n",
    "Visualising and graphing data is an integral part of Data analysis. Visual cues can often convey the information better compared to textual info and more over, more information can also be conveyed using visuals. Visualizing data is useful because it allows us to see relationships in data in a fast and intuitive way. It's especially helpful in exploring data and deciding what to dig into next, because it can point to places where significant patterns might be present.\n",
    "\n",
    "EDA or `Exploratory Data Analysis` is the process of critically analysing data so as to dig out hidden and meaningful insights.\n",
    "- Understanding and gaining insights into the data before moving on to building a model are important tasks.\n",
    "- Understanding each variable and their relationships is also necessary. \n",
    "\n",
    "The following are the major steps:\n",
    "- Visualize the data and gain simple insights.\n",
    "- Perform simple descriptive statistics.\n",
    "- Perform univariate analysis for each variable.\n",
    "- Create derived variables and metrics if necessary.\n",
    "- Find the correlation between the variables.\n"
   ]
  },
  {
   "cell_type": "markdown",
   "id": "75c12e5c",
   "metadata": {},
   "source": [
    "## Univariate Analysis\n",
    "\n",
    "Univariate analysis is the simplest form of data analysis where the data being analyzed contains only one variable. Since it's a single variable it doesn’t deal with causes or relationships.  The main purpose of univariate analysis is to describe the data and find patterns that exist within it.\n",
    "\n",
    "You can think of the variable as a category that your data falls into. One example of a variable in univariate analysis might be \"age\". Another might be \"height\". Univariate analysis would not look at these two variables at the same time, nor would it look at the relationship between them.\n",
    "\n",
    "Some ways you can describe patterns found in univariate data include looking at mean, mode, median, range, variance, maximum, minimum, quartiles, and standard deviation. Additionally, some ways you may display univariate data include frequency distribution tables, bar charts, histograms, frequency polygons, and pie charts.\n",
    "\n",
    "\n",
    "## Bivariate Analysis\n",
    "Bivariate analysis is used to find out if there is a relationship between two different variables. Something as simple as creating a scatterplot by plotting one variable against another on a Cartesian plane (think X and Y axis) can sometimes give you a picture of what the data is trying to tell you. If the data seems to fit a line or curve then there is a relationship or correlation between the two variables.  For example, one might choose to plot caloric intake versus weight.\n",
    "\n",
    "## Multivariate Analysis\n",
    "Multivariate analysis is the analysis of three or more variables.  There are many ways to perform multivariate analysis depending on your goals.\n",
    "\n",
    "This is relatively more complex and requires advanced understanding of statistics and data analysis methods.\n",
    "\n",
    "## Univariate Analysis vs Bivariate Analysis\n",
    "| **Univariate Analysis**                           | **Bivariate Analysis**                                           |\n",
    "|-----------------------------------------------|--------------------------------------------------------------|\n",
    "| Involves a single variable                    | Involves two variables                                       |\n",
    "| Deals with intrinsic property of the data     | Deals with cause and relationships between the two variables |\n",
    "| Major purpose is to describe                  | Major purpose is to explain                                  |\n",
    "| Mean, Median, Mode, Range, Standard Deviation | Correlation, Relationships, Causal Explanations              |"
   ]
  },
  {
   "cell_type": "markdown",
   "id": "ff02d2fd",
   "metadata": {},
   "source": [
    "Classical statistics focused almost exclusively on inference, a sometimes complex set of procedures for drawing conclusions about large populations based on small samples. In 1962, John W. Tukey called for a reformation of statistics in his seminal paper “The Future of Data Analysis”. He proposed a new scientific discipline called data analysis that included statistical inference as just one component. Tukey forged links to the engineering and computer science communities (he coined the terms bit, short for binary digit, and software), and his original tenets are suprisingly durable and form part of the foundation for data science. The field of exploratory data analysis was established with Tukey’s 1977 now-classic book Exploratory Data Analysis\n",
    "\n",
    "People are not very good at looking at a column of numbers or a whole spreadsheet and then determining important characteristics of the data. They find looking at numbers to be tedious, boring, and/or overwhelming. Exploratory data analysis is generally cross-classified in two ways. First, each method is either non-graphical or graphical. And second, each method is either\n",
    "univariate or multivariate (usually just bivariate). Each of the categories of EDA have further divisions based on the role (outcome or explanatory) and type (categorical or quantitative) of the variable(s) being examined."
   ]
  },
  {
   "cell_type": "markdown",
   "id": "a9e351ed",
   "metadata": {},
   "source": [
    "# Understanding the Data"
   ]
  },
  {
   "cell_type": "code",
   "execution_count": null,
   "id": "b1dccb23",
   "metadata": {},
   "outputs": [],
   "source": [
    "import seaborn as sns\n",
    "import pandas as pd\n",
    "\n",
    "df = pd.read_csv('mydata.csv')"
   ]
  },
  {
   "cell_type": "markdown",
   "id": "43ecba8c",
   "metadata": {},
   "source": [
    "### How is Course Grade Distributed"
   ]
  },
  {
   "cell_type": "code",
   "execution_count": null,
   "id": "b1c81cd2",
   "metadata": {},
   "outputs": [],
   "source": [
    "sns.histplot(df['CourseGrade'], color='Green')"
   ]
  },
  {
   "cell_type": "markdown",
   "id": "7cee29c0",
   "metadata": {},
   "source": [
    "### How are the number of sessions Distributed"
   ]
  },
  {
   "cell_type": "code",
   "execution_count": null,
   "id": "bc1c75fc",
   "metadata": {},
   "outputs": [],
   "source": [
    "sns.histplot(df['NumSessions'], color='Green')"
   ]
  },
  {
   "cell_type": "markdown",
   "id": "af85e247",
   "metadata": {},
   "source": [
    "### Boxplot - another look at the distribution"
   ]
  },
  {
   "cell_type": "code",
   "execution_count": null,
   "id": "d73a1dbe",
   "metadata": {},
   "outputs": [],
   "source": [
    "plt.figure(figsize=(12,10))\n",
    "sns.boxplot(y='NumSessions',data=df)\n",
    "plt.xticks(rotation=45)\n",
    "plt.show()\n"
   ]
  },
  {
   "cell_type": "markdown",
   "id": "9443cdf5",
   "metadata": {},
   "source": [
    "### Scatterplot - relationship between two variables\n",
    "\n",
    "Does how many times (sessions) a student logged-in affect their final coursegrade?"
   ]
  },
  {
   "cell_type": "code",
   "execution_count": null,
   "id": "a81018ed",
   "metadata": {},
   "outputs": [],
   "source": [
    "sns.scatterplot(data = df, x='NumSessions', y='CourseGrade')"
   ]
  },
  {
   "cell_type": "markdown",
   "id": "b065e74c",
   "metadata": {},
   "source": [
    "### Heatmap - are some variables correlated with each other?"
   ]
  },
  {
   "cell_type": "code",
   "execution_count": null,
   "id": "c8d199ba",
   "metadata": {},
   "outputs": [],
   "source": [
    "\n",
    "sns.heatmap(df[[\"UnqDay\",\"UnqWeeknd\",\"NumSessions\",\"UnqArticlesRead\",\"UnqVideosWatched\",\"QuizAttempted\",\"QuizReviewed\"]].corr(), cmap='Blues', annot =True )"
   ]
  }
 ],
 "metadata": {
  "kernelspec": {
   "display_name": "Python 3 (ipykernel)",
   "language": "python",
   "name": "python3"
  },
  "language_info": {
   "codemirror_mode": {
    "name": "ipython",
    "version": 3
   },
   "file_extension": ".py",
   "mimetype": "text/x-python",
   "name": "python",
   "nbconvert_exporter": "python",
   "pygments_lexer": "ipython3",
   "version": "3.8.8"
  }
 },
 "nbformat": 4,
 "nbformat_minor": 5
}
