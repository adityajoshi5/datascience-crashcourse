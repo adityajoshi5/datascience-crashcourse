{
 "cells": [
  {
   "cell_type": "markdown",
   "id": "224022ac",
   "metadata": {},
   "source": [
    "# Python and Data Science\n",
    "\n",
    "Python is open source, interpreted, high level language and provides great approach for object-oriented programming. It is one of the best language used by data scientist for various data science projects/application. Python provide great functionality to deal with mathematics, statistics and scientific function. It provides great libraries to deals with data science application.\n",
    "\n",
    "One of the main reasons why Python is widely used in the scientific and research communities is because of its ease of use and simple syntax which makes it easy to adapt for people who do not have an engineering background. It is also more suited for quick prototyping.\n",
    "\n",
    "![](https://www.brsoftech.com/blog/wp-content/uploads/2019/11/most-in-demand-programming-languages-2020.png)\n",
    "\n",
    "# Is Python a New Language?\n",
    "\n",
    "Python was first released in 1991. It was created by Guido van Rossum as a hobby project. \n",
    "\n",
    "It was named after a comedy TV series.\n",
    "\n",
    "![Monty Python](https://upload.wikimedia.org/wikipedia/en/c/cd/Monty_Python%27s_Flying_Circus_Title_Card.png)\n",
    "\n",
    "# Computing for Everybody\n",
    "As python was becoming popular, Van Rossum submitted a funding proposal to DARPA called \"Computer Programming for Everybody\", in which he further defined his goals for Python:\n",
    "- An easy and intuitive language just as powerful as major competitors\n",
    "- Open source, so anyone can contribute to its development\n",
    "- Code that is as understandable as plain English\n",
    "- Suitability for everyday tasks, allowing for short development times\n",
    "\n",
    "> In 2018, Python was the third most popular language on GitHub, a social coding website, behind JavaScript and Java.\n",
    "\n",
    "According to a programming language popularity survey it is consistently among the top 10 most mentioned languages in job postings. Furthermore, Python has been among the 10 most popular programming languages every year since 2004 according to the TIOBE Programming Community Index.\n",
    "\n",
    "# The Zen of Python\n",
    "\n",
    "The Zen of Python is a collection of 19 \"guiding principles\" for writing computer programs that influence the design of the Python programming language. Software engineer Tim Peters wrote this set of principles and posted it on the Python mailing list in 1999. Peters's list left open a 20th principle \"for Guido to fill in\", referring to Guido van Rossum, the original author of the Python language. The vacancy for a 20th principle has not been filled.\n",
    "\n",
    "- Beautiful is better than ugly.\n",
    "- Explicit is better than implicit.\n",
    "- Simple is better than complex.\n",
    "- Complex is better than complicated.\n",
    "- Flat is better than nested.\n",
    "- Sparse is better than dense.\n",
    "- Readability counts.\n",
    "- Special cases aren't special enough to break the rules.\n",
    "- Although practicality beats purity.\n",
    "- Errors should never pass silently.\n",
    "- Unless explicitly silenced.\n",
    "- In the face of ambiguity, refuse the temptation to guess.\n",
    "- There should be one—and preferably only one—obvious way to do it.\n",
    "- Although that way may not be obvious at first unless you're Dutch.\n",
    "- Now is better than never.\n",
    "- Although never is often better than right now.\n",
    "- If the implementation is hard to explain, it's a bad idea.\n",
    "- If the implementation is easy to explain, it may be a good idea.\n",
    "- Namespaces are one honking great idea—let's do more of those!"
   ]
  },
  {
   "cell_type": "markdown",
   "id": "5a71ece0",
   "metadata": {},
   "source": [
    "### Getting Started\n",
    "\n",
    "Following line prints a message. To execute this line, select the line below and do one of the following:\n",
    "1. Click the RUN button on the top\n",
    "1. On the menubar on the top, click CELL > RUN CELLS\n",
    "1. Press Ctrl + ENTER on the keyboard"
   ]
  },
  {
   "cell_type": "code",
   "execution_count": 1,
   "id": "6aa1e82b",
   "metadata": {},
   "outputs": [
    {
     "name": "stdout",
     "output_type": "stream",
     "text": [
      "This is Python!\n"
     ]
    }
   ],
   "source": [
    "print (\"This is Python!\")"
   ]
  },
  {
   "cell_type": "markdown",
   "id": "85993e93",
   "metadata": {},
   "source": [
    "Try to write a line yourself below. You can add an empty block of code using the following:\n",
    "1. Click INSERT > INSERT CELL BELOW\n",
    "1. Press ESC key on the keyboard to enter the command mode. The color on the left will change. Then press 'b' to add a cell 'below'\n",
    "\n",
    "Write a statement that asks user their name and prints Hello NAME."
   ]
  },
  {
   "cell_type": "code",
   "execution_count": 2,
   "id": "e8f0baef-846c-4153-8b1a-955f85847ef5",
   "metadata": {},
   "outputs": [
    {
     "name": "stdin",
     "output_type": "stream",
     "text": [
      "What is your name? Aditya\n"
     ]
    },
    {
     "name": "stdout",
     "output_type": "stream",
     "text": [
      "Hello Aditya\n"
     ]
    }
   ],
   "source": [
    "username = input(\"What is your name?\")\n",
    "print (\"Hello \"+username)"
   ]
  },
  {
   "cell_type": "markdown",
   "id": "daa6a5ce-27aa-4cec-9626-963f342d0293",
   "metadata": {},
   "source": [
    "### Output in Jupyter Notebook"
   ]
  },
  {
   "cell_type": "code",
   "execution_count": 3,
   "id": "4618bc4e-5192-4b17-a7d6-699ee9ae482e",
   "metadata": {},
   "outputs": [
    {
     "data": {
      "text/plain": [
       "'This is Python!'"
      ]
     },
     "execution_count": 3,
     "metadata": {},
     "output_type": "execute_result"
    }
   ],
   "source": [
    "\"This is Python!\""
   ]
  },
  {
   "cell_type": "markdown",
   "id": "e6a8e44f-3168-4f23-bcc0-0368739c2d15",
   "metadata": {},
   "source": [
    "Jupyter notebook automatically prints the last object of a cell in the output. In the previous line, we created a string object - though we did not give it a name. Jupyter Notebook immediately prints the value of the object."
   ]
  },
  {
   "cell_type": "code",
   "execution_count": 4,
   "id": "80867afa-18d4-433b-bafd-0b95ebe2ec6e",
   "metadata": {},
   "outputs": [
    {
     "data": {
      "text/plain": [
       "5"
      ]
     },
     "execution_count": 4,
     "metadata": {},
     "output_type": "execute_result"
    }
   ],
   "source": [
    "myval = 5\n",
    "\n",
    "myval"
   ]
  },
  {
   "cell_type": "markdown",
   "id": "e782223a",
   "metadata": {},
   "source": [
    "What does the next piece of code do?"
   ]
  },
  {
   "cell_type": "code",
   "execution_count": 5,
   "id": "cf1690df",
   "metadata": {},
   "outputs": [
    {
     "name": "stdout",
     "output_type": "stream",
     "text": [
      "B is greater\n"
     ]
    }
   ],
   "source": [
    "a = 10\n",
    "b = 15\n",
    "\n",
    "if b > a:\n",
    "    print(\"B is greater\")"
   ]
  },
  {
   "cell_type": "code",
   "execution_count": null,
   "id": "956b680f-d174-40dc-af8b-5e32591ad3ca",
   "metadata": {},
   "outputs": [],
   "source": []
  },
  {
   "cell_type": "code",
   "execution_count": 6,
   "id": "30c5b36d",
   "metadata": {},
   "outputs": [
    {
     "name": "stdout",
     "output_type": "stream",
     "text": [
      "I eat Apple\n",
      "I eat Banana\n",
      "I eat Mango\n"
     ]
    }
   ],
   "source": [
    "fruits = [\"Apple\", \"Banana\", \"Mango\"]\n",
    "\n",
    "for fruit in fruits:\n",
    "    print (\"I eat \"+fruit) "
   ]
  },
  {
   "cell_type": "code",
   "execution_count": null,
   "id": "4823e3b2-3bdd-45a5-90c5-f20a7deb12de",
   "metadata": {},
   "outputs": [],
   "source": []
  },
  {
   "cell_type": "markdown",
   "id": "3bb39292-84e6-477b-8797-462030e37f2c",
   "metadata": {},
   "source": [
    "## Arithmetic Operations"
   ]
  },
  {
   "cell_type": "code",
   "execution_count": 7,
   "id": "d105736f-62e3-410c-baf3-6a942da60c3d",
   "metadata": {},
   "outputs": [],
   "source": [
    "a = 5\n",
    "b = 3"
   ]
  },
  {
   "cell_type": "code",
   "execution_count": 8,
   "id": "edcf370b-b4cb-4ea3-a8a2-cf0b967cfdb0",
   "metadata": {},
   "outputs": [
    {
     "name": "stdout",
     "output_type": "stream",
     "text": [
      "a + b =  8\n",
      "a - b =  2\n",
      "a * b =  15\n",
      "a / b =  1.6666666666666667\n",
      "a ** b =  125\n",
      "a // b =  1\n"
     ]
    }
   ],
   "source": [
    "c = a + b\n",
    "print (\"a + b = \", c)\n",
    "\n",
    "d = a - b\n",
    "print (\"a - b = \", d)\n",
    "\n",
    "e = a * b\n",
    "print (\"a * b = \", e)\n",
    "\n",
    "f = a/b\n",
    "print (\"a / b = \", f)\n",
    "\n",
    "g = a**b # Power\n",
    "print (\"a ** b = \", g)\n",
    "\n",
    "h = a//b # Integer division\n",
    "print (\"a // b = \", h)"
   ]
  },
  {
   "cell_type": "markdown",
   "id": "1319ad3e-4edc-4b92-b766-dafbc8a185de",
   "metadata": {},
   "source": [
    "In Jupyter, the objects are stored throughout the notebook. "
   ]
  },
  {
   "cell_type": "code",
   "execution_count": 9,
   "id": "4a211aef-b51c-4a0c-afcb-4ddcab6f288d",
   "metadata": {},
   "outputs": [
    {
     "data": {
      "text/plain": [
       "1"
      ]
     },
     "execution_count": 9,
     "metadata": {},
     "output_type": "execute_result"
    }
   ],
   "source": [
    "h"
   ]
  },
  {
   "cell_type": "code",
   "execution_count": 10,
   "id": "822fbb7d-56ff-4201-a8ba-a3b9f96ba5fb",
   "metadata": {},
   "outputs": [],
   "source": [
    "a = 1"
   ]
  },
  {
   "cell_type": "markdown",
   "id": "21ce3297-64cb-4ed6-b0a9-a49f0043f103",
   "metadata": {},
   "source": [
    "If you run the previous block with arithmatic operators again, you will see that the numbers have changed because the value of `a` has been updated."
   ]
  },
  {
   "cell_type": "markdown",
   "id": "b0a18a4e",
   "metadata": {},
   "source": [
    "# What is Anaconda?\n",
    "\n",
    "Anaconda is a free and open-source distribution of the Python and R programming languages for scientific computing (data science, machine learning applications, large-scale data processing, predictive analytics, etc.), that aims to simplify package management and deployment. \n",
    "\n",
    "There are several alternatives, however Anaconda is the most popular due to simplicity of managing the python components.\n",
    "\n",
    "Jupyter Notebook (formerly IPython Notebooks) is a web-based interactive computational environment for creating Jupyter notebook documents. The \"notebook\" term can colloquially make reference to many different entities, mainly the Jupyter web application, Jupyter Python web server, or Jupyter document format."
   ]
  },
  {
   "cell_type": "markdown",
   "id": "08368e80",
   "metadata": {},
   "source": [
    "# Markdown\n",
    "\n",
    "You can edit this block to see how it is formatted. Double-click anywhere on this text to activate.\n",
    "\n",
    "This is text. This is not python code. This will not run. \n",
    "\n",
    "But this will be displayed properly.\n",
    "\n",
    "# This is a heading\n",
    "\n",
    "## This is a smaller heading\n",
    "\n",
    "### This is an even smaller heading\n"
   ]
  },
  {
   "cell_type": "markdown",
   "id": "1a3ba107",
   "metadata": {},
   "source": [
    "\n",
    "Here're the reasons why you should use markdown cells:\n",
    "1. It makes your notes look better\n",
    "1. It helps other programmers understand what you are doing"
   ]
  },
  {
   "cell_type": "markdown",
   "id": "dd93c688",
   "metadata": {},
   "source": [
    "# Comments in Python\n",
    "\n",
    "Comments are used to explain the code, make notes to help other programmers, or make notes for future scope.\n",
    "They are mostly used to make code readable.\n",
    "\n",
    "They are part of the code, not the markdown."
   ]
  },
  {
   "cell_type": "code",
   "execution_count": 11,
   "id": "d92efa7c",
   "metadata": {},
   "outputs": [
    {
     "name": "stdout",
     "output_type": "stream",
     "text": [
      "Hello World!\n",
      "14\n",
      "The end!\n"
     ]
    }
   ],
   "source": [
    "print (\"Hello World!\") # This is a string statement\n",
    "print (5+9) # This is a number\n",
    "print ('The end!') # Bye"
   ]
  },
  {
   "cell_type": "code",
   "execution_count": 12,
   "id": "9515cc7c",
   "metadata": {},
   "outputs": [
    {
     "name": "stdout",
     "output_type": "stream",
     "text": [
      "The answer is 15\n"
     ]
    }
   ],
   "source": [
    "def add_nums_and_print(num1, num2):\n",
    "    \"\"\"\n",
    "    This function adds two numbers and prints the sum\n",
    "    Parameters:\n",
    "    num1: firstnumber\n",
    "    num2: second number\n",
    "    Returns: Sum of the two numbers\n",
    "    \"\"\"\n",
    "    ans = num1+num2\n",
    "    print (\"The answer is \"+str(ans))\n",
    "    \n",
    "add_nums_and_print(5,10)"
   ]
  },
  {
   "cell_type": "markdown",
   "id": "805b17bf",
   "metadata": {},
   "source": [
    "In Python, you can use the help() function to see the details of the function."
   ]
  },
  {
   "cell_type": "code",
   "execution_count": 13,
   "id": "1ea78edf",
   "metadata": {},
   "outputs": [
    {
     "name": "stdout",
     "output_type": "stream",
     "text": [
      "Help on built-in function print in module builtins:\n",
      "\n",
      "print(*args, sep=' ', end='\\n', file=None, flush=False)\n",
      "    Prints the values to a stream, or to sys.stdout by default.\n",
      "\n",
      "    sep\n",
      "      string inserted between values, default a space.\n",
      "    end\n",
      "      string appended after the last value, default a newline.\n",
      "    file\n",
      "      a file-like object (stream); defaults to the current sys.stdout.\n",
      "    flush\n",
      "      whether to forcibly flush the stream.\n",
      "\n"
     ]
    }
   ],
   "source": [
    "help(print)"
   ]
  },
  {
   "cell_type": "markdown",
   "id": "37890a89",
   "metadata": {},
   "source": [
    "# Five Minute Python Refresher\n",
    "\n",
    "Python is an interpreted, object-oriented, high-level programming language with dynamic semantics. Its high-level built in data structures, combined with dynamic typing and dynamic binding, make it very attractive for Rapid Application Development, as well as for use as a scripting or glue language to connect existing components together. "
   ]
  },
  {
   "cell_type": "markdown",
   "id": "e054a0a3",
   "metadata": {},
   "source": [
    "# Data Structures\n",
    "\n",
    "### data structure\n",
    "An organization of data for the purpose of making it easier to use.\n",
    "### immutable data value\n",
    "A data value which cannot be modified. Assignments to elements or slices (sub-parts) of immutable values cause a runtime error.\n",
    "### mutable data value\n",
    "A data value which can be modified. The types of all mutable values are compound types. Lists and dictionaries are mutable; strings and tuples are not.\n",
    "\n",
    "\n",
    "## Following are the primary Data Structures that we will study:\n",
    "**1. Strings**\n",
    "Collection of unicode characters. It is indexed and immutable, \"hello world!\"\n",
    "\n",
    "**2. Lists**\n",
    "Collection of elements. It is indexed and mutable. Allows duplicates, \\[10,20,30\\]\n",
    "\n",
    "**3. Tuple**\n",
    "Collection which can be indexed but immutable, (apple, 250)\n",
    "\n",
    "**4. Set**\n",
    "Collection of unordered elements that doesn't allow repetitions, {apple, orange}\n",
    "\n",
    "**5. Dictionary**\n",
    "Collection of Key-Value pairs, {key:value}\n",
    "\n",
    "# Control Flow\n",
    "\n",
    "A program’s control flow is the order in which the program’s code executes. The control flow of a Python program is regulated by conditional statements, loops, and function calls. This section covers the if statement and for and while loops; functions are covered in the next class.\n",
    "\n",
    "![](https://www.researchgate.net/profile/Kay_Smarsly/publication/322509045/figure/fig1/AS:583153716215809@1516046088625/Control-flow-of-elementary-control-structures.png)\n",
    "\n",
    "# The if Statement\n",
    "\n",
    "Often, you need to execute some statements only if some condition holds, or choose statements to execute depending on several mutually exclusive conditions. The Python compound statement if, which uses if, elif, and else clauses, lets you conditionally execute blocks of statements. \n",
    "\n",
    "## Comparision Operators\n",
    "- x == y\n",
    "- x!= y\n",
    "- x < y\n",
    "- x <= y\n",
    "- x > y\n",
    "- x >= y\n",
    "\n",
    "## Python Indentation\n",
    "In Python, the code blocks are defined by a set of common or consistent number of spaces. This is called Python Indentation.\n",
    "\n",
    "The block scope will end at the first un-indented line.\n",
    "\n",
    "The best practice is to use on Tab space."
   ]
  },
  {
   "cell_type": "code",
   "execution_count": 14,
   "id": "6badd474-fc9c-47f2-be4e-7572cfa2785d",
   "metadata": {},
   "outputs": [
    {
     "name": "stdout",
     "output_type": "stream",
     "text": [
      "The number is: 1\n",
      "The number is: 2\n",
      "The number is: 3\n",
      "The number is: 4\n"
     ]
    }
   ],
   "source": [
    "for number in (1,2,3,4):\n",
    "    print (\"The number is: \"+ str(number))"
   ]
  },
  {
   "cell_type": "code",
   "execution_count": 15,
   "id": "c3c64c1b-5f08-4e82-821f-503807649632",
   "metadata": {},
   "outputs": [
    {
     "name": "stdout",
     "output_type": "stream",
     "text": [
      "hi\n",
      "1\n",
      "hi\n",
      "2\n",
      "hi\n",
      "3\n",
      "hi\n",
      "4\n"
     ]
    }
   ],
   "source": [
    "for number in (1,2,3,4):\n",
    "    print (\"hi\")\n",
    "    print (number)"
   ]
  },
  {
   "cell_type": "code",
   "execution_count": 16,
   "id": "eb934b27-fe77-4fae-b2d7-41744c7a1fab",
   "metadata": {},
   "outputs": [
    {
     "name": "stdout",
     "output_type": "stream",
     "text": [
      "hi\n",
      "hi\n",
      "hi\n",
      "hi\n",
      "4\n"
     ]
    }
   ],
   "source": [
    "for number in (1,2,3,4):\n",
    "    print (\"hi\")\n",
    "print (number)"
   ]
  },
  {
   "cell_type": "code",
   "execution_count": null,
   "id": "8c8845dc-ac5f-4f06-a53d-edd4cee55eca",
   "metadata": {},
   "outputs": [],
   "source": []
  },
  {
   "cell_type": "markdown",
   "id": "0b785cb0-ee56-4b0f-b7ee-ff4c646ace23",
   "metadata": {},
   "source": [
    "## Preparing for the First Challenge\n",
    "\n",
    "You can stack logic using a ladder of `if` and `elif` to check for multiple conditions. \n",
    "\n",
    "Modify the following code to print \"*It is cold*\" when the temperature is between 0 and 9 degere, and \"It is chilling\" when it is below 0."
   ]
  },
  {
   "cell_type": "code",
   "execution_count": 17,
   "id": "f2a64af9-9c88-497c-8bbb-d9b0de4a7c02",
   "metadata": {},
   "outputs": [
    {
     "name": "stdout",
     "output_type": "stream",
     "text": [
      "It is warm\n"
     ]
    }
   ],
   "source": [
    "temperature = 26\n",
    "\n",
    "if temperature >= 25:\n",
    "    print (\"It is warm\")\n",
    "elif temperature>=10:\n",
    "    print (\"It is moderate\")\n",
    "else:\n",
    "    print (\"It is cold\")"
   ]
  },
  {
   "cell_type": "code",
   "execution_count": null,
   "id": "a47e30d4-4c4c-4fd6-897c-16c4916b9951",
   "metadata": {},
   "outputs": [],
   "source": []
  },
  {
   "cell_type": "markdown",
   "id": "ad9209dc",
   "metadata": {},
   "source": [
    "##  Task 1.1: Fizz Buzz\n",
    "Write code to print all the numbers upto a given number \"N\", replacing every multiple of 3 by the word \"fizz\" and multiple of 5 by the word \"buzz\", and multiples of both 3 and 5 by \"fizzbuzz\"\n",
    "\n",
    "For N=7, print the output:\\\n",
    "1 2 fizz 4 buzz fizz 7\n",
    "\n",
    "All the items are printed in the same line\n",
    "\n",
    "#### Hint:\n",
    "In python, the modulus operator (%) returns the remainder of a division operation. \n",
    "\n",
    "`13 / 5` returns 2.6, while `13 % 5` returns 3, which is the remainder when you divide 13 with 5."
   ]
  },
  {
   "cell_type": "code",
   "execution_count": 18,
   "id": "ad414c26-0892-4824-ae3c-8b18be0cad43",
   "metadata": {},
   "outputs": [
    {
     "data": {
      "text/plain": [
       "2.6"
      ]
     },
     "execution_count": 18,
     "metadata": {},
     "output_type": "execute_result"
    }
   ],
   "source": [
    "13/5"
   ]
  },
  {
   "cell_type": "code",
   "execution_count": 19,
   "id": "fddb5db8",
   "metadata": {},
   "outputs": [
    {
     "name": "stdout",
     "output_type": "stream",
     "text": [
      "1\n",
      "2\n",
      "fizz\n",
      "4\n",
      "buzz\n",
      "fizz\n",
      "7\n",
      "8\n",
      "fizz\n",
      "buzz\n",
      "11\n",
      "fizz\n",
      "13\n",
      "14\n",
      "fizzbuzz\n",
      "16\n"
     ]
    }
   ],
   "source": [
    "max_num = 16\n",
    "\n",
    "for fizzbuzz in range(1, max_num+1):\n",
    "    if fizzbuzz % 3 == 0 and fizzbuzz % 5 == 0:\n",
    "        print(\"fizzbuzz\")\n",
    "        continue\n",
    "    elif fizzbuzz % 3 == 0:\n",
    "        print(\"fizz\")\n",
    "        continue\n",
    "    elif fizzbuzz % 5 == 0:\n",
    "        print(\"buzz\")\n",
    "        continue\n",
    "    print(fizzbuzz)"
   ]
  },
  {
   "cell_type": "markdown",
   "id": "692c0ad4",
   "metadata": {},
   "source": [
    "## Task 1.2: Create a Loan Interest Calculator Using Simple Interest\n",
    "\n",
    "\n",
    "The following piece of code computes simple interest based on the principle amount, rate of interest, and time duration. It prints the total amount to be paid due to the interest excluding downpayment. "
   ]
  },
  {
   "cell_type": "code",
   "execution_count": 20,
   "id": "cf15c3cf-c573-4e31-b033-ab376a5ebb97",
   "metadata": {},
   "outputs": [
    {
     "name": "stdout",
     "output_type": "stream",
     "text": [
      "Amount to be paid:  1125.0\n"
     ]
    }
   ],
   "source": [
    "price = 1000\n",
    "downpayment = 100\n",
    "rate = 5\n",
    "time = 5\n",
    "\n",
    "principle = price-downpayment\n",
    "interest = principle * rate * time /100\n",
    "amount = principle + interest\n",
    "print (\"Amount to be paid: \", amount) "
   ]
  },
  {
   "cell_type": "markdown",
   "id": "184f7506-b9dc-4b69-bd7c-2dc0b6087691",
   "metadata": {},
   "source": [
    "## Task 1.3: Convert this logic to a function that takes price, downpayment, rate of interest and time duration (computed yearly). Return the total amount user has to pay due to the interest excluding downpayment."
   ]
  },
  {
   "cell_type": "code",
   "execution_count": 21,
   "id": "9b2b0364",
   "metadata": {},
   "outputs": [
    {
     "data": {
      "text/plain": [
       "1120.0"
      ]
     },
     "execution_count": 21,
     "metadata": {},
     "output_type": "execute_result"
    }
   ],
   "source": [
    "def get_amount(price, downpayment, rate, time):\n",
    "    principle = price-downpayment\n",
    "    interest = principle * rate * time /100\n",
    "    return principle+interest\n",
    "\n",
    "get_amount(1000, 200, 4, 10)"
   ]
  },
  {
   "cell_type": "code",
   "execution_count": null,
   "id": "a8ed0d3d-cfb3-412b-be5a-c77d079219fc",
   "metadata": {},
   "outputs": [],
   "source": []
  },
  {
   "cell_type": "markdown",
   "id": "0f19ddf4-c5ac-4402-a984-9933a36f6176",
   "metadata": {},
   "source": [
    "## Task 1.4: Ask the user to write the answer to a simple question. Repeatedly ask it till the user gives the correct answer."
   ]
  },
  {
   "cell_type": "code",
   "execution_count": 22,
   "id": "1a6ba1b5-8ba4-4960-a320-e25b2b33052b",
   "metadata": {},
   "outputs": [
    {
     "name": "stdin",
     "output_type": "stream",
     "text": [
      "What is 15 x 5 - 10 ? 52\n"
     ]
    },
    {
     "name": "stdout",
     "output_type": "stream",
     "text": [
      "That was not right\n"
     ]
    },
    {
     "name": "stdin",
     "output_type": "stream",
     "text": [
      "What is 15 x 5 - 10 ? 65\n"
     ]
    },
    {
     "name": "stdout",
     "output_type": "stream",
     "text": [
      "You got it right\n"
     ]
    }
   ],
   "source": [
    "num1 = 15\n",
    "num2 = 5\n",
    "\n",
    "correct_answer = num1*num2-10\n",
    "user_answer = None\n",
    "\n",
    "while (user_answer != correct_answer):\n",
    "    question = f\"What is {num1} x {num2} - 10 ?\"\n",
    "    user_answer = int (input (question))\n",
    "\n",
    "    if (user_answer == correct_answer):\n",
    "        print (\"You got it right\")\n",
    "    else:\n",
    "        print (\"That was not right\")"
   ]
  },
  {
   "cell_type": "code",
   "execution_count": null,
   "id": "5dfd6e3b-d873-4de6-9ec1-f414a1579f6b",
   "metadata": {},
   "outputs": [],
   "source": []
  },
  {
   "cell_type": "markdown",
   "id": "f5125609",
   "metadata": {},
   "source": [
    "# Working with Data"
   ]
  },
  {
   "cell_type": "markdown",
   "id": "a8297198",
   "metadata": {},
   "source": [
    "## Task 2: Find average value in a list\n",
    "\n",
    "Make a list of 10 numbers; say, each number represents grade of a student in the class. You can make list as:\n",
    "\n",
    "grades = [6,8,5,3,7,9,8,7,...]\n",
    "\n",
    "Find the average grade of students in the class without using the add symbol."
   ]
  },
  {
   "cell_type": "code",
   "execution_count": 23,
   "id": "95f632fa-8ef7-4cda-ae23-729e679d73fa",
   "metadata": {},
   "outputs": [],
   "source": [
    "grades = [6,8,5,3,7,9,8,7,6,7]"
   ]
  },
  {
   "cell_type": "markdown",
   "id": "94390c88-4bcf-4a88-9d75-bee20949655e",
   "metadata": {},
   "source": [
    "### Boring Solution"
   ]
  },
  {
   "cell_type": "code",
   "execution_count": 24,
   "id": "d700bd82-c35d-4548-8180-189b794f8991",
   "metadata": {},
   "outputs": [
    {
     "name": "stdout",
     "output_type": "stream",
     "text": [
      "Average grade is 6.6\n"
     ]
    }
   ],
   "source": [
    "total = 0 \n",
    "numbers = 0\n",
    "\n",
    "for grade in grades:\n",
    "    total = total + grade\n",
    "    numbers = numbers + 1\n",
    "\n",
    "average_grade = total/numbers\n",
    "print (\"Average grade is \"+ str(average_grade))\n",
    "    "
   ]
  },
  {
   "cell_type": "markdown",
   "id": "3ae148c7-2488-4887-8d23-a479b38ee71b",
   "metadata": {},
   "source": [
    "### Good Solution"
   ]
  },
  {
   "cell_type": "code",
   "execution_count": 25,
   "id": "38ee1c55",
   "metadata": {},
   "outputs": [
    {
     "name": "stdout",
     "output_type": "stream",
     "text": [
      "Average grade is 6.6\n"
     ]
    }
   ],
   "source": [
    "average_grades = sum(grades)/len(grades)\n",
    "\n",
    "print (\"Average grade is \"+str(average_grades))"
   ]
  },
  {
   "cell_type": "markdown",
   "id": "e950ae33-4117-4203-97b8-a3135a3c5969",
   "metadata": {},
   "source": [
    "### Rockstar Solution"
   ]
  },
  {
   "cell_type": "code",
   "execution_count": 26,
   "id": "33d7b35d-917b-44f3-aac0-382eb994400b",
   "metadata": {},
   "outputs": [
    {
     "name": "stdout",
     "output_type": "stream",
     "text": [
      "Average grade is  6.6\n"
     ]
    }
   ],
   "source": [
    "import numpy\n",
    "\n",
    "print (\"Average grade is \", numpy.mean(grades))"
   ]
  },
  {
   "cell_type": "code",
   "execution_count": null,
   "id": "a63a86d1-8dae-4a51-9860-6fdb7880ddcd",
   "metadata": {},
   "outputs": [],
   "source": []
  },
  {
   "cell_type": "markdown",
   "id": "1d0ed9dc",
   "metadata": {},
   "source": [
    "## Task 3: Finding values from a Dictionary\n",
    "Make a dictionary with names and grades of 10 students in the class."
   ]
  },
  {
   "cell_type": "code",
   "execution_count": 27,
   "id": "ea6c35e4",
   "metadata": {},
   "outputs": [],
   "source": [
    "grades = {\"Brandon\":6, \"Floris\":8, \"Levi\":5, \"Sanne\":3, \"Abdel\":7, \"Mila\":9, \"Daan\":8, \"Sophie\":7, \"Nora\":9, \"Mees\":7 }"
   ]
  },
  {
   "cell_type": "code",
   "execution_count": 28,
   "id": "651dd694",
   "metadata": {},
   "outputs": [
    {
     "name": "stdout",
     "output_type": "stream",
     "text": [
      "Brandon 6\n",
      "Floris 8\n",
      "Levi 5\n",
      "Sanne 3\n",
      "Abdel 7\n",
      "Mila 9\n",
      "Daan 8\n",
      "Sophie 7\n",
      "Nora 9\n",
      "Mees 7\n"
     ]
    }
   ],
   "source": [
    "for name in grades:\n",
    "    print (name, grades[name])"
   ]
  },
  {
   "cell_type": "code",
   "execution_count": 29,
   "id": "561cdb69",
   "metadata": {},
   "outputs": [
    {
     "data": {
      "text/plain": [
       "8"
      ]
     },
     "execution_count": 29,
     "metadata": {},
     "output_type": "execute_result"
    }
   ],
   "source": [
    "grades[\"Floris\"]"
   ]
  },
  {
   "cell_type": "markdown",
   "id": "877f88b1",
   "metadata": {},
   "source": [
    "What happens when you try to find grades of a student who is not in the list?"
   ]
  },
  {
   "cell_type": "code",
   "execution_count": 30,
   "id": "61cd6c7b",
   "metadata": {},
   "outputs": [
    {
     "ename": "KeyError",
     "evalue": "'Matt'",
     "output_type": "error",
     "traceback": [
      "\u001b[1;31m---------------------------------------------------------------------------\u001b[0m",
      "\u001b[1;31mKeyError\u001b[0m                                  Traceback (most recent call last)",
      "Cell \u001b[1;32mIn[30], line 1\u001b[0m\n\u001b[1;32m----> 1\u001b[0m grades[\u001b[38;5;124m\"\u001b[39m\u001b[38;5;124mMatt\u001b[39m\u001b[38;5;124m\"\u001b[39m]\n",
      "\u001b[1;31mKeyError\u001b[0m: 'Matt'"
     ]
    }
   ],
   "source": [
    "grades[\"Matt\"]"
   ]
  },
  {
   "cell_type": "markdown",
   "id": "74ad0ceb",
   "metadata": {},
   "source": [
    "### Task 3.1: Find name of the student with the highest score.\n",
    "If more than one students have the highest score, you can print any name."
   ]
  },
  {
   "cell_type": "code",
   "execution_count": 31,
   "id": "ebeca517",
   "metadata": {},
   "outputs": [
    {
     "name": "stdout",
     "output_type": "stream",
     "text": [
      "Mila 9\n"
     ]
    }
   ],
   "source": [
    "max_score = -1\n",
    "max_student = None\n",
    "\n",
    "for name in grades:\n",
    "    if grades[name] > max_score:\n",
    "       max_score = grades[name] \n",
    "       max_student = name\n",
    "        \n",
    "print (max_student, grades[max_student])"
   ]
  },
  {
   "cell_type": "markdown",
   "id": "e0563077",
   "metadata": {},
   "source": [
    "### Task 3.2: A list of grades of the students is below. Find the average and variance.\n",
    "\n",
    "![](https://www.gstatic.com/education/formulas2/553212783/en/population_standard_deviation.svg)"
   ]
  },
  {
   "cell_type": "code",
   "execution_count": 32,
   "id": "c983dac7",
   "metadata": {},
   "outputs": [
    {
     "data": {
      "text/plain": [
       "2.6399999999999997"
      ]
     },
     "execution_count": 32,
     "metadata": {},
     "output_type": "execute_result"
    }
   ],
   "source": [
    "grades = [6,8,5,3,7,9,8,7,6,7]\n",
    "\n",
    "mean_grade = sum(grades)/len(grades)\n",
    "\n",
    "sum_squared_deviation = 0\n",
    "for grade in grades:\n",
    "    sum_squared_deviation = sum_squared_deviation + abs(grade-mean_grade) ** 2\n",
    "    \n",
    "# Alternate:\n",
    "# deviations = [(x - mean_grade) ** 2 for x in grades]    \n",
    "variance = sum_squared_deviation / len(grades)\n",
    "variance"
   ]
  },
  {
   "cell_type": "markdown",
   "id": "8b923c2b",
   "metadata": {},
   "source": [
    "### Task 3.3: Find the Standard Deviation"
   ]
  },
  {
   "cell_type": "code",
   "execution_count": 33,
   "id": "a03c5da0",
   "metadata": {},
   "outputs": [
    {
     "data": {
      "text/plain": [
       "1.624807680927192"
      ]
     },
     "execution_count": 33,
     "metadata": {},
     "output_type": "execute_result"
    }
   ],
   "source": [
    "import math\n",
    "standard_deviation = math.sqrt(variance)\n",
    "standard_deviation"
   ]
  },
  {
   "cell_type": "markdown",
   "id": "fbdb0253",
   "metadata": {},
   "source": [
    "### Discussion: \n",
    "\n",
    "- What does average tell us about the students? \n",
    "- What does the standard deviation tell us?\n",
    "- How can we use mean and standard deviation to analyze the data?"
   ]
  },
  {
   "cell_type": "markdown",
   "id": "6df5e5f7",
   "metadata": {},
   "source": [
    "# What the #%@&\n",
    "\n",
    "## Task 4: Fix the Errors\n",
    "The following piece of code is not running. Can you fix it?"
   ]
  },
  {
   "cell_type": "code",
   "execution_count": null,
   "id": "b6f6d10c",
   "metadata": {},
   "outputs": [],
   "source": [
    "grades = [9,8,2,4,7,9,8,4,6,9]\n",
    "mean = sum(grades)/len(grades)\n",
    "deviations = [(x - mean) ** 2 for x in grades]\n",
    "variance = sum(deviations) / len(grades)\n",
    "std_dev = sqrt(var)\n",
    "print (\"Standard Deviation is \" + std_dev)"
   ]
  },
  {
   "cell_type": "markdown",
   "id": "b243114d",
   "metadata": {},
   "source": [
    "## Example: Statistics of two different lists\n",
    "\n",
    "You are given two lists containing scores of students from two different cities. Find their means, standard deviations.\n",
    "\n",
    "Can you describe your observations?\n",
    "\n"
   ]
  },
  {
   "cell_type": "code",
   "execution_count": 34,
   "id": "dd869d57",
   "metadata": {},
   "outputs": [
    {
     "name": "stdout",
     "output_type": "stream",
     "text": [
      "Utrecht: \t(6.6, 2.6907248094147422)\n",
      "Amsterdam: \t(6.6, 1.4966629547095764)\n"
     ]
    },
    {
     "data": {
      "text/plain": [
       "6.6"
      ]
     },
     "execution_count": 34,
     "metadata": {},
     "output_type": "execute_result"
    }
   ],
   "source": [
    "import math\n",
    "\n",
    "def find_mean(grades):\n",
    "    return sum(grades)/len(grades)\n",
    "\n",
    "def find_std(grades):\n",
    "    mean = find_mean(grades)\n",
    "    deviations = [(x - mean) ** 2 for x in grades]\n",
    "    variance = sum(deviations) / len(grades)\n",
    "    std_dev = math.sqrt(variance)\n",
    "    return std_dev\n",
    "\n",
    "def find_stats(grades):\n",
    "    mean = find_mean(grades)\n",
    "    std = find_std(grades)\n",
    "    return (mean, std)\n",
    "    \n",
    "utrecht_grades = [9,8,2,2,7,9,8,4,8,9]\n",
    "amsterdam_grades = [7,6,7,3,7,9,8,7,6,6]\n",
    "\n",
    "print(\"Utrecht: \\t\"+ str(find_stats(utrecht_grades)))\n",
    "print(\"Amsterdam: \\t\"+ str(find_stats(amsterdam_grades)))    \n",
    "\n",
    "find_mean(utrecht_grades)"
   ]
  },
  {
   "cell_type": "markdown",
   "id": "c9fdf7ca",
   "metadata": {},
   "source": [
    "Combine both the lists into one list. Find mean and std again. You can use the functions we've defined below. Discuss what changed."
   ]
  },
  {
   "cell_type": "code",
   "execution_count": 35,
   "id": "dae156c9",
   "metadata": {},
   "outputs": [
    {
     "name": "stdout",
     "output_type": "stream",
     "text": [
      "All Students: \t(6.6, 2.177154105707724)\n"
     ]
    }
   ],
   "source": [
    "all_grades = utrecht_grades + amsterdam_grades\n",
    "\n",
    "print(\"All Students: \\t\"+ str(find_stats(all_grades)))    "
   ]
  },
  {
   "cell_type": "markdown",
   "id": "0a7140f8-a77d-487d-aa2b-d767d8408f21",
   "metadata": {},
   "source": [
    "### Does it mean that students in both the cities had same grades?"
   ]
  },
  {
   "cell_type": "code",
   "execution_count": 36,
   "id": "2c907c9b-a609-4c87-92d7-85d88a938dd0",
   "metadata": {},
   "outputs": [
    {
     "data": {
      "image/png": "[encoded data removed]",
      "text/plain": [
       "<Figure size 640x480 with 1 Axes>"
      ]
     },
     "metadata": {},
     "output_type": "display_data"
    }
   ],
   "source": [
    "import matplotlib.pyplot as plt\n",
    "import numpy as np\n",
    "plt.hist(utrecht_grades, bins=range(1, 11), alpha=0.5, label='Utrecht')\n",
    "plt.show()\n"
   ]
  },
  {
   "cell_type": "code",
   "execution_count": 37,
   "id": "226f26da-f4de-4c46-aff4-b00eed88fdb5",
   "metadata": {},
   "outputs": [
    {
     "data": {
      "image/png": "[encoded data removed]",
      "text/plain": [
       "<Figure size 640x480 with 1 Axes>"
      ]
     },
     "metadata": {},
     "output_type": "display_data"
    }
   ],
   "source": [
    "plt.hist(amsterdam_grades, bins=range(1, 11), alpha=0.5, label='Amsterdam')\n",
    "plt.show()"
   ]
  },
  {
   "cell_type": "code",
   "execution_count": null,
   "id": "a48e3bea-0f23-427c-8587-cbc758d4a363",
   "metadata": {},
   "outputs": [],
   "source": []
  },
  {
   "cell_type": "code",
   "execution_count": null,
   "id": "e2c933c4-9e82-4259-9ce9-bc6f948d5b58",
   "metadata": {},
   "outputs": [],
   "source": []
  },
  {
   "cell_type": "code",
   "execution_count": null,
   "id": "442b450b-7f63-43dd-8f0f-2878f076ef5a",
   "metadata": {},
   "outputs": [],
   "source": []
  },
  {
   "cell_type": "markdown",
   "id": "7dff9a0c-2e0b-4aa2-a63c-3802a57e6f15",
   "metadata": {},
   "source": [
    "# What have we learnt so far?\n",
    "\n",
    "1. Input/Output\n",
    "2. Data Structures - integers, float, string, list, dictionary\n",
    "3. Flow of Control - For loop, while loop, range function, if-else-elif\n",
    "4. Functions - user defined and library functions\n",
    "5. Using modules (math, numpy)\n",
    "6. Basic data processing with Python\n",
    "7. Understanding error messages\n",
    "8. Simple Statistical Analysis"
   ]
  },
  {
   "cell_type": "code",
   "execution_count": null,
   "id": "056a5832-7a7e-4578-8694-b1d8849fa954",
   "metadata": {},
   "outputs": [],
   "source": []
  },
  {
   "cell_type": "markdown",
   "id": "4335fd8b-bebc-4ca1-99fc-f3010288eca2",
   "metadata": {},
   "source": [
    "# Bonus: Generating QR Code with Python"
   ]
  },
  {
   "cell_type": "code",
   "execution_count": 38,
   "id": "0dcc35ca-c710-4cc1-a27a-2ed2c724cb5e",
   "metadata": {},
   "outputs": [
    {
     "name": "stdout",
     "output_type": "stream",
     "text": [
      "Requirement already satisfied: qrcode in c:\\users\\joshi008\\appdata\\local\\anaconda3\\lib\\site-packages (7.4.2)\n",
      "Requirement already satisfied: typing-extensions in c:\\users\\joshi008\\appdata\\local\\anaconda3\\lib\\site-packages (from qrcode) (4.11.0)\n",
      "Requirement already satisfied: pypng in c:\\users\\joshi008\\appdata\\local\\anaconda3\\lib\\site-packages (from qrcode) (0.20220715.0)\n",
      "Requirement already satisfied: colorama in c:\\users\\joshi008\\appdata\\local\\anaconda3\\lib\\site-packages (from qrcode) (0.4.6)\n",
      "Note: you may need to restart the kernel to use updated packages.\n"
     ]
    }
   ],
   "source": [
    "%pip install qrcode\n",
    "\n",
    "import qrcode\n",
    "\n",
    "img = qrcode.make('https://www.uu.nl/')\n",
    "\n",
    "img.save(\"tempqr.png\")"
   ]
  },
  {
   "cell_type": "code",
   "execution_count": null,
   "id": "58bd0887-5e69-4e67-8ab1-bd07e47711c3",
   "metadata": {},
   "outputs": [],
   "source": []
  },
  {
   "cell_type": "code",
   "execution_count": null,
   "id": "28628179-e45a-47b1-9f82-d68da328b127",
   "metadata": {},
   "outputs": [],
   "source": []
  },
  {
   "cell_type": "code",
   "execution_count": null,
   "id": "cc30c8ed-bceb-4995-a2b1-237967a1754a",
   "metadata": {},
   "outputs": [],
   "source": []
  },
  {
   "cell_type": "markdown",
   "id": "a89b057c",
   "metadata": {},
   "source": [
    "# Introduction to Numeric Analysis Tools\n",
    "\n",
    "NumPy, short for Numerical Python, addresses the limitations of traditional Python lists when it comes to numerical computations. Python lists are flexible but lack the optimized structure needed for handling large datasets and performing complex mathematical operations. NumPy bridges this gap by introducing a powerful array object that facilitates vectorized operations and enhances computational efficiency.\n",
    "\n",
    "![https://i1.wp.com/indianaiproduction.com/wp-content/uploads/2019/06/NumPy-array.png?resize=768%2C368&ssl=1](https://i1.wp.com/indianaiproduction.com/wp-content/uploads/2019/06/NumPy-array.png?resize=768%2C368&ssl=1)"
   ]
  },
  {
   "cell_type": "code",
   "execution_count": 39,
   "id": "b00c0792",
   "metadata": {},
   "outputs": [],
   "source": [
    "import numpy"
   ]
  },
  {
   "cell_type": "code",
   "execution_count": 40,
   "id": "ee6aa34d",
   "metadata": {},
   "outputs": [
    {
     "data": {
      "text/plain": [
       "array([9, 8, 2, 2, 7, 9, 8, 4, 8, 9, 7, 6, 7, 3, 7, 9, 8, 7, 6, 6])"
      ]
     },
     "execution_count": 40,
     "metadata": {},
     "output_type": "execute_result"
    }
   ],
   "source": [
    "grades_array = numpy.array(all_grades)\n",
    "grades_array"
   ]
  },
  {
   "cell_type": "code",
   "execution_count": 41,
   "id": "c8d4af04",
   "metadata": {},
   "outputs": [
    {
     "data": {
      "text/plain": [
       "numpy.ndarray"
      ]
     },
     "execution_count": 41,
     "metadata": {},
     "output_type": "execute_result"
    }
   ],
   "source": [
    "type(grades_array)"
   ]
  },
  {
   "cell_type": "code",
   "execution_count": 42,
   "id": "ec04139f",
   "metadata": {},
   "outputs": [
    {
     "data": {
      "text/plain": [
       "9"
      ]
     },
     "execution_count": 42,
     "metadata": {},
     "output_type": "execute_result"
    }
   ],
   "source": [
    "numpy.max(grades_array)"
   ]
  },
  {
   "cell_type": "markdown",
   "id": "a55b4f6b",
   "metadata": {},
   "source": [
    "## Two Dimensional Arrays"
   ]
  },
  {
   "cell_type": "code",
   "execution_count": 43,
   "id": "4d849376",
   "metadata": {},
   "outputs": [],
   "source": [
    "import numpy as np"
   ]
  },
  {
   "cell_type": "code",
   "execution_count": 44,
   "id": "ee80625d",
   "metadata": {},
   "outputs": [
    {
     "data": {
      "text/plain": [
       "array([[1., 2., 3.],\n",
       "       [4., 5., 6.]])"
      ]
     },
     "execution_count": 44,
     "metadata": {},
     "output_type": "execute_result"
    }
   ],
   "source": [
    "ll = [[1,2,3],[4,5.0,6]]\n",
    "\n",
    "arr = np.array(ll)\n",
    "arr.shape\n",
    "type(arr)\n",
    "arr"
   ]
  },
  {
   "cell_type": "code",
   "execution_count": 45,
   "id": "cb88ec11",
   "metadata": {},
   "outputs": [
    {
     "data": {
      "text/plain": [
       "array([['1', 'Hi'],\n",
       "       ['hello', '6']], dtype='<U11')"
      ]
     },
     "execution_count": 45,
     "metadata": {},
     "output_type": "execute_result"
    }
   ],
   "source": [
    "ll = [[1,\"Hi\"],[\"hello\",6]]\n",
    "arr = np.array(ll)\n",
    "arr"
   ]
  },
  {
   "cell_type": "code",
   "execution_count": 46,
   "id": "7624daa6",
   "metadata": {},
   "outputs": [
    {
     "data": {
      "text/plain": [
       "[10, 12, 14, 16, 18, 20, 22, 24, 26, 28]"
      ]
     },
     "execution_count": 46,
     "metadata": {},
     "output_type": "execute_result"
    }
   ],
   "source": [
    "list(range(10,30,2))"
   ]
  },
  {
   "cell_type": "code",
   "execution_count": 47,
   "id": "d721e9a5",
   "metadata": {},
   "outputs": [
    {
     "data": {
      "text/plain": [
       "array([0, 1, 2, 3, 4, 5, 6, 7, 8, 9])"
      ]
     },
     "execution_count": 47,
     "metadata": {},
     "output_type": "execute_result"
    }
   ],
   "source": [
    "arr = np.arange(10)\n",
    "arr"
   ]
  },
  {
   "cell_type": "markdown",
   "id": "d040205d",
   "metadata": {},
   "source": [
    "### Special Functions for Creating Arrays"
   ]
  },
  {
   "cell_type": "code",
   "execution_count": 48,
   "id": "0c337e7f",
   "metadata": {},
   "outputs": [
    {
     "data": {
      "text/plain": [
       "array([ 0.5,  1.3,  2.1,  2.9,  3.7,  4.5,  5.3,  6.1,  6.9,  7.7,  8.5,\n",
       "        9.3, 10.1])"
      ]
     },
     "execution_count": 48,
     "metadata": {},
     "output_type": "execute_result"
    }
   ],
   "source": [
    "np.arange(0.5,10.4,0.8)\n"
   ]
  },
  {
   "cell_type": "code",
   "execution_count": 49,
   "id": "2a19fca3",
   "metadata": {},
   "outputs": [
    {
     "data": {
      "text/plain": [
       "array([[1., 1., 1., 1., 1., 1.],\n",
       "       [1., 1., 1., 1., 1., 1.],\n",
       "       [1., 1., 1., 1., 1., 1.]])"
      ]
     },
     "execution_count": 49,
     "metadata": {},
     "output_type": "execute_result"
    }
   ],
   "source": [
    "np.ones((3,6))"
   ]
  },
  {
   "cell_type": "code",
   "execution_count": 50,
   "id": "7c6b0537",
   "metadata": {},
   "outputs": [
    {
     "data": {
      "text/plain": [
       "array([[0., 0., 0.],\n",
       "       [0., 0., 0.],\n",
       "       [0., 0., 0.]])"
      ]
     },
     "execution_count": 50,
     "metadata": {},
     "output_type": "execute_result"
    }
   ],
   "source": [
    "np.zeros((3,3))"
   ]
  },
  {
   "cell_type": "code",
   "execution_count": 51,
   "id": "d2944ad8",
   "metadata": {},
   "outputs": [
    {
     "data": {
      "text/plain": [
       "array([[1., 0., 0.],\n",
       "       [0., 1., 0.],\n",
       "       [0., 0., 1.]])"
      ]
     },
     "execution_count": 51,
     "metadata": {},
     "output_type": "execute_result"
    }
   ],
   "source": [
    "np.eye(3)"
   ]
  },
  {
   "cell_type": "code",
   "execution_count": 52,
   "id": "48f6d08d",
   "metadata": {},
   "outputs": [
    {
     "data": {
      "text/plain": [
       "array([3.   , 3.125, 3.25 , 3.375, 3.5  , 3.625, 3.75 , 3.875, 4.   ])"
      ]
     },
     "execution_count": 52,
     "metadata": {},
     "output_type": "execute_result"
    }
   ],
   "source": [
    "np.linspace(3,4,num=9)"
   ]
  },
  {
   "cell_type": "code",
   "execution_count": 53,
   "id": "9961b05c",
   "metadata": {},
   "outputs": [
    {
     "data": {
      "text/plain": [
       "array([[0.80507172, 0.77407066],\n",
       "       [0.08713112, 0.59391832],\n",
       "       [0.51303105, 0.89218874],\n",
       "       [0.84544542, 0.92386288],\n",
       "       [0.58103771, 0.87400208],\n",
       "       [0.98490958, 0.5909638 ],\n",
       "       [0.99080396, 0.7211243 ],\n",
       "       [0.08930552, 0.75742415],\n",
       "       [0.78740385, 0.36660147],\n",
       "       [0.64331106, 0.027157  ]])"
      ]
     },
     "execution_count": 53,
     "metadata": {},
     "output_type": "execute_result"
    }
   ],
   "source": [
    "np.random.rand(10,2)"
   ]
  },
  {
   "cell_type": "code",
   "execution_count": 54,
   "id": "7d57e36b",
   "metadata": {},
   "outputs": [
    {
     "data": {
      "text/plain": [
       "array([[15, 19],\n",
       "       [10, 19],\n",
       "       [12, 10]])"
      ]
     },
     "execution_count": 54,
     "metadata": {},
     "output_type": "execute_result"
    }
   ],
   "source": [
    "np.random.randint(10,20,(3,2))"
   ]
  },
  {
   "cell_type": "markdown",
   "id": "a1154e17",
   "metadata": {},
   "source": [
    "### Indexing, Slicing"
   ]
  },
  {
   "cell_type": "code",
   "execution_count": 55,
   "id": "7a5bb1a6",
   "metadata": {},
   "outputs": [
    {
     "data": {
      "text/plain": [
       "array([ 1.1, -7.8, -0.7])"
      ]
     },
     "execution_count": 55,
     "metadata": {},
     "output_type": "execute_result"
    }
   ],
   "source": [
    "A = np.array(  [  [3.4,8.7,9.9],\n",
    "                [1.1,-7.8,-0.7],\n",
    "                [4.1,12.3,4.8]])\n",
    "A[1]"
   ]
  },
  {
   "cell_type": "code",
   "execution_count": 56,
   "id": "34ad9a9e",
   "metadata": {},
   "outputs": [
    {
     "data": {
      "text/plain": [
       "-0.7"
      ]
     },
     "execution_count": 56,
     "metadata": {},
     "output_type": "execute_result"
    }
   ],
   "source": [
    "A[1][2]"
   ]
  },
  {
   "cell_type": "code",
   "execution_count": 57,
   "id": "6087a285",
   "metadata": {},
   "outputs": [
    {
     "data": {
      "text/plain": [
       "array([10, 11, 12, 13, 14, 15, 16, 17, 18, 19, 20, 21, 22, 23, 24, 25, 26,\n",
       "       27, 28, 29])"
      ]
     },
     "execution_count": 57,
     "metadata": {},
     "output_type": "execute_result"
    }
   ],
   "source": [
    "arr = np.arange(100)\n",
    "arr[10:30]"
   ]
  },
  {
   "cell_type": "markdown",
   "id": "06f41a03",
   "metadata": {},
   "source": [
    "### Statistics with Numpy"
   ]
  },
  {
   "cell_type": "code",
   "execution_count": 58,
   "id": "d75761d2",
   "metadata": {},
   "outputs": [
    {
     "data": {
      "text/plain": [
       "6.6"
      ]
     },
     "execution_count": 58,
     "metadata": {},
     "output_type": "execute_result"
    }
   ],
   "source": [
    "grades_array.mean()"
   ]
  },
  {
   "cell_type": "code",
   "execution_count": 59,
   "id": "cafc533c",
   "metadata": {},
   "outputs": [
    {
     "data": {
      "text/plain": [
       "2.177154105707724"
      ]
     },
     "execution_count": 59,
     "metadata": {},
     "output_type": "execute_result"
    }
   ],
   "source": [
    "grades_array.std()"
   ]
  },
  {
   "cell_type": "markdown",
   "id": "b0f5d546",
   "metadata": {},
   "source": [
    "# Data Analysis\n",
    "\n",
    "\n",
    "\n",
    "## Task 5: Explore and Discuss:\n",
    "Work in pairs/groups. You are given data from an application log of a learning management system. Read data from Pandas dataframe. Look at the structure of the data to understand the format of the data. Download the dataset here: https://studylens.science.uu.nl/media/ovp/userlog.csv\n",
    "\n",
    "You will need to *upload* the dataset so that jupyter notebook can read it, or refer to the absolute path in your system.\n",
    "\n",
    "You will then parse this file to retrieve details about the student that can help you summarize the students' use of the system in a much simpler way. Here're some ideas to get you started:\n",
    "1. What does each column mean? \n",
    "1. What does each action indicate? How to interpret the target?\n",
    "1. What can you extract from action and target? \n",
    "1. How would you process each row iteratively (one by one)?\n",
    "1. How would you process a whole column with one line of code?"
   ]
  },
  {
   "cell_type": "code",
   "execution_count": 60,
   "id": "90e1cf08",
   "metadata": {},
   "outputs": [],
   "source": [
    "import pandas as pd\n",
    "filepath = \"C:\\\\Users\\\\Joshi008\\\\OneDrive - Universiteit Utrecht\\\\OVP 2025\\\\userlog.csv\"\n",
    "userlog = pd.read_csv(filepath)"
   ]
  },
  {
   "cell_type": "markdown",
   "id": "aa7dbf32",
   "metadata": {},
   "source": [
    "Use .head(), .tail() methods to take a look at the top and bottom rows of the dataset."
   ]
  },
  {
   "cell_type": "code",
   "execution_count": 61,
   "id": "5df5fcc4",
   "metadata": {},
   "outputs": [
    {
     "data": {
      "text/html": [
       "<div>\n",
       "<style scoped>\n",
       "    .dataframe tbody tr th:only-of-type {\n",
       "        vertical-align: middle;\n",
       "    }\n",
       "\n",
       "    .dataframe tbody tr th {\n",
       "        vertical-align: top;\n",
       "    }\n",
       "\n",
       "    .dataframe thead th {\n",
       "        text-align: right;\n",
       "    }\n",
       "</style>\n",
       "<table border=\"1\" class=\"dataframe\">\n",
       "  <thead>\n",
       "    <tr style=\"text-align: right;\">\n",
       "      <th></th>\n",
       "      <th>eid</th>\n",
       "      <th>timestamp</th>\n",
       "      <th>sessionid</th>\n",
       "      <th>userid</th>\n",
       "      <th>action</th>\n",
       "      <th>target</th>\n",
       "    </tr>\n",
       "  </thead>\n",
       "  <tbody>\n",
       "    <tr>\n",
       "      <th>0</th>\n",
       "      <td>335571</td>\n",
       "      <td>11-09-22 06:30:56 AM</td>\n",
       "      <td>9cbaf244-a937-8076-bab98684df64</td>\n",
       "      <td>2049</td>\n",
       "      <td>login</td>\n",
       "      <td>-1</td>\n",
       "    </tr>\n",
       "    <tr>\n",
       "      <th>1</th>\n",
       "      <td>335577</td>\n",
       "      <td>11-09-22 06:31:01 AM</td>\n",
       "      <td>9cbaf244-a937-8076-bab98684df64</td>\n",
       "      <td>2049</td>\n",
       "      <td>hovered</td>\n",
       "      <td>1115</td>\n",
       "    </tr>\n",
       "    <tr>\n",
       "      <th>2</th>\n",
       "      <td>335586</td>\n",
       "      <td>11-09-22 06:31:06 AM</td>\n",
       "      <td>9cbaf244-a937-8076-bab98684df64</td>\n",
       "      <td>2049</td>\n",
       "      <td>clicked</td>\n",
       "      <td>1115</td>\n",
       "    </tr>\n",
       "    <tr>\n",
       "      <th>3</th>\n",
       "      <td>335595</td>\n",
       "      <td>11-09-22 06:31:13 AM</td>\n",
       "      <td>9cbaf244-a937-8076-bab98684df64</td>\n",
       "      <td>2049</td>\n",
       "      <td>load</td>\n",
       "      <td>36</td>\n",
       "    </tr>\n",
       "    <tr>\n",
       "      <th>4</th>\n",
       "      <td>335625</td>\n",
       "      <td>11-09-22 06:31:42 AM</td>\n",
       "      <td>9cbaf244-a937-8076-bab98684df64</td>\n",
       "      <td>2049</td>\n",
       "      <td>closed</td>\n",
       "      <td>36</td>\n",
       "    </tr>\n",
       "  </tbody>\n",
       "</table>\n",
       "</div>"
      ],
      "text/plain": [
       "      eid             timestamp                        sessionid  userid  \\\n",
       "0  335571  11-09-22 06:30:56 AM  9cbaf244-a937-8076-bab98684df64    2049   \n",
       "1  335577  11-09-22 06:31:01 AM  9cbaf244-a937-8076-bab98684df64    2049   \n",
       "2  335586  11-09-22 06:31:06 AM  9cbaf244-a937-8076-bab98684df64    2049   \n",
       "3  335595  11-09-22 06:31:13 AM  9cbaf244-a937-8076-bab98684df64    2049   \n",
       "4  335625  11-09-22 06:31:42 AM  9cbaf244-a937-8076-bab98684df64    2049   \n",
       "\n",
       "    action  target  \n",
       "0    login      -1  \n",
       "1  hovered    1115  \n",
       "2  clicked    1115  \n",
       "3     load      36  \n",
       "4   closed      36  "
      ]
     },
     "execution_count": 61,
     "metadata": {},
     "output_type": "execute_result"
    }
   ],
   "source": [
    "userlog.head()"
   ]
  },
  {
   "cell_type": "markdown",
   "id": "c41f394c",
   "metadata": {},
   "source": [
    "You can explore the columns using the following:"
   ]
  },
  {
   "cell_type": "code",
   "execution_count": 62,
   "id": "4726bb96",
   "metadata": {},
   "outputs": [
    {
     "name": "stdout",
     "output_type": "stream",
     "text": [
      "eid int64\n",
      "timestamp object\n",
      "sessionid object\n",
      "userid int64\n",
      "action object\n",
      "target int64\n"
     ]
    }
   ],
   "source": [
    "for i in range(len(userlog.columns)):\n",
    "    print(userlog.columns[i], userlog.dtypes.iloc[i])"
   ]
  },
  {
   "cell_type": "markdown",
   "id": "a78a95f9",
   "metadata": {},
   "source": [
    "What do these mean?"
   ]
  },
  {
   "cell_type": "markdown",
   "id": "8d6b0eab",
   "metadata": {},
   "source": [
    "### Convertime timestamp to a readable format.\n",
    "\n",
    "timestamp is object. This will not be useful unless we convert it to date-time."
   ]
  },
  {
   "cell_type": "code",
   "execution_count": 63,
   "id": "c85b1837",
   "metadata": {},
   "outputs": [
    {
     "data": {
      "text/plain": [
       "0     2022-09-11 06:30:56\n",
       "1     2022-09-11 06:31:01\n",
       "2     2022-09-11 06:31:06\n",
       "3     2022-09-11 06:31:13\n",
       "4     2022-09-11 06:31:42\n",
       "              ...        \n",
       "193   2022-10-05 13:55:52\n",
       "194   2022-10-05 13:58:09\n",
       "195   2022-10-05 13:58:33\n",
       "196   2022-10-05 14:29:25\n",
       "197   2022-10-05 14:29:34\n",
       "Name: timestamp, Length: 198, dtype: datetime64[ns]"
      ]
     },
     "execution_count": 63,
     "metadata": {},
     "output_type": "execute_result"
    }
   ],
   "source": [
    "pd.to_datetime(userlog['timestamp'], format='%d-%m-%y %H:%M:%S %p')"
   ]
  },
  {
   "cell_type": "code",
   "execution_count": 64,
   "id": "2e9b88ff",
   "metadata": {},
   "outputs": [],
   "source": [
    "userlog['timestamp'] = pd.to_datetime(userlog['timestamp'], format='%d-%m-%y %H:%M:%S %p')"
   ]
  },
  {
   "cell_type": "code",
   "execution_count": 65,
   "id": "facc84b2",
   "metadata": {},
   "outputs": [
    {
     "data": {
      "text/plain": [
       "eid                   int64\n",
       "timestamp    datetime64[ns]\n",
       "sessionid            object\n",
       "userid                int64\n",
       "action               object\n",
       "target                int64\n",
       "dtype: object"
      ]
     },
     "execution_count": 65,
     "metadata": {},
     "output_type": "execute_result"
    }
   ],
   "source": [
    "userlog.dtypes"
   ]
  },
  {
   "cell_type": "markdown",
   "id": "75933d3a",
   "metadata": {},
   "source": [
    "The following lines can be used to explore the dataset row by row. It is an easy approach but computationally, it can make your program run slower."
   ]
  },
  {
   "cell_type": "code",
   "execution_count": 66,
   "id": "a2d5ea30",
   "metadata": {},
   "outputs": [],
   "source": [
    "# for i, row in userlog.iterrows():\n",
    "#     print (i, row['action'])"
   ]
  },
  {
   "cell_type": "markdown",
   "id": "315f0193",
   "metadata": {},
   "source": [
    "The following line can extract item at 3rd row and 2nd column."
   ]
  },
  {
   "cell_type": "code",
   "execution_count": 67,
   "id": "69945360",
   "metadata": {},
   "outputs": [
    {
     "data": {
      "text/plain": [
       "Timestamp('2022-09-11 06:31:06')"
      ]
     },
     "execution_count": 67,
     "metadata": {},
     "output_type": "execute_result"
    }
   ],
   "source": [
    "userlog.iloc[2, 1]"
   ]
  },
  {
   "cell_type": "markdown",
   "id": "723b6f61",
   "metadata": {},
   "source": [
    "### What are all possible actions a user might have taken?"
   ]
  },
  {
   "cell_type": "code",
   "execution_count": 68,
   "id": "dc4d5601",
   "metadata": {},
   "outputs": [
    {
     "data": {
      "text/plain": [
       "0        login\n",
       "1      hovered\n",
       "2      clicked\n",
       "3         load\n",
       "4       closed\n",
       "        ...   \n",
       "193       load\n",
       "194     closed\n",
       "195       load\n",
       "196     closed\n",
       "197     logout\n",
       "Name: action, Length: 198, dtype: object"
      ]
     },
     "execution_count": 68,
     "metadata": {},
     "output_type": "execute_result"
    }
   ],
   "source": [
    "userlog.action"
   ]
  },
  {
   "cell_type": "code",
   "execution_count": 69,
   "id": "9377dd48",
   "metadata": {},
   "outputs": [
    {
     "data": {
      "text/plain": [
       "array(['login', 'hovered', 'clicked', 'load', 'closed', 'load', 'closed',\n",
       "       'refresh', 'hovered', 'hovered', 'clicked', 'load', 'closed',\n",
       "       'load', 'closed', 'load', 'closed', 'load', 'started', 'answered',\n",
       "       'closed', 'logout', 'login', 'hovered', 'hovered', 'clicked',\n",
       "       'load', 'closed', 'load', 'closed', 'load', 'closed', 'refresh',\n",
       "       'hovered', 'hovered', 'hovered', 'hovered', 'clicked', 'load',\n",
       "       'closed', 'load', 'started', 'answered', 'closed', 'load',\n",
       "       'closed', 'refresh', 'hovered', 'hovered', 'hovered', 'clicked',\n",
       "       'load', 'closed', 'load', 'closed', 'logout', 'login', 'hovered',\n",
       "       'clicked', 'load', 'closed', 'load', 'closed', 'refresh',\n",
       "       'hovered', 'hovered', 'hovered', 'clicked', 'load', 'closed',\n",
       "       'load', 'closed', 'load', 'closed', 'refresh', 'hovered',\n",
       "       'clicked', 'load', 'closed', 'load', 'closed', 'load', 'closed',\n",
       "       'load', 'closed', 'logout', 'login', 'hovered', 'hovered',\n",
       "       'hovered', 'clicked', 'load', 'closed', 'load', 'closed', 'load',\n",
       "       'closed', 'load', 'started', 'answered', 'closed', 'logout',\n",
       "       'login', 'hovered', 'clicked', 'load', 'closed', 'load', 'closed',\n",
       "       'logout', 'login', 'hovered', 'hovered', 'hovered', 'hovered',\n",
       "       'clicked', 'load', 'started', 'closed', 'refresh', 'hovered',\n",
       "       'clicked', 'load', 'closed', 'load', 'closed', 'load', 'closed',\n",
       "       'load', 'closed', 'refresh', 'hovered', 'hovered', 'hovered',\n",
       "       'clicked', 'load', 'closed', 'load', 'closed', 'load', 'closed',\n",
       "       'load', 'closed', 'load', 'closed', 'logout', 'login', 'hovered',\n",
       "       'clicked', 'load', 'started', 'answered', 'closed', 'load',\n",
       "       'closed', 'load', 'closed', 'load', 'closed', 'logout', 'login',\n",
       "       'hovered', 'clicked', 'load', 'closed', 'load', 'closed', 'load',\n",
       "       'closed', 'load', 'closed', 'load', 'closed', 'load', 'closed',\n",
       "       'logout', 'login', 'hovered', 'hovered', 'hovered', 'hovered',\n",
       "       'hovered', 'clicked', 'load', 'closed', 'load', 'closed', 'load',\n",
       "       'started', 'answered', 'closed', 'load', 'closed', 'load',\n",
       "       'closed', 'load', 'closed', 'logout'], dtype=object)"
      ]
     },
     "execution_count": 69,
     "metadata": {},
     "output_type": "execute_result"
    }
   ],
   "source": [
    "userlog.action.values"
   ]
  },
  {
   "cell_type": "code",
   "execution_count": 70,
   "id": "c41a02ec",
   "metadata": {},
   "outputs": [
    {
     "data": {
      "text/plain": [
       "array(['login', 'hovered', 'clicked', 'load', 'closed', 'refresh',\n",
       "       'started', 'answered', 'logout'], dtype=object)"
      ]
     },
     "execution_count": 70,
     "metadata": {},
     "output_type": "execute_result"
    }
   ],
   "source": [
    "userlog.action.unique()"
   ]
  },
  {
   "cell_type": "markdown",
   "id": "c1ed6406",
   "metadata": {},
   "source": [
    "## Task 6: Understanding Data\n",
    "Once you understand the basics, you will extract items like:\n",
    "1. How many unique sessions did the student have?\n",
    "1. What were the dates when the user was active? Can you find how many weekends they were active on?\n",
    "1. Did the user load an activity multiple times? Which activities were loaded the most?\n",
    "1. If you find what each \"target\" means, can you separate the number of loaded activities into articles read and videos watched?\n"
   ]
  },
  {
   "cell_type": "code",
   "execution_count": 71,
   "id": "691d9ec1",
   "metadata": {},
   "outputs": [
    {
     "data": {
      "text/plain": [
       "array(['9cbaf244-a937-8076-bab98684df64',\n",
       "       '6458e5ef-b822-f6cd-5a3aa04fe1cf',\n",
       "       '08a5e121-708f-3b3b-dcb6da487e5a',\n",
       "       '3995f61e-7cc9-a45a-b756b557db62',\n",
       "       'be712e4d-348d-0607-f39f1b5a645d',\n",
       "       '5be57e40-7852-f60d-c6089eb2caee',\n",
       "       '2038c2d6-d1fd-00d8-c80175679696',\n",
       "       '1ce9bdb8-b625-d381-46823d1a0085',\n",
       "       '5df07add-de73-d625-fe489753dfd1'], dtype=object)"
      ]
     },
     "execution_count": 71,
     "metadata": {},
     "output_type": "execute_result"
    }
   ],
   "source": [
    "userlog.sessionid.unique()"
   ]
  },
  {
   "cell_type": "code",
   "execution_count": 72,
   "id": "4f46b6da",
   "metadata": {},
   "outputs": [
    {
     "data": {
      "text/plain": [
       "sessionid\n",
       "5be57e40-7852-f60d-c6089eb2caee    36\n",
       "6458e5ef-b822-f6cd-5a3aa04fe1cf    34\n",
       "08a5e121-708f-3b3b-dcb6da487e5a    30\n",
       "9cbaf244-a937-8076-bab98684df64    22\n",
       "5df07add-de73-d625-fe489753dfd1    22\n",
       "3995f61e-7cc9-a45a-b756b557db62    16\n",
       "1ce9bdb8-b625-d381-46823d1a0085    16\n",
       "2038c2d6-d1fd-00d8-c80175679696    14\n",
       "be712e4d-348d-0607-f39f1b5a645d     8\n",
       "Name: count, dtype: int64"
      ]
     },
     "execution_count": 72,
     "metadata": {},
     "output_type": "execute_result"
    }
   ],
   "source": [
    "userlog.sessionid.value_counts()"
   ]
  },
  {
   "cell_type": "markdown",
   "id": "6979f159",
   "metadata": {},
   "source": [
    "Pandas also allows using \"dt\" to access date time objects."
   ]
  },
  {
   "cell_type": "code",
   "execution_count": 73,
   "id": "b11876ec",
   "metadata": {},
   "outputs": [
    {
     "name": "stdout",
     "output_type": "stream",
     "text": [
      "2022-09-11 Sunday\n",
      "2022-09-13 Tuesday\n",
      "2022-09-18 Sunday\n",
      "2022-09-22 Thursday\n",
      "2022-09-24 Saturday\n",
      "2022-09-28 Wednesday\n",
      "2022-10-03 Monday\n",
      "2022-10-05 Wednesday\n"
     ]
    }
   ],
   "source": [
    "for date in userlog.timestamp.dt.date.unique():\n",
    "    print (date, date.strftime('%A'))"
   ]
  },
  {
   "cell_type": "code",
   "execution_count": 74,
   "id": "3c9a6ac8",
   "metadata": {},
   "outputs": [
    {
     "data": {
      "text/html": [
       "<div>\n",
       "<style scoped>\n",
       "    .dataframe tbody tr th:only-of-type {\n",
       "        vertical-align: middle;\n",
       "    }\n",
       "\n",
       "    .dataframe tbody tr th {\n",
       "        vertical-align: top;\n",
       "    }\n",
       "\n",
       "    .dataframe thead th {\n",
       "        text-align: right;\n",
       "    }\n",
       "</style>\n",
       "<table border=\"1\" class=\"dataframe\">\n",
       "  <thead>\n",
       "    <tr style=\"text-align: right;\">\n",
       "      <th></th>\n",
       "      <th>action</th>\n",
       "      <th>target</th>\n",
       "    </tr>\n",
       "  </thead>\n",
       "  <tbody>\n",
       "    <tr>\n",
       "      <th>0</th>\n",
       "      <td>login</td>\n",
       "      <td>-1</td>\n",
       "    </tr>\n",
       "    <tr>\n",
       "      <th>1</th>\n",
       "      <td>hovered</td>\n",
       "      <td>1115</td>\n",
       "    </tr>\n",
       "    <tr>\n",
       "      <th>2</th>\n",
       "      <td>clicked</td>\n",
       "      <td>1115</td>\n",
       "    </tr>\n",
       "    <tr>\n",
       "      <th>3</th>\n",
       "      <td>load</td>\n",
       "      <td>36</td>\n",
       "    </tr>\n",
       "    <tr>\n",
       "      <th>4</th>\n",
       "      <td>closed</td>\n",
       "      <td>36</td>\n",
       "    </tr>\n",
       "    <tr>\n",
       "      <th>...</th>\n",
       "      <td>...</td>\n",
       "      <td>...</td>\n",
       "    </tr>\n",
       "    <tr>\n",
       "      <th>193</th>\n",
       "      <td>load</td>\n",
       "      <td>11</td>\n",
       "    </tr>\n",
       "    <tr>\n",
       "      <th>194</th>\n",
       "      <td>closed</td>\n",
       "      <td>11</td>\n",
       "    </tr>\n",
       "    <tr>\n",
       "      <th>195</th>\n",
       "      <td>load</td>\n",
       "      <td>10</td>\n",
       "    </tr>\n",
       "    <tr>\n",
       "      <th>196</th>\n",
       "      <td>closed</td>\n",
       "      <td>10</td>\n",
       "    </tr>\n",
       "    <tr>\n",
       "      <th>197</th>\n",
       "      <td>logout</td>\n",
       "      <td>-1</td>\n",
       "    </tr>\n",
       "  </tbody>\n",
       "</table>\n",
       "<p>198 rows × 2 columns</p>\n",
       "</div>"
      ],
      "text/plain": [
       "      action  target\n",
       "0      login      -1\n",
       "1    hovered    1115\n",
       "2    clicked    1115\n",
       "3       load      36\n",
       "4     closed      36\n",
       "..       ...     ...\n",
       "193     load      11\n",
       "194   closed      11\n",
       "195     load      10\n",
       "196   closed      10\n",
       "197   logout      -1\n",
       "\n",
       "[198 rows x 2 columns]"
      ]
     },
     "execution_count": 74,
     "metadata": {},
     "output_type": "execute_result"
    }
   ],
   "source": [
    "userlog[['action', 'target']]"
   ]
  },
  {
   "cell_type": "code",
   "execution_count": 75,
   "id": "a475811d",
   "metadata": {},
   "outputs": [
    {
     "data": {
      "text/plain": [
       "array([36,  5, 10, 18, 19, 33, 15,  6, 47, 49, 23,  4,  2, 14, 24, 29, 39,\n",
       "       31, 27,  3, 17, 48, 16, 26,  1, 11, 28, 13, 41], dtype=int64)"
      ]
     },
     "execution_count": 75,
     "metadata": {},
     "output_type": "execute_result"
    }
   ],
   "source": [
    "# All the activities ever loaded\n",
    "userlog.loc[userlog['action'] == 'load', 'target'].unique()"
   ]
  },
  {
   "cell_type": "code",
   "execution_count": 76,
   "id": "3c27d8b3",
   "metadata": {},
   "outputs": [
    {
     "data": {
      "text/plain": [
       "[10, 19, 15, 36, 4, 11, 26, 16, 29, 5, 2, 24, 23, 49, 18, 6]"
      ]
     },
     "execution_count": 76,
     "metadata": {},
     "output_type": "execute_result"
    }
   ],
   "source": [
    "# Activities loaded more than once\n",
    "userlog[userlog['action'] == 'load']['target'].value_counts()[userlog[userlog['action'] == 'load']['target'].value_counts() > 1].index.tolist()"
   ]
  },
  {
   "cell_type": "code",
   "execution_count": 77,
   "id": "2011ad2b",
   "metadata": {},
   "outputs": [
    {
     "data": {
      "text/plain": [
       "10"
      ]
     },
     "execution_count": 77,
     "metadata": {},
     "output_type": "execute_result"
    }
   ],
   "source": [
    "# Activity loaded the most\n",
    "userlog[userlog['action'] == 'load']['target'].value_counts().idxmax()"
   ]
  },
  {
   "cell_type": "code",
   "execution_count": null,
   "id": "a07d65ec",
   "metadata": {},
   "outputs": [],
   "source": []
  },
  {
   "cell_type": "markdown",
   "id": "103b072f",
   "metadata": {},
   "source": [
    "# Bonus: Loading Data In The Real World\n",
    "\n",
    "In this problem, you will use an external API to prepare your dataset. \n",
    "\n",
    "Application Programming Interfaces (APIs) serve as intermediaries that enable communication and interaction between different software applications. APIs define a set of rules and protocols that allow one software system to request and exchange information with another. \n",
    "\n",
    "In Python, utilizing APIs involves sending HTTP requests to a specified endpoint, typically in the form of URLs, and receiving responses in a structured data format such as JSON or XML. To access data through an API, you would use Python libraries like requests to send HTTP requests and handle responses. Once data is retrieved, it can be processed using various Python libraries, such as pandas for data manipulation and analysis. \n",
    "\n",
    "The processing steps may include extracting relevant information, transforming data types, and cleaning the data. Finally, to prepare a single flat file, you can consolidate the processed data into a DataFrame using pandas and export it to a CSV or other flat file format, making it easily accessible for further analysis or sharing with other applications."
   ]
  },
  {
   "cell_type": "markdown",
   "id": "4f345005",
   "metadata": {},
   "source": [
    "### Example of using an API\n",
    "\n",
    "Before we get deeper into our problem, let's begin with a simple API. Take a look at https://restcountries.com/\n",
    "\n",
    "**Requests Module in Python:**\n",
    "\n",
    "The `requests` module in Python is a versatile HTTP library that simplifies the process of making HTTP requests. It provides a convenient API for sending HTTP/1.1 requests, handling response content, and managing various aspects of HTTP communication. The module is widely used for interacting with web APIs and fetching data from the internet. Its simplicity and readability make it a popular choice for HTTP-related tasks. \n",
    "\n",
    "`Requests` eliminates the need for manually handling low-level HTTP operations and provides a high-level interface for common use cases, such as sending GET and POST requests. \n",
    "\n",
    "The alternative to `requests` includes lower-level libraries like `urllib`, but `requests` stands out for its user-friendly syntax and comprehensive functionality. In the background, the `requests` module abstracts the complexities of building and sending HTTP requests, managing sessions, and handling cookies.\n",
    "\n",
    "\n",
    "Usually, you can simply send a GET or a POST request with the following syntax.\n",
    "```\n",
    "import requests\n",
    "response = requests.get(\"http://apiendpoint.com?param=123\")\n",
    "```\n",
    "Then you can process the response to use the data fetched from the API."
   ]
  },
  {
   "cell_type": "markdown",
   "id": "03ba540c",
   "metadata": {},
   "source": [
    "### Example: Get data about a country from the API"
   ]
  },
  {
   "cell_type": "code",
   "execution_count": 78,
   "id": "44035c6f",
   "metadata": {},
   "outputs": [
    {
     "name": "stdout",
     "output_type": "stream",
     "text": [
      "Country Information:\n",
      "Name: Netherlands\n",
      "Capital: Amsterdam\n",
      "Population: 16655799\n",
      "Region: Europe\n"
     ]
    }
   ],
   "source": [
    "import requests\n",
    "\n",
    "# API endpoint for REST Countries\n",
    "api_endpoint = \"https://restcountries.com/v3.1/name/\"\n",
    "\n",
    "# Country name (replace with the desired country)\n",
    "country_name = \"netherlands\"\n",
    "\n",
    "# Make a request to the API\n",
    "response = requests.get(f\"{api_endpoint}{country_name}\")\n",
    "\n",
    "# Check if the request was successful (status code 200)\n",
    "if response.status_code == 200:\n",
    "    # Parse the JSON response\n",
    "    country_data = response.json()\n",
    "\n",
    "    # Display information about the country\n",
    "    print(\"Country Information:\")\n",
    "    print(\"Name:\", country_data[0]['name']['common'])\n",
    "    print(\"Capital:\", country_data[0]['capital'][0])\n",
    "    print(\"Population:\", country_data[0]['population'])\n",
    "    print(\"Region:\", country_data[0]['region'])\n",
    "else:\n",
    "    print(f\"Error: Unable to retrieve information. Status code: {response.status_code}\")"
   ]
  },
  {
   "cell_type": "markdown",
   "id": "d333401a",
   "metadata": {},
   "source": [
    "# API for Student Information"
   ]
  },
  {
   "cell_type": "markdown",
   "id": "1530a8d3",
   "metadata": {},
   "source": [
    "The API provided by the learning system can be used for obtaining the data. In more complex systems, you will have to register with the data provider and obtain the API key. We have set up an API key for you. \n",
    "```\n",
    "KEY = '20240202OVP'\n",
    "APP = 'ovpexample'\n",
    "```\n",
    "You will provide these along with your request.\n",
    "\n",
    "How the API works:\n",
    "\n",
    "First you will obtain a list of students. This API key authorizes you to access data about a limited list of students. No personal data is shared.\n",
    "\n",
    "Write working on large projects, you will upload your code on a shared repository, which in some cases, might be public. You will store KEY and APP in a separate file or as `environment` variables. For this example, you don't have to worry about that. This API will be disabled after the course."
   ]
  },
  {
   "cell_type": "code",
   "execution_count": 79,
   "id": "d36cde2f",
   "metadata": {},
   "outputs": [
    {
     "name": "stdout",
     "output_type": "stream",
     "text": [
      "{'status': 'running'}\n"
     ]
    }
   ],
   "source": [
    "import requests\n",
    "\n",
    "api_key = 'YOUR_API_KEY'\n",
    "api_app = 'YOUR_APP'\n",
    "\n",
    "api_endpoint = 'https://studylens.science.uu.nl/ovp/'\n",
    "params = {'appid': api_app, 'key': api_key}\n",
    "\n",
    "response = requests.get(api_endpoint, params=params)\n",
    "\n",
    "if response.status_code == 200:\n",
    "    server_response_data = response.json()\n",
    "    print (server_response_data)\n",
    "else:\n",
    "    print(f\"Error: Unable to retrieve data. Status code: {response.status_code}\")"
   ]
  },
  {
   "cell_type": "markdown",
   "id": "bbfaf060",
   "metadata": {},
   "source": [
    "Here's API specification defined by this software.\n",
    "\n",
    "**Get Student List** `/ovp/students?courseid=401`\n",
    "Get a list of all the students in the course assigned to courseid 401. The response will contain a list of student ids.\n",
    "\n",
    "**Get Student Details** `/ovp/studentrecord?studentid=<STUDENTID>`\n",
    "Get a json object with all the details about student's activities in the system."
   ]
  },
  {
   "cell_type": "markdown",
   "id": "e87c7fcd",
   "metadata": {},
   "source": [
    "### Testing the status of the API"
   ]
  },
  {
   "cell_type": "code",
   "execution_count": 80,
   "id": "ef4ecc59",
   "metadata": {},
   "outputs": [
    {
     "name": "stdout",
     "output_type": "stream",
     "text": [
      "{'status': 'running'}\n"
     ]
    }
   ],
   "source": [
    "import requests\n",
    "response = requests.get('https://studylens.science.uu.nl/ovp', params=params)\n",
    "\n",
    "if response.status_code == 200:\n",
    "    server_response_data = response.json()\n",
    "    print (server_response_data)\n",
    "else:\n",
    "    print(f\"Error: Unable to retrieve data. Status code: {response.status_code}\")"
   ]
  },
  {
   "cell_type": "markdown",
   "id": "339b3645",
   "metadata": {},
   "source": [
    "## API Parameters\n",
    "Run the following block of code to prepare the variables we will need to send to the API."
   ]
  },
  {
   "cell_type": "code",
   "execution_count": 81,
   "id": "3865cb84",
   "metadata": {},
   "outputs": [],
   "source": [
    "API_ENDPOINT = 'https://studylens.science.uu.nl/ovp/'\n",
    "KEY = '20250202OVP'\n",
    "APP = 'ovpexample'\n",
    "COURSEID = '2024214'"
   ]
  },
  {
   "cell_type": "markdown",
   "id": "5d8f0593",
   "metadata": {},
   "source": [
    "### Task 6.1: Get a list of all the students in this course\n",
    "\n",
    "Fetch a list of all the student ids present in this course. Save it to a list with variable name ```studentids```"
   ]
  },
  {
   "cell_type": "code",
   "execution_count": 82,
   "id": "8215c35c",
   "metadata": {},
   "outputs": [
    {
     "name": "stdout",
     "output_type": "stream",
     "text": [
      "https://studylens.science.uu.nl/ovp//students\n",
      "200\n",
      "{'student_ids': [8758233, 6398728, 40018, 9886014, 2911442, 7198569, 2543484, 9845996, 4183184, 6214749, 4615067, 8574254, 6686650, 8286332, 9374095, 655880, 6870629, 5126986, 7342530, 7630452, 9702035, 367958, 5886809, 3383343, 4943007, 6070788, 3815226, 6358710, 6030770, 7814431, 3855244, 3055403, 7486491, 5414908, 6830611, 799841, 5742848, 8142371, 1311760, 8430293, 5558869, 327940, 3015385, 9046155, 6502671, 8246314, 7670470, 2439541, 1927622, 3671265, 6542689, 4287127, 5086968, 9086173, 4759028, 8102353, 9558074, 9230134, 2111601, 9518056, 4799046, 1167799, 511919, 2399523, 5270947, 8902194, 983820, 1455721, 3199364, 4143166, 4471106, 5926827, 1639700, 7774413, 7958392, 695898, 2583502, 3343325, 3999205, 4327145, 2871424, 9414113, 839859, 1271742, 2727463, 8614272, 5598887, 183979, 8942212, 1127781, 7158551, 2071583, 5454926, 7014590, 2255562, 1783661, 7302512, 4655085, 3527304, 1599682, 5263456]}\n"
     ]
    }
   ],
   "source": [
    "params = {'appid': APP, 'key': KEY, 'courseid':COURSEID}\n",
    "url = api_endpoint+\"/students\"\n",
    "print (url)\n",
    "\n",
    "response = requests.get(url, params=params)\n",
    "\n",
    "print (response.status_code)\n",
    "print (response.json())\n",
    "\n",
    "studentids = response.json()['student_ids']\n",
    "\n",
    "## Do something here"
   ]
  },
  {
   "cell_type": "markdown",
   "id": "eeb47b2a",
   "metadata": {},
   "source": [
    "### Example: First Get details of one student\n",
    "\n",
    "Pick student id, say, 1167799. We will make it work for one student. Once it is ready, we can write a loop to write details of all the students, collect them in a list, and convert it to a dataframe"
   ]
  },
  {
   "cell_type": "code",
   "execution_count": 83,
   "id": "a25c70bd",
   "metadata": {},
   "outputs": [
    {
     "data": {
      "text/plain": [
       "{'ArticlesVisited': 9,\n",
       " 'AvgQuizGrade': 4.75,\n",
       " 'CourseGrade': 5.6,\n",
       " 'FinalResult': 'Pass',\n",
       " 'FirstLoginDate': '13-09-23',\n",
       " 'NumSessions': 4.0,\n",
       " 'Quiz1': 55.0,\n",
       " 'Quiz10': 42.0,\n",
       " 'Quiz2': 52.0,\n",
       " 'Quiz3': 36.0,\n",
       " 'Quiz4': 54.0,\n",
       " 'Quiz5': nan,\n",
       " 'Quiz6': nan,\n",
       " 'Quiz7': nan,\n",
       " 'Quiz8': nan,\n",
       " 'Quiz9': 46.0,\n",
       " 'QuizAttempted': 6,\n",
       " 'QuizReviewed': 3.0,\n",
       " 'UnqArticlesRead': 7.0,\n",
       " 'UnqDay': 6.0,\n",
       " 'UnqVideosWatched': 6,\n",
       " 'UnqWeeknd': 1.0,\n",
       " 'UserID': 1167799,\n",
       " 'VideosWatched': 7}"
      ]
     },
     "execution_count": 83,
     "metadata": {},
     "output_type": "execute_result"
    }
   ],
   "source": [
    "url = api_endpoint+\"/getstudentrecord\"\n",
    "params = {'appid': APP, 'key': KEY, 'studentid':'1167799'}\n",
    "response = requests.get(url, params=params)\n",
    "response.json()"
   ]
  },
  {
   "cell_type": "markdown",
   "id": "d73699fc",
   "metadata": {},
   "source": [
    "### Task 6.2: Collect details of all the students in the course"
   ]
  },
  {
   "cell_type": "code",
   "execution_count": 84,
   "id": "202ef3a2",
   "metadata": {},
   "outputs": [
    {
     "name": "stdout",
     "output_type": "stream",
     "text": [
      "{'ArticlesVisited': 54, 'AvgQuizGrade': 4.856, 'CourseGrade': 6.7, 'FinalResult': 'Pass', 'FirstLoginDate': '10-09-23', 'NumSessions': 24.0, 'Quiz1': 46.0, 'Quiz10': nan, 'Quiz2': 40.0, 'Quiz3': 56.0, 'Quiz4': 44.0, 'Quiz5': 33.0, 'Quiz6': 68.0, 'Quiz7': 41.0, 'Quiz8': 43.0, 'Quiz9': 66.0, 'QuizAttempted': 9, 'QuizReviewed': 6.0, 'UnqArticlesRead': 26.0, 'UnqDay': 22.0, 'UnqVideosWatched': 24, 'UnqWeeknd': 7.0, 'UserID': 8758233, 'VideosWatched': 43}\n",
      "8758233\n",
      "{'ArticlesVisited': 35, 'AvgQuizGrade': 8.15, 'CourseGrade': 6.0, 'FinalResult': 'Pass', 'FirstLoginDate': '06-09-23', 'NumSessions': 8.0, 'Quiz1': nan, 'Quiz10': nan, 'Quiz2': 67.0, 'Quiz3': nan, 'Quiz4': 96.0, 'Quiz5': nan, 'Quiz6': nan, 'Quiz7': nan, 'Quiz8': nan, 'Quiz9': nan, 'QuizAttempted': 2, 'QuizReviewed': 1.0, 'UnqArticlesRead': 11.0, 'UnqDay': 5.0, 'UnqVideosWatched': 4, 'UnqWeeknd': 4.0, 'UserID': 6398728, 'VideosWatched': 6}\n",
      "6398728\n",
      "{'ArticlesVisited': 0, 'AvgQuizGrade': 5.844, 'CourseGrade': 6.7, 'FinalResult': 'Pass', 'FirstLoginDate': '11-09-23', 'NumSessions': nan, 'Quiz1': 42.0, 'Quiz10': 58.0, 'Quiz2': 16.0, 'Quiz3': 55.0, 'Quiz4': 87.0, 'Quiz5': 40.0, 'Quiz6': 99.0, 'Quiz7': 69.0, 'Quiz8': nan, 'Quiz9': 60.0, 'QuizAttempted': 9, 'QuizReviewed': 5.0, 'UnqArticlesRead': 0.0, 'UnqDay': 2.0, 'UnqVideosWatched': 0, 'UnqWeeknd': 2.0, 'UserID': 40018, 'VideosWatched': 0}\n",
      "40018\n",
      "{'ArticlesVisited': 6, 'AvgQuizGrade': 8.983, 'CourseGrade': 3.2, 'FinalResult': 'Fail', 'FirstLoginDate': '23-09-23', 'NumSessions': 6.0, 'Quiz1': 95.0, 'Quiz10': nan, 'Quiz2': nan, 'Quiz3': 72.0, 'Quiz4': nan, 'Quiz5': 84.0, 'Quiz6': 88.0, 'Quiz7': 100.0, 'Quiz8': 100.0, 'Quiz9': nan, 'QuizAttempted': 6, 'QuizReviewed': 3.0, 'UnqArticlesRead': 3.0, 'UnqDay': 7.0, 'UnqVideosWatched': 3, 'UnqWeeknd': 4.0, 'UserID': 9886014, 'VideosWatched': 3}\n",
      "9886014\n",
      "{'ArticlesVisited': 27, 'AvgQuizGrade': 4.75, 'CourseGrade': 5.8, 'FinalResult': 'Pass', 'FirstLoginDate': '11-09-23', 'NumSessions': 27.0, 'Quiz1': 61.0, 'Quiz10': 37.0, 'Quiz2': 63.0, 'Quiz3': 41.0, 'Quiz4': 27.0, 'Quiz5': 61.0, 'Quiz6': nan, 'Quiz7': 49.0, 'Quiz8': 41.0, 'Quiz9': nan, 'QuizAttempted': 8, 'QuizReviewed': 6.0, 'UnqArticlesRead': 25.0, 'UnqDay': 24.0, 'UnqVideosWatched': 13, 'UnqWeeknd': 1.0, 'UserID': 2911442, 'VideosWatched': 14}\n",
      "2911442\n",
      "{'ArticlesVisited': 57, 'AvgQuizGrade': 6.54, 'CourseGrade': 6.2, 'FinalResult': 'Pass', 'FirstLoginDate': '11-09-23', 'NumSessions': 13.0, 'Quiz1': 33.0, 'Quiz10': 100.0, 'Quiz2': 60.0, 'Quiz3': 45.0, 'Quiz4': 94.0, 'Quiz5': 51.0, 'Quiz6': 61.0, 'Quiz7': 65.0, 'Quiz8': 90.0, 'Quiz9': 55.0, 'QuizAttempted': 10, 'QuizReviewed': 6.0, 'UnqArticlesRead': 33.0, 'UnqDay': 12.0, 'UnqVideosWatched': 12, 'UnqWeeknd': 9.0, 'UserID': 7198569, 'VideosWatched': 16}\n",
      "7198569\n",
      "{'ArticlesVisited': 21, 'AvgQuizGrade': 4.17, 'CourseGrade': 3.5, 'FinalResult': 'Fail', 'FirstLoginDate': '07-09-23', 'NumSessions': 8.0, 'Quiz1': 0.0, 'Quiz10': 39.0, 'Quiz2': 52.0, 'Quiz3': 62.0, 'Quiz4': 36.0, 'Quiz5': 23.0, 'Quiz6': 46.0, 'Quiz7': 32.0, 'Quiz8': 66.0, 'Quiz9': 61.0, 'QuizAttempted': 10, 'QuizReviewed': 3.0, 'UnqArticlesRead': 15.0, 'UnqDay': 7.0, 'UnqVideosWatched': 8, 'UnqWeeknd': 4.0, 'UserID': 2543484, 'VideosWatched': 8}\n",
      "2543484\n",
      "{'ArticlesVisited': 56, 'AvgQuizGrade': 5.133, 'CourseGrade': 9.3, 'FinalResult': 'Pass', 'FirstLoginDate': '07-09-23', 'NumSessions': 19.0, 'Quiz1': nan, 'Quiz10': 28.0, 'Quiz2': 65.0, 'Quiz3': 44.0, 'Quiz4': 38.0, 'Quiz5': 53.0, 'Quiz6': 59.0, 'Quiz7': 58.0, 'Quiz8': 63.0, 'Quiz9': 54.0, 'QuizAttempted': 9, 'QuizReviewed': 8.0, 'UnqArticlesRead': 29.0, 'UnqDay': 21.0, 'UnqVideosWatched': 13, 'UnqWeeknd': 4.0, 'UserID': 9845996, 'VideosWatched': 17}\n",
      "9845996\n",
      "{'ArticlesVisited': 87, 'AvgQuizGrade': 6.422, 'CourseGrade': 7.2, 'FinalResult': 'Pass', 'FirstLoginDate': '14-09-23', 'NumSessions': 23.0, 'Quiz1': 29.0, 'Quiz10': 100.0, 'Quiz2': 62.0, 'Quiz3': 79.0, 'Quiz4': 62.0, 'Quiz5': 58.0, 'Quiz6': 65.0, 'Quiz7': 57.0, 'Quiz8': 66.0, 'Quiz9': nan, 'QuizAttempted': 9, 'QuizReviewed': 8.0, 'UnqArticlesRead': 34.0, 'UnqDay': 22.0, 'UnqVideosWatched': 23, 'UnqWeeknd': 0.0, 'UserID': 4183184, 'VideosWatched': 30}\n",
      "4183184\n",
      "{'ArticlesVisited': 91, 'AvgQuizGrade': 7.288, 'CourseGrade': 7.9, 'FinalResult': 'Pass', 'FirstLoginDate': '13-09-23', 'NumSessions': 17.0, 'Quiz1': 100.0, 'Quiz10': 67.0, 'Quiz2': 63.0, 'Quiz3': 80.0, 'Quiz4': nan, 'Quiz5': 75.0, 'Quiz6': 65.0, 'Quiz7': 66.0, 'Quiz8': nan, 'Quiz9': 67.0, 'QuizAttempted': 8, 'QuizReviewed': 3.0, 'UnqArticlesRead': 30.0, 'UnqDay': 14.0, 'UnqVideosWatched': 23, 'UnqWeeknd': 7.0, 'UserID': 6214749, 'VideosWatched': 35}\n",
      "6214749\n",
      "{'ArticlesVisited': 53, 'AvgQuizGrade': 7.157, 'CourseGrade': 7.4, 'FinalResult': 'Pass', 'FirstLoginDate': '14-09-23', 'NumSessions': 17.0, 'Quiz1': 69.0, 'Quiz10': nan, 'Quiz2': 70.0, 'Quiz3': 42.0, 'Quiz4': 87.0, 'Quiz5': 69.0, 'Quiz6': 96.0, 'Quiz7': 68.0, 'Quiz8': nan, 'Quiz9': nan, 'QuizAttempted': 7, 'QuizReviewed': 6.0, 'UnqArticlesRead': 31.0, 'UnqDay': 16.0, 'UnqVideosWatched': 25, 'UnqWeeknd': 9.0, 'UserID': 4615067, 'VideosWatched': 29}\n",
      "4615067\n",
      "{'ArticlesVisited': 7, 'AvgQuizGrade': 6.778, 'CourseGrade': 6.2, 'FinalResult': 'Pass', 'FirstLoginDate': '10-09-23', 'NumSessions': 25.0, 'Quiz1': 69.0, 'Quiz10': 64.0, 'Quiz2': nan, 'Quiz3': 65.0, 'Quiz4': 81.0, 'Quiz5': 71.0, 'Quiz6': 78.0, 'Quiz7': 77.0, 'Quiz8': 63.0, 'Quiz9': 42.0, 'QuizAttempted': 9, 'QuizReviewed': 4.0, 'UnqArticlesRead': 3.0, 'UnqDay': 22.0, 'UnqVideosWatched': 20, 'UnqWeeknd': 8.0, 'UserID': 8574254, 'VideosWatched': 25}\n",
      "8574254\n",
      "{'ArticlesVisited': 37, 'AvgQuizGrade': 8.562, 'CourseGrade': 7.0, 'FinalResult': 'Pass', 'FirstLoginDate': '13-09-23', 'NumSessions': 18.0, 'Quiz1': nan, 'Quiz10': 100.0, 'Quiz2': 100.0, 'Quiz3': 100.0, 'Quiz4': 77.0, 'Quiz5': 55.0, 'Quiz6': 55.0, 'Quiz7': nan, 'Quiz8': 100.0, 'Quiz9': 98.0, 'QuizAttempted': 8, 'QuizReviewed': 3.0, 'UnqArticlesRead': 19.0, 'UnqDay': 20.0, 'UnqVideosWatched': 14, 'UnqWeeknd': 7.0, 'UserID': 6686650, 'VideosWatched': 25}\n",
      "6686650\n",
      "{'ArticlesVisited': 82, 'AvgQuizGrade': 8.24, 'CourseGrade': 4.4, 'FinalResult': 'Fail', 'FirstLoginDate': '22-09-23', 'NumSessions': 22.0, 'Quiz1': nan, 'Quiz10': nan, 'Quiz2': 100.0, 'Quiz3': 98.0, 'Quiz4': 98.0, 'Quiz5': 63.0, 'Quiz6': 53.0, 'Quiz7': nan, 'Quiz8': nan, 'Quiz9': nan, 'QuizAttempted': 5, 'QuizReviewed': 2.0, 'UnqArticlesRead': 35.0, 'UnqDay': 23.0, 'UnqVideosWatched': 9, 'UnqWeeknd': 9.0, 'UserID': 8286332, 'VideosWatched': 10}\n",
      "8286332\n",
      "{'ArticlesVisited': 4, 'AvgQuizGrade': 6.589, 'CourseGrade': 2.5, 'FinalResult': 'Fail', 'FirstLoginDate': '25-09-23', 'NumSessions': 3.0, 'Quiz1': 55.0, 'Quiz10': 59.0, 'Quiz2': 55.0, 'Quiz3': 77.0, 'Quiz4': 79.0, 'Quiz5': 71.0, 'Quiz6': nan, 'Quiz7': 70.0, 'Quiz8': 74.0, 'Quiz9': 53.0, 'QuizAttempted': 9, 'QuizReviewed': 2.0, 'UnqArticlesRead': 3.0, 'UnqDay': 5.0, 'UnqVideosWatched': 6, 'UnqWeeknd': 2.0, 'UserID': 9374095, 'VideosWatched': 8}\n",
      "9374095\n",
      "{'ArticlesVisited': 4, 'AvgQuizGrade': 3.83, 'CourseGrade': 5.1, 'FinalResult': 'Fail', 'FirstLoginDate': '19-09-23', 'NumSessions': 5.0, 'Quiz1': 57.0, 'Quiz10': 38.0, 'Quiz2': 23.0, 'Quiz3': 44.0, 'Quiz4': 23.0, 'Quiz5': 19.0, 'Quiz6': 56.0, 'Quiz7': 46.0, 'Quiz8': 31.0, 'Quiz9': 46.0, 'QuizAttempted': 10, 'QuizReviewed': 6.0, 'UnqArticlesRead': 4.0, 'UnqDay': 6.0, 'UnqVideosWatched': 1, 'UnqWeeknd': 5.0, 'UserID': 655880, 'VideosWatched': 1}\n",
      "655880\n",
      "{'ArticlesVisited': 30, 'AvgQuizGrade': 4.77, 'CourseGrade': 4.8, 'FinalResult': 'Fail', 'FirstLoginDate': '05-09-23', 'NumSessions': 7.0, 'Quiz1': 66.0, 'Quiz10': 51.0, 'Quiz2': 17.0, 'Quiz3': 31.0, 'Quiz4': 67.0, 'Quiz5': 66.0, 'Quiz6': 18.0, 'Quiz7': 60.0, 'Quiz8': 18.0, 'Quiz9': 83.0, 'QuizAttempted': 10, 'QuizReviewed': 7.0, 'UnqArticlesRead': 17.0, 'UnqDay': 4.0, 'UnqVideosWatched': 11, 'UnqWeeknd': 1.0, 'UserID': 6870629, 'VideosWatched': 16}\n",
      "6870629\n",
      "{'ArticlesVisited': 117, 'AvgQuizGrade': 7.58, 'CourseGrade': 6.7, 'FinalResult': 'Pass', 'FirstLoginDate': '06-09-23', 'NumSessions': 21.0, 'Quiz1': 52.0, 'Quiz10': 100.0, 'Quiz2': 72.0, 'Quiz3': 70.0, 'Quiz4': 65.0, 'Quiz5': 95.0, 'Quiz6': 69.0, 'Quiz7': 100.0, 'Quiz8': 35.0, 'Quiz9': 100.0, 'QuizAttempted': 10, 'QuizReviewed': 7.0, 'UnqArticlesRead': 42.0, 'UnqDay': 21.0, 'UnqVideosWatched': 11, 'UnqWeeknd': 6.0, 'UserID': 5126986, 'VideosWatched': 17}\n",
      "5126986\n",
      "{'ArticlesVisited': 72, 'AvgQuizGrade': 8.7, 'CourseGrade': 9.7, 'FinalResult': 'Pass', 'FirstLoginDate': '13-09-23', 'NumSessions': 24.0, 'Quiz1': 64.0, 'Quiz10': 75.0, 'Quiz2': 100.0, 'Quiz3': nan, 'Quiz4': 100.0, 'Quiz5': 90.0, 'Quiz6': 81.0, 'Quiz7': 73.0, 'Quiz8': 100.0, 'Quiz9': 100.0, 'QuizAttempted': 9, 'QuizReviewed': 6.0, 'UnqArticlesRead': 41.0, 'UnqDay': 22.0, 'UnqVideosWatched': 10, 'UnqWeeknd': 1.0, 'UserID': 7342530, 'VideosWatched': 10}\n",
      "7342530\n",
      "{'ArticlesVisited': 77, 'AvgQuizGrade': 5.278, 'CourseGrade': 6.8, 'FinalResult': 'Pass', 'FirstLoginDate': '11-09-23', 'NumSessions': 14.0, 'Quiz1': 24.0, 'Quiz10': 61.0, 'Quiz2': 100.0, 'Quiz3': 51.0, 'Quiz4': 91.0, 'Quiz5': nan, 'Quiz6': 12.0, 'Quiz7': 75.0, 'Quiz8': 26.0, 'Quiz9': 35.0, 'QuizAttempted': 9, 'QuizReviewed': 6.0, 'UnqArticlesRead': 38.0, 'UnqDay': 14.0, 'UnqVideosWatched': 19, 'UnqWeeknd': 4.0, 'UserID': 7630452, 'VideosWatched': 24}\n",
      "7630452\n",
      "{'ArticlesVisited': 16, 'AvgQuizGrade': 7.4, 'CourseGrade': 6.3, 'FinalResult': 'Pass', 'FirstLoginDate': '14-09-23', 'NumSessions': 4.0, 'Quiz1': nan, 'Quiz10': nan, 'Quiz2': 63.0, 'Quiz3': 68.0, 'Quiz4': nan, 'Quiz5': nan, 'Quiz6': 72.0, 'Quiz7': 93.0, 'Quiz8': nan, 'Quiz9': nan, 'QuizAttempted': 4, 'QuizReviewed': 1.0, 'UnqArticlesRead': 8.0, 'UnqDay': 5.0, 'UnqVideosWatched': 4, 'UnqWeeknd': 4.0, 'UserID': 9702035, 'VideosWatched': 7}\n",
      "9702035\n",
      "{'ArticlesVisited': 104, 'AvgQuizGrade': 9.122, 'CourseGrade': 9.7, 'FinalResult': 'Pass', 'FirstLoginDate': '05-09-23', 'NumSessions': 15.0, 'Quiz1': 99.0, 'Quiz10': 94.0, 'Quiz2': 95.0, 'Quiz3': 93.0, 'Quiz4': 70.0, 'Quiz5': 91.0, 'Quiz6': nan, 'Quiz7': 91.0, 'Quiz8': 100.0, 'Quiz9': 88.0, 'QuizAttempted': 9, 'QuizReviewed': 9.0, 'UnqArticlesRead': 41.0, 'UnqDay': 14.0, 'UnqVideosWatched': 20, 'UnqWeeknd': 6.0, 'UserID': 367958, 'VideosWatched': 29}\n",
      "367958\n",
      "{'ArticlesVisited': 37, 'AvgQuizGrade': 8.611, 'CourseGrade': 4.4, 'FinalResult': 'Fail', 'FirstLoginDate': '14-10-23', 'NumSessions': 8.0, 'Quiz1': 64.0, 'Quiz10': 100.0, 'Quiz2': 100.0, 'Quiz3': 100.0, 'Quiz4': nan, 'Quiz5': 54.0, 'Quiz6': 100.0, 'Quiz7': 66.0, 'Quiz8': 100.0, 'Quiz9': 91.0, 'QuizAttempted': 9, 'QuizReviewed': 4.0, 'UnqArticlesRead': 16.0, 'UnqDay': 8.0, 'UnqVideosWatched': 1, 'UnqWeeknd': 0.0, 'UserID': 5886809, 'VideosWatched': 1}\n",
      "5886809\n",
      "{'ArticlesVisited': 14, 'AvgQuizGrade': 0.0, 'CourseGrade': 4.2, 'FinalResult': 'Fail', 'FirstLoginDate': '06-09-23', 'NumSessions': 5.0, 'Quiz1': nan, 'Quiz10': nan, 'Quiz2': nan, 'Quiz3': nan, 'Quiz4': nan, 'Quiz5': nan, 'Quiz6': nan, 'Quiz7': nan, 'Quiz8': nan, 'Quiz9': nan, 'QuizAttempted': 0, 'QuizReviewed': 0.0, 'UnqArticlesRead': 8.0, 'UnqDay': 7.0, 'UnqVideosWatched': 9, 'UnqWeeknd': 1.0, 'UserID': 3383343, 'VideosWatched': 9}\n",
      "3383343\n",
      "{'ArticlesVisited': 72, 'AvgQuizGrade': 8.678, 'CourseGrade': 10.0, 'FinalResult': 'Pass', 'FirstLoginDate': '11-09-23', 'NumSessions': 27.0, 'Quiz1': 100.0, 'Quiz10': 97.0, 'Quiz2': 62.0, 'Quiz3': 100.0, 'Quiz4': 100.0, 'Quiz5': 100.0, 'Quiz6': 61.0, 'Quiz7': 87.0, 'Quiz8': nan, 'Quiz9': 74.0, 'QuizAttempted': 9, 'QuizReviewed': 9.0, 'UnqArticlesRead': 26.0, 'UnqDay': 27.0, 'UnqVideosWatched': 16, 'UnqWeeknd': 9.0, 'UserID': 4943007, 'VideosWatched': 30}\n",
      "4943007\n",
      "{'ArticlesVisited': 61, 'AvgQuizGrade': 5.95, 'CourseGrade': 7.1, 'FinalResult': 'Pass', 'FirstLoginDate': '11-09-23', 'NumSessions': 20.0, 'Quiz1': 55.0, 'Quiz10': nan, 'Quiz2': nan, 'Quiz3': 68.0, 'Quiz4': nan, 'Quiz5': 63.0, 'Quiz6': 73.0, 'Quiz7': nan, 'Quiz8': 44.0, 'Quiz9': 54.0, 'QuizAttempted': 6, 'QuizReviewed': 3.0, 'UnqArticlesRead': 25.0, 'UnqDay': 17.0, 'UnqVideosWatched': 22, 'UnqWeeknd': 4.0, 'UserID': 6070788, 'VideosWatched': 36}\n",
      "6070788\n",
      "{'ArticlesVisited': 4, 'AvgQuizGrade': 4.571, 'CourseGrade': 3.6, 'FinalResult': 'Fail', 'FirstLoginDate': '20-09-23', 'NumSessions': 2.0, 'Quiz1': nan, 'Quiz10': 37.0, 'Quiz2': 48.0, 'Quiz3': 30.0, 'Quiz4': 54.0, 'Quiz5': nan, 'Quiz6': nan, 'Quiz7': 47.0, 'Quiz8': 40.0, 'Quiz9': 64.0, 'QuizAttempted': 7, 'QuizReviewed': 3.0, 'UnqArticlesRead': 3.0, 'UnqDay': 2.0, 'UnqVideosWatched': 3, 'UnqWeeknd': 0.0, 'UserID': 3815226, 'VideosWatched': 4}\n",
      "3815226\n",
      "{'ArticlesVisited': 88, 'AvgQuizGrade': 7.257, 'CourseGrade': 6.9, 'FinalResult': 'Pass', 'FirstLoginDate': '11-09-23', 'NumSessions': 24.0, 'Quiz1': 57.0, 'Quiz10': nan, 'Quiz2': 81.0, 'Quiz3': 74.0, 'Quiz4': 79.0, 'Quiz5': nan, 'Quiz6': 69.0, 'Quiz7': 72.0, 'Quiz8': nan, 'Quiz9': 76.0, 'QuizAttempted': 7, 'QuizReviewed': 5.0, 'UnqArticlesRead': 39.0, 'UnqDay': 25.0, 'UnqVideosWatched': 11, 'UnqWeeknd': 2.0, 'UserID': 6358710, 'VideosWatched': 19}\n",
      "6358710\n",
      "{'ArticlesVisited': 1, 'AvgQuizGrade': 8.6, 'CourseGrade': 3.4, 'FinalResult': 'Fail', 'FirstLoginDate': '05-09-23', 'NumSessions': 2.0, 'Quiz1': 69.0, 'Quiz10': 77.0, 'Quiz2': 100.0, 'Quiz3': 84.0, 'Quiz4': 87.0, 'Quiz5': nan, 'Quiz6': 75.0, 'Quiz7': 96.0, 'Quiz8': nan, 'Quiz9': 100.0, 'QuizAttempted': 8, 'QuizReviewed': 2.0, 'UnqArticlesRead': nan, 'UnqDay': 4.0, 'UnqVideosWatched': 3, 'UnqWeeknd': 2.0, 'UserID': 6030770, 'VideosWatched': 3}\n",
      "6030770\n",
      "{'ArticlesVisited': 83, 'AvgQuizGrade': 6.871, 'CourseGrade': 6.8, 'FinalResult': 'Pass', 'FirstLoginDate': '07-09-23', 'NumSessions': 18.0, 'Quiz1': 64.0, 'Quiz10': nan, 'Quiz2': 64.0, 'Quiz3': 53.0, 'Quiz4': 65.0, 'Quiz5': nan, 'Quiz6': 100.0, 'Quiz7': 63.0, 'Quiz8': 72.0, 'Quiz9': nan, 'QuizAttempted': 7, 'QuizReviewed': 2.0, 'UnqArticlesRead': 35.0, 'UnqDay': 20.0, 'UnqVideosWatched': 20, 'UnqWeeknd': 6.0, 'UserID': 7814431, 'VideosWatched': 26}\n",
      "7814431\n",
      "{'ArticlesVisited': 80, 'AvgQuizGrade': 7.533, 'CourseGrade': 6.6, 'FinalResult': 'Pass', 'FirstLoginDate': '15-09-23', 'NumSessions': 21.0, 'Quiz1': 82.0, 'Quiz10': nan, 'Quiz2': nan, 'Quiz3': 56.0, 'Quiz4': nan, 'Quiz5': nan, 'Quiz6': nan, 'Quiz7': 88.0, 'Quiz8': nan, 'Quiz9': nan, 'QuizAttempted': 3, 'QuizReviewed': 2.0, 'UnqArticlesRead': 38.0, 'UnqDay': 22.0, 'UnqVideosWatched': 5, 'UnqWeeknd': 8.0, 'UserID': 3855244, 'VideosWatched': 5}\n",
      "3855244\n",
      "{'ArticlesVisited': 8, 'AvgQuizGrade': 7.86, 'CourseGrade': 7.7, 'FinalResult': 'Pass', 'FirstLoginDate': '11-09-23', 'NumSessions': 2.0, 'Quiz1': 100.0, 'Quiz10': 64.0, 'Quiz2': 98.0, 'Quiz3': 88.0, 'Quiz4': 99.0, 'Quiz5': 67.0, 'Quiz6': 59.0, 'Quiz7': 77.0, 'Quiz8': 78.0, 'Quiz9': 56.0, 'QuizAttempted': 10, 'QuizReviewed': 7.0, 'UnqArticlesRead': 5.0, 'UnqDay': 2.0, 'UnqVideosWatched': 4, 'UnqWeeknd': 1.0, 'UserID': 3055403, 'VideosWatched': 5}\n",
      "3055403\n",
      "{'ArticlesVisited': 49, 'AvgQuizGrade': 9.25, 'CourseGrade': 9.7, 'FinalResult': 'Pass', 'FirstLoginDate': '06-09-23', 'NumSessions': 23.0, 'Quiz1': 81.0, 'Quiz10': 100.0, 'Quiz2': 96.0, 'Quiz3': nan, 'Quiz4': 100.0, 'Quiz5': 93.0, 'Quiz6': nan, 'Quiz7': 100.0, 'Quiz8': 73.0, 'Quiz9': 97.0, 'QuizAttempted': 8, 'QuizReviewed': 6.0, 'UnqArticlesRead': 32.0, 'UnqDay': 22.0, 'UnqVideosWatched': 12, 'UnqWeeknd': 1.0, 'UserID': 7486491, 'VideosWatched': 17}\n",
      "7486491\n",
      "{'ArticlesVisited': 43, 'AvgQuizGrade': 7.22, 'CourseGrade': 7.3, 'FinalResult': 'Pass', 'FirstLoginDate': '09-09-23', 'NumSessions': 24.0, 'Quiz1': 68.0, 'Quiz10': 75.0, 'Quiz2': 67.0, 'Quiz3': 71.0, 'Quiz4': 79.0, 'Quiz5': 77.0, 'Quiz6': 75.0, 'Quiz7': 75.0, 'Quiz8': 68.0, 'Quiz9': 67.0, 'QuizAttempted': 10, 'QuizReviewed': 10.0, 'UnqArticlesRead': 32.0, 'UnqDay': 26.0, 'UnqVideosWatched': 17, 'UnqWeeknd': 8.0, 'UserID': 5414908, 'VideosWatched': 21}\n",
      "5414908\n",
      "{'ArticlesVisited': 58, 'AvgQuizGrade': 5.362, 'CourseGrade': 6.5, 'FinalResult': 'Pass', 'FirstLoginDate': '08-09-23', 'NumSessions': 24.0, 'Quiz1': nan, 'Quiz10': 81.0, 'Quiz2': 29.0, 'Quiz3': 61.0, 'Quiz4': 65.0, 'Quiz5': 43.0, 'Quiz6': 45.0, 'Quiz7': nan, 'Quiz8': 49.0, 'Quiz9': 56.0, 'QuizAttempted': 8, 'QuizReviewed': 6.0, 'UnqArticlesRead': 29.0, 'UnqDay': 26.0, 'UnqVideosWatched': 21, 'UnqWeeknd': 8.0, 'UserID': 6830611, 'VideosWatched': 29}\n",
      "6830611\n",
      "{'ArticlesVisited': 51, 'AvgQuizGrade': 9.05, 'CourseGrade': 7.9, 'FinalResult': 'Pass', 'FirstLoginDate': '06-09-23', 'NumSessions': 12.0, 'Quiz1': nan, 'Quiz10': nan, 'Quiz2': nan, 'Quiz3': nan, 'Quiz4': nan, 'Quiz5': nan, 'Quiz6': 100.0, 'Quiz7': 81.0, 'Quiz8': nan, 'Quiz9': nan, 'QuizAttempted': 2, 'QuizReviewed': nan, 'UnqArticlesRead': 21.0, 'UnqDay': 14.0, 'UnqVideosWatched': 17, 'UnqWeeknd': 5.0, 'UserID': 799841, 'VideosWatched': 24}\n",
      "799841\n",
      "{'ArticlesVisited': 10, 'AvgQuizGrade': 7.4, 'CourseGrade': 2.0, 'FinalResult': 'Fail', 'FirstLoginDate': '23-09-23', 'NumSessions': 6.0, 'Quiz1': nan, 'Quiz10': 92.0, 'Quiz2': 18.0, 'Quiz3': 94.0, 'Quiz4': 10.0, 'Quiz5': 100.0, 'Quiz6': 100.0, 'Quiz7': 87.0, 'Quiz8': 100.0, 'Quiz9': 65.0, 'QuizAttempted': 9, 'QuizReviewed': 2.0, 'UnqArticlesRead': 7.0, 'UnqDay': 5.0, 'UnqVideosWatched': 9, 'UnqWeeknd': 1.0, 'UserID': 5742848, 'VideosWatched': 9}\n",
      "5742848\n",
      "{'ArticlesVisited': 90, 'AvgQuizGrade': 6.688, 'CourseGrade': 7.0, 'FinalResult': 'Pass', 'FirstLoginDate': '14-09-23', 'NumSessions': 17.0, 'Quiz1': 74.0, 'Quiz10': 82.0, 'Quiz2': 67.0, 'Quiz3': nan, 'Quiz4': nan, 'Quiz5': 35.0, 'Quiz6': 61.0, 'Quiz7': 89.0, 'Quiz8': 72.0, 'Quiz9': 55.0, 'QuizAttempted': 8, 'QuizReviewed': 4.0, 'UnqArticlesRead': 29.0, 'UnqDay': 18.0, 'UnqVideosWatched': 25, 'UnqWeeknd': 4.0, 'UserID': 8142371, 'VideosWatched': 35}\n",
      "8142371\n",
      "{'ArticlesVisited': 4, 'AvgQuizGrade': 0.0, 'CourseGrade': 6.2, 'FinalResult': 'Pass', 'FirstLoginDate': '15-09-23', 'NumSessions': 6.0, 'Quiz1': nan, 'Quiz10': nan, 'Quiz2': nan, 'Quiz3': nan, 'Quiz4': nan, 'Quiz5': nan, 'Quiz6': nan, 'Quiz7': nan, 'Quiz8': nan, 'Quiz9': nan, 'QuizAttempted': 0, 'QuizReviewed': 0.0, 'UnqArticlesRead': 2.0, 'UnqDay': 7.0, 'UnqVideosWatched': 2, 'UnqWeeknd': nan, 'UserID': 1311760, 'VideosWatched': 2}\n",
      "1311760\n",
      "{'ArticlesVisited': 62, 'AvgQuizGrade': 8.1, 'CourseGrade': 7.7, 'FinalResult': 'Pass', 'FirstLoginDate': '10-09-23', 'NumSessions': 16.0, 'Quiz1': 90.0, 'Quiz10': nan, 'Quiz2': 65.0, 'Quiz3': 93.0, 'Quiz4': nan, 'Quiz5': 92.0, 'Quiz6': nan, 'Quiz7': 86.0, 'Quiz8': 100.0, 'Quiz9': 41.0, 'QuizAttempted': 7, 'QuizReviewed': 7.0, 'UnqArticlesRead': 32.0, 'UnqDay': 18.0, 'UnqVideosWatched': 15, 'UnqWeeknd': 7.0, 'UserID': 8430293, 'VideosWatched': 15}\n",
      "8430293\n",
      "{'ArticlesVisited': 81, 'AvgQuizGrade': 7.52, 'CourseGrade': 7.2, 'FinalResult': 'Pass', 'FirstLoginDate': '05-09-23', 'NumSessions': 17.0, 'Quiz1': 81.0, 'Quiz10': 77.0, 'Quiz2': 55.0, 'Quiz3': 79.0, 'Quiz4': 80.0, 'Quiz5': 91.0, 'Quiz6': 92.0, 'Quiz7': 74.0, 'Quiz8': 53.0, 'Quiz9': 70.0, 'QuizAttempted': 10, 'QuizReviewed': 9.0, 'UnqArticlesRead': 38.0, 'UnqDay': 14.0, 'UnqVideosWatched': 13, 'UnqWeeknd': 8.0, 'UserID': 5558869, 'VideosWatched': 15}\n",
      "5558869\n",
      "{'ArticlesVisited': 83, 'AvgQuizGrade': 5.66, 'CourseGrade': 8.3, 'FinalResult': 'Pass', 'FirstLoginDate': '06-09-23', 'NumSessions': 27.0, 'Quiz1': 8.0, 'Quiz10': 75.0, 'Quiz2': nan, 'Quiz3': nan, 'Quiz4': 86.0, 'Quiz5': nan, 'Quiz6': 35.0, 'Quiz7': nan, 'Quiz8': 79.0, 'Quiz9': nan, 'QuizAttempted': 5, 'QuizReviewed': 4.0, 'UnqArticlesRead': 43.0, 'UnqDay': 29.0, 'UnqVideosWatched': 6, 'UnqWeeknd': 10.0, 'UserID': 327940, 'VideosWatched': 9}\n",
      "327940\n",
      "{'ArticlesVisited': 65, 'AvgQuizGrade': 6.22, 'CourseGrade': 6.7, 'FinalResult': 'Pass', 'FirstLoginDate': '08-09-23', 'NumSessions': 22.0, 'Quiz1': 77.0, 'Quiz10': 68.0, 'Quiz2': 44.0, 'Quiz3': 100.0, 'Quiz4': 0.0, 'Quiz5': 24.0, 'Quiz6': 100.0, 'Quiz7': 56.0, 'Quiz8': 57.0, 'Quiz9': 96.0, 'QuizAttempted': 10, 'QuizReviewed': 5.0, 'UnqArticlesRead': 44.0, 'UnqDay': 24.0, 'UnqVideosWatched': 22, 'UnqWeeknd': 9.0, 'UserID': 3015385, 'VideosWatched': 24}\n",
      "3015385\n",
      "{'ArticlesVisited': 69, 'AvgQuizGrade': 8.65, 'CourseGrade': 9.1, 'FinalResult': 'Pass', 'FirstLoginDate': '13-09-23', 'NumSessions': 27.0, 'Quiz1': 100.0, 'Quiz10': 93.0, 'Quiz2': nan, 'Quiz3': 77.0, 'Quiz4': 99.0, 'Quiz5': 52.0, 'Quiz6': nan, 'Quiz7': 91.0, 'Quiz8': 80.0, 'Quiz9': 100.0, 'QuizAttempted': 8, 'QuizReviewed': 8.0, 'UnqArticlesRead': 30.0, 'UnqDay': 27.0, 'UnqVideosWatched': 19, 'UnqWeeknd': 4.0, 'UserID': 9046155, 'VideosWatched': 19}\n",
      "9046155\n",
      "{'ArticlesVisited': 90, 'AvgQuizGrade': 6.67, 'CourseGrade': 6.0, 'FinalResult': 'Pass', 'FirstLoginDate': '07-09-23', 'NumSessions': 16.0, 'Quiz1': 67.0, 'Quiz10': 70.0, 'Quiz2': 76.0, 'Quiz3': 65.0, 'Quiz4': 70.0, 'Quiz5': 70.0, 'Quiz6': 60.0, 'Quiz7': 70.0, 'Quiz8': 43.0, 'Quiz9': 76.0, 'QuizAttempted': 10, 'QuizReviewed': 5.0, 'UnqArticlesRead': 40.0, 'UnqDay': 13.0, 'UnqVideosWatched': 25, 'UnqWeeknd': 4.0, 'UserID': 6502671, 'VideosWatched': 42}\n",
      "6502671\n",
      "{'ArticlesVisited': 56, 'AvgQuizGrade': 6.922, 'CourseGrade': 6.2, 'FinalResult': 'Pass', 'FirstLoginDate': '05-09-23', 'NumSessions': 23.0, 'Quiz1': 71.0, 'Quiz10': 72.0, 'Quiz2': 70.0, 'Quiz3': 100.0, 'Quiz4': 84.0, 'Quiz5': 67.0, 'Quiz6': 54.0, 'Quiz7': 44.0, 'Quiz8': 61.0, 'Quiz9': nan, 'QuizAttempted': 9, 'QuizReviewed': 4.0, 'UnqArticlesRead': 43.0, 'UnqDay': 22.0, 'UnqVideosWatched': 17, 'UnqWeeknd': 8.0, 'UserID': 8246314, 'VideosWatched': 25}\n",
      "8246314\n",
      "{'ArticlesVisited': 60, 'AvgQuizGrade': 5.071, 'CourseGrade': 6.8, 'FinalResult': 'Pass', 'FirstLoginDate': '07-09-23', 'NumSessions': 18.0, 'Quiz1': nan, 'Quiz10': 86.0, 'Quiz2': 51.0, 'Quiz3': 48.0, 'Quiz4': 51.0, 'Quiz5': 44.0, 'Quiz6': 39.0, 'Quiz7': 36.0, 'Quiz8': nan, 'Quiz9': nan, 'QuizAttempted': 7, 'QuizReviewed': 5.0, 'UnqArticlesRead': 28.0, 'UnqDay': 20.0, 'UnqVideosWatched': 20, 'UnqWeeknd': 9.0, 'UserID': 7670470, 'VideosWatched': 20}\n",
      "7670470\n",
      "{'ArticlesVisited': 13, 'AvgQuizGrade': 9.233, 'CourseGrade': 6.9, 'FinalResult': 'Pass', 'FirstLoginDate': '09-09-23', 'NumSessions': 8.0, 'Quiz1': 95.0, 'Quiz10': nan, 'Quiz2': nan, 'Quiz3': nan, 'Quiz4': 96.0, 'Quiz5': 86.0, 'Quiz6': nan, 'Quiz7': nan, 'Quiz8': nan, 'Quiz9': nan, 'QuizAttempted': 3, 'QuizReviewed': 1.0, 'UnqArticlesRead': 9.0, 'UnqDay': 6.0, 'UnqVideosWatched': 5, 'UnqWeeknd': 6.0, 'UserID': 2439541, 'VideosWatched': 5}\n",
      "2439541\n",
      "{'ArticlesVisited': 76, 'AvgQuizGrade': 8.556, 'CourseGrade': 9.9, 'FinalResult': 'Pass', 'FirstLoginDate': '10-09-23', 'NumSessions': 4.0, 'Quiz1': 80.0, 'Quiz10': 100.0, 'Quiz2': 100.0, 'Quiz3': 84.0, 'Quiz4': 69.0, 'Quiz5': 39.0, 'Quiz6': 100.0, 'Quiz7': nan, 'Quiz8': 100.0, 'Quiz9': 98.0, 'QuizAttempted': 9, 'QuizReviewed': 9.0, 'UnqArticlesRead': 21.0, 'UnqDay': 5.0, 'UnqVideosWatched': 24, 'UnqWeeknd': 2.0, 'UserID': 1927622, 'VideosWatched': 32}\n",
      "1927622\n",
      "{'ArticlesVisited': 75, 'AvgQuizGrade': 9.0, 'CourseGrade': 9.6, 'FinalResult': 'Pass', 'FirstLoginDate': '15-09-23', 'NumSessions': 21.0, 'Quiz1': 94.0, 'Quiz10': 100.0, 'Quiz2': nan, 'Quiz3': nan, 'Quiz4': 83.0, 'Quiz5': 100.0, 'Quiz6': nan, 'Quiz7': 58.0, 'Quiz8': 95.0, 'Quiz9': 100.0, 'QuizAttempted': 7, 'QuizReviewed': 6.0, 'UnqArticlesRead': 35.0, 'UnqDay': 22.0, 'UnqVideosWatched': 13, 'UnqWeeknd': 3.0, 'UserID': 3671265, 'VideosWatched': 23}\n",
      "3671265\n",
      "{'ArticlesVisited': 7, 'AvgQuizGrade': 2.767, 'CourseGrade': 2.5, 'FinalResult': 'Fail', 'FirstLoginDate': '21-09-23', 'NumSessions': 3.0, 'Quiz1': 9.0, 'Quiz10': 55.0, 'Quiz2': 0.0, 'Quiz3': 7.0, 'Quiz4': 51.0, 'Quiz5': 38.0, 'Quiz6': nan, 'Quiz7': 58.0, 'Quiz8': 19.0, 'Quiz9': 12.0, 'QuizAttempted': 9, 'QuizReviewed': 5.0, 'UnqArticlesRead': 4.0, 'UnqDay': 4.0, 'UnqVideosWatched': 2, 'UnqWeeknd': 1.0, 'UserID': 6542689, 'VideosWatched': 2}\n",
      "6542689\n",
      "{'ArticlesVisited': 87, 'AvgQuizGrade': 4.7, 'CourseGrade': 9.3, 'FinalResult': 'Pass', 'FirstLoginDate': '07-09-23', 'NumSessions': 23.0, 'Quiz1': 44.0, 'Quiz10': 47.0, 'Quiz2': 42.0, 'Quiz3': nan, 'Quiz4': nan, 'Quiz5': 56.0, 'Quiz6': 60.0, 'Quiz7': 46.0, 'Quiz8': 24.0, 'Quiz9': 57.0, 'QuizAttempted': 8, 'QuizReviewed': 8.0, 'UnqArticlesRead': 35.0, 'UnqDay': 21.0, 'UnqVideosWatched': 12, 'UnqWeeknd': 2.0, 'UserID': 4287127, 'VideosWatched': 15}\n",
      "4287127\n",
      "{'ArticlesVisited': 70, 'AvgQuizGrade': 7.133, 'CourseGrade': 7.3, 'FinalResult': 'Pass', 'FirstLoginDate': '06-09-23', 'NumSessions': 21.0, 'Quiz1': 67.0, 'Quiz10': 78.0, 'Quiz2': nan, 'Quiz3': 80.0, 'Quiz4': 76.0, 'Quiz5': 69.0, 'Quiz6': 56.0, 'Quiz7': 78.0, 'Quiz8': 77.0, 'Quiz9': 61.0, 'QuizAttempted': 9, 'QuizReviewed': 6.0, 'UnqArticlesRead': 29.0, 'UnqDay': 18.0, 'UnqVideosWatched': 25, 'UnqWeeknd': 4.0, 'UserID': 5086968, 'VideosWatched': 36}\n",
      "5086968\n",
      "{'ArticlesVisited': 5, 'AvgQuizGrade': 5.94, 'CourseGrade': 6.4, 'FinalResult': 'Pass', 'FirstLoginDate': '06-09-23', 'NumSessions': 2.0, 'Quiz1': 82.0, 'Quiz10': nan, 'Quiz2': 50.0, 'Quiz3': nan, 'Quiz4': 49.0, 'Quiz5': nan, 'Quiz6': 75.0, 'Quiz7': nan, 'Quiz8': 41.0, 'Quiz9': nan, 'QuizAttempted': 5, 'QuizReviewed': 2.0, 'UnqArticlesRead': 3.0, 'UnqDay': 3.0, 'UnqVideosWatched': 2, 'UnqWeeknd': 1.0, 'UserID': 9086173, 'VideosWatched': 2}\n",
      "9086173\n",
      "{'ArticlesVisited': 2, 'AvgQuizGrade': 9.525, 'CourseGrade': 2.3, 'FinalResult': 'Fail', 'FirstLoginDate': '12-09-23', 'NumSessions': 1.0, 'Quiz1': nan, 'Quiz10': 100.0, 'Quiz2': nan, 'Quiz3': nan, 'Quiz4': 100.0, 'Quiz5': nan, 'Quiz6': 100.0, 'Quiz7': nan, 'Quiz8': nan, 'Quiz9': 81.0, 'QuizAttempted': 4, 'QuizReviewed': nan, 'UnqArticlesRead': 1.0, 'UnqDay': nan, 'UnqVideosWatched': 2, 'UnqWeeknd': nan, 'UserID': 4759028, 'VideosWatched': 2}\n",
      "4759028\n",
      "{'ArticlesVisited': 75, 'AvgQuizGrade': 8.0, 'CourseGrade': 7.5, 'FinalResult': 'Pass', 'FirstLoginDate': '09-09-23', 'NumSessions': 16.0, 'Quiz1': 42.0, 'Quiz10': 98.0, 'Quiz2': 79.0, 'Quiz3': 64.0, 'Quiz4': 87.0, 'Quiz5': 58.0, 'Quiz6': 98.0, 'Quiz7': 98.0, 'Quiz8': 76.0, 'Quiz9': 100.0, 'QuizAttempted': 10, 'QuizReviewed': 10.0, 'UnqArticlesRead': 44.0, 'UnqDay': 18.0, 'UnqVideosWatched': 22, 'UnqWeeknd': 5.0, 'UserID': 8102353, 'VideosWatched': 22}\n",
      "8102353\n",
      "{'ArticlesVisited': 0, 'AvgQuizGrade': 8.05, 'CourseGrade': 4.2, 'FinalResult': 'Fail', 'FirstLoginDate': '18-09-23', 'NumSessions': 3.0, 'Quiz1': 63.0, 'Quiz10': nan, 'Quiz2': nan, 'Quiz3': nan, 'Quiz4': nan, 'Quiz5': nan, 'Quiz6': nan, 'Quiz7': 63.0, 'Quiz8': 100.0, 'Quiz9': 96.0, 'QuizAttempted': 4, 'QuizReviewed': 0.0, 'UnqArticlesRead': 0.0, 'UnqDay': 3.0, 'UnqVideosWatched': 6, 'UnqWeeknd': 1.0, 'UserID': 9558074, 'VideosWatched': 6}\n",
      "9558074\n",
      "{'ArticlesVisited': 66, 'AvgQuizGrade': 5.47, 'CourseGrade': 5.9, 'FinalResult': 'Pass', 'FirstLoginDate': '10-09-23', 'NumSessions': 15.0, 'Quiz1': 69.0, 'Quiz10': 13.0, 'Quiz2': 79.0, 'Quiz3': 51.0, 'Quiz4': 51.0, 'Quiz5': 34.0, 'Quiz6': 78.0, 'Quiz7': 49.0, 'Quiz8': 66.0, 'Quiz9': 57.0, 'QuizAttempted': 10, 'QuizReviewed': 5.0, 'UnqArticlesRead': 32.0, 'UnqDay': 12.0, 'UnqVideosWatched': 9, 'UnqWeeknd': 10.0, 'UserID': 9230134, 'VideosWatched': 15}\n",
      "9230134\n",
      "{'ArticlesVisited': 68, 'AvgQuizGrade': 5.638, 'CourseGrade': 6.0, 'FinalResult': 'Pass', 'FirstLoginDate': '11-09-23', 'NumSessions': 16.0, 'Quiz1': 71.0, 'Quiz10': 67.0, 'Quiz2': 54.0, 'Quiz3': nan, 'Quiz4': 51.0, 'Quiz5': 68.0, 'Quiz6': 43.0, 'Quiz7': 49.0, 'Quiz8': 48.0, 'Quiz9': nan, 'QuizAttempted': 8, 'QuizReviewed': 4.0, 'UnqArticlesRead': 43.0, 'UnqDay': 13.0, 'UnqVideosWatched': 22, 'UnqWeeknd': 7.0, 'UserID': 2111601, 'VideosWatched': 23}\n",
      "2111601\n",
      "{'ArticlesVisited': 88, 'AvgQuizGrade': 6.733, 'CourseGrade': 5.6, 'FinalResult': 'Pass', 'FirstLoginDate': '11-09-23', 'NumSessions': 18.0, 'Quiz1': nan, 'Quiz10': 84.0, 'Quiz2': nan, 'Quiz3': 83.0, 'Quiz4': 45.0, 'Quiz5': 63.0, 'Quiz6': 64.0, 'Quiz7': nan, 'Quiz8': 65.0, 'Quiz9': nan, 'QuizAttempted': 6, 'QuizReviewed': 3.0, 'UnqArticlesRead': 44.0, 'UnqDay': 19.0, 'UnqVideosWatched': 7, 'UnqWeeknd': 1.0, 'UserID': 9518056, 'VideosWatched': 7}\n",
      "9518056\n",
      "{'ArticlesVisited': 51, 'AvgQuizGrade': 7.844, 'CourseGrade': 7.0, 'FinalResult': 'Pass', 'FirstLoginDate': '09-09-23', 'NumSessions': 14.0, 'Quiz1': 93.0, 'Quiz10': 87.0, 'Quiz2': 79.0, 'Quiz3': 75.0, 'Quiz4': nan, 'Quiz5': 68.0, 'Quiz6': 76.0, 'Quiz7': 79.0, 'Quiz8': 82.0, 'Quiz9': 67.0, 'QuizAttempted': 9, 'QuizReviewed': 9.0, 'UnqArticlesRead': 26.0, 'UnqDay': 16.0, 'UnqVideosWatched': 20, 'UnqWeeknd': 6.0, 'UserID': 4799046, 'VideosWatched': 27}\n",
      "4799046\n",
      "{'ArticlesVisited': 9, 'AvgQuizGrade': 4.75, 'CourseGrade': 5.6, 'FinalResult': 'Pass', 'FirstLoginDate': '13-09-23', 'NumSessions': 4.0, 'Quiz1': 55.0, 'Quiz10': 42.0, 'Quiz2': 52.0, 'Quiz3': 36.0, 'Quiz4': 54.0, 'Quiz5': nan, 'Quiz6': nan, 'Quiz7': nan, 'Quiz8': nan, 'Quiz9': 46.0, 'QuizAttempted': 6, 'QuizReviewed': 3.0, 'UnqArticlesRead': 7.0, 'UnqDay': 6.0, 'UnqVideosWatched': 6, 'UnqWeeknd': 1.0, 'UserID': 1167799, 'VideosWatched': 7}\n",
      "1167799\n",
      "{'ArticlesVisited': 62, 'AvgQuizGrade': 6.256, 'CourseGrade': 7.1, 'FinalResult': 'Pass', 'FirstLoginDate': '05-09-23', 'NumSessions': 23.0, 'Quiz1': 94.0, 'Quiz10': 37.0, 'Quiz2': 30.0, 'Quiz3': 42.0, 'Quiz4': 100.0, 'Quiz5': 84.0, 'Quiz6': 38.0, 'Quiz7': 91.0, 'Quiz8': 47.0, 'Quiz9': nan, 'QuizAttempted': 9, 'QuizReviewed': 4.0, 'UnqArticlesRead': 25.0, 'UnqDay': 22.0, 'UnqVideosWatched': 10, 'UnqWeeknd': 7.0, 'UserID': 511919, 'VideosWatched': 17}\n",
      "511919\n",
      "{'ArticlesVisited': 29, 'AvgQuizGrade': 7.757, 'CourseGrade': 7.5, 'FinalResult': 'Pass', 'FirstLoginDate': '12-09-23', 'NumSessions': 2.0, 'Quiz1': 74.0, 'Quiz10': nan, 'Quiz2': 71.0, 'Quiz3': 95.0, 'Quiz4': 68.0, 'Quiz5': nan, 'Quiz6': 67.0, 'Quiz7': 86.0, 'Quiz8': 82.0, 'Quiz9': nan, 'QuizAttempted': 7, 'QuizReviewed': 4.0, 'UnqArticlesRead': 22.0, 'UnqDay': 4.0, 'UnqVideosWatched': 1, 'UnqWeeknd': 4.0, 'UserID': 2399523, 'VideosWatched': 1}\n",
      "2399523\n",
      "{'ArticlesVisited': 85, 'AvgQuizGrade': 3.212, 'CourseGrade': 3.0, 'FinalResult': 'Fail', 'FirstLoginDate': '14-09-23', 'NumSessions': 26.0, 'Quiz1': 3.0, 'Quiz10': 18.0, 'Quiz2': 3.0, 'Quiz3': 43.0, 'Quiz4': 54.0, 'Quiz5': 52.0, 'Quiz6': nan, 'Quiz7': 34.0, 'Quiz8': nan, 'Quiz9': 50.0, 'QuizAttempted': 8, 'QuizReviewed': 0.0, 'UnqArticlesRead': 43.0, 'UnqDay': 24.0, 'UnqVideosWatched': 21, 'UnqWeeknd': 1.0, 'UserID': 5270947, 'VideosWatched': 28}\n",
      "5270947\n",
      "{'ArticlesVisited': 37, 'AvgQuizGrade': 6.19, 'CourseGrade': 6.2, 'FinalResult': 'Pass', 'FirstLoginDate': '08-09-23', 'NumSessions': 8.0, 'Quiz1': 52.0, 'Quiz10': 83.0, 'Quiz2': 56.0, 'Quiz3': 75.0, 'Quiz4': 62.0, 'Quiz5': 72.0, 'Quiz6': 70.0, 'Quiz7': 79.0, 'Quiz8': 39.0, 'Quiz9': 31.0, 'QuizAttempted': 10, 'QuizReviewed': 8.0, 'UnqArticlesRead': 20.0, 'UnqDay': 5.0, 'UnqVideosWatched': 5, 'UnqWeeknd': 1.0, 'UserID': 8902194, 'VideosWatched': 7}\n",
      "8902194\n",
      "{'ArticlesVisited': 108, 'AvgQuizGrade': 7.367, 'CourseGrade': 6.9, 'FinalResult': 'Pass', 'FirstLoginDate': '09-09-23', 'NumSessions': 22.0, 'Quiz1': 75.0, 'Quiz10': nan, 'Quiz2': 81.0, 'Quiz3': 80.0, 'Quiz4': 73.0, 'Quiz5': 78.0, 'Quiz6': 77.0, 'Quiz7': 59.0, 'Quiz8': 75.0, 'Quiz9': 65.0, 'QuizAttempted': 9, 'QuizReviewed': 3.0, 'UnqArticlesRead': 34.0, 'UnqDay': 23.0, 'UnqVideosWatched': 17, 'UnqWeeknd': 0.0, 'UserID': 983820, 'VideosWatched': 17}\n",
      "983820\n",
      "{'ArticlesVisited': 20, 'AvgQuizGrade': 7.56, 'CourseGrade': 5.3, 'FinalResult': 'Fail', 'FirstLoginDate': '19-09-23', 'NumSessions': 8.0, 'Quiz1': 79.0, 'Quiz10': nan, 'Quiz2': nan, 'Quiz3': 76.0, 'Quiz4': 76.0, 'Quiz5': nan, 'Quiz6': nan, 'Quiz7': 65.0, 'Quiz8': nan, 'Quiz9': 82.0, 'QuizAttempted': 5, 'QuizReviewed': 2.0, 'UnqArticlesRead': 20.0, 'UnqDay': 7.0, 'UnqVideosWatched': 6, 'UnqWeeknd': 2.0, 'UserID': 1455721, 'VideosWatched': 6}\n",
      "1455721\n",
      "{'ArticlesVisited': 63, 'AvgQuizGrade': 5.65, 'CourseGrade': 5.9, 'FinalResult': 'Pass', 'FirstLoginDate': '06-09-23', 'NumSessions': 17.0, 'Quiz1': 54.0, 'Quiz10': 56.0, 'Quiz2': 63.0, 'Quiz3': 58.0, 'Quiz4': 60.0, 'Quiz5': 47.0, 'Quiz6': 60.0, 'Quiz7': 55.0, 'Quiz8': 67.0, 'Quiz9': 45.0, 'QuizAttempted': 10, 'QuizReviewed': 7.0, 'UnqArticlesRead': 36.0, 'UnqDay': 19.0, 'UnqVideosWatched': 9, 'UnqWeeknd': 6.0, 'UserID': 3199364, 'VideosWatched': 16}\n",
      "3199364\n",
      "{'ArticlesVisited': 19, 'AvgQuizGrade': 0.0, 'CourseGrade': 9.4, 'FinalResult': 'Pass', 'FirstLoginDate': '10-09-23', 'NumSessions': 16.0, 'Quiz1': nan, 'Quiz10': nan, 'Quiz2': nan, 'Quiz3': nan, 'Quiz4': nan, 'Quiz5': nan, 'Quiz6': nan, 'Quiz7': nan, 'Quiz8': nan, 'Quiz9': nan, 'QuizAttempted': 0, 'QuizReviewed': 0.0, 'UnqArticlesRead': 6.0, 'UnqDay': 17.0, 'UnqVideosWatched': 20, 'UnqWeeknd': 4.0, 'UserID': 4143166, 'VideosWatched': 35}\n",
      "4143166\n",
      "{'ArticlesVisited': 100, 'AvgQuizGrade': 6.786, 'CourseGrade': 7.3, 'FinalResult': 'Pass', 'FirstLoginDate': '10-09-23', 'NumSessions': 2.0, 'Quiz1': nan, 'Quiz10': 69.0, 'Quiz2': nan, 'Quiz3': 43.0, 'Quiz4': 100.0, 'Quiz5': 76.0, 'Quiz6': 62.0, 'Quiz7': 28.0, 'Quiz8': 97.0, 'Quiz9': nan, 'QuizAttempted': 7, 'QuizReviewed': 3.0, 'UnqArticlesRead': 39.0, 'UnqDay': 1.0, 'UnqVideosWatched': 6, 'UnqWeeknd': 1.0, 'UserID': 4471106, 'VideosWatched': 10}\n",
      "4471106\n",
      "{'ArticlesVisited': 117, 'AvgQuizGrade': 5.971, 'CourseGrade': 6.0, 'FinalResult': 'Pass', 'FirstLoginDate': '11-09-23', 'NumSessions': 18.0, 'Quiz1': nan, 'Quiz10': nan, 'Quiz2': 61.0, 'Quiz3': 61.0, 'Quiz4': 62.0, 'Quiz5': 51.0, 'Quiz6': nan, 'Quiz7': 57.0, 'Quiz8': 57.0, 'Quiz9': 69.0, 'QuizAttempted': 7, 'QuizReviewed': 6.0, 'UnqArticlesRead': 45.0, 'UnqDay': 18.0, 'UnqVideosWatched': 22, 'UnqWeeknd': 3.0, 'UserID': 5926827, 'VideosWatched': 22}\n",
      "5926827\n",
      "{'ArticlesVisited': 52, 'AvgQuizGrade': 7.571, 'CourseGrade': 6.9, 'FinalResult': 'Pass', 'FirstLoginDate': '15-09-23', 'NumSessions': 16.0, 'Quiz1': 58.0, 'Quiz10': 37.0, 'Quiz2': 100.0, 'Quiz3': nan, 'Quiz4': 56.0, 'Quiz5': 94.0, 'Quiz6': nan, 'Quiz7': 100.0, 'Quiz8': 85.0, 'Quiz9': nan, 'QuizAttempted': 7, 'QuizReviewed': 3.0, 'UnqArticlesRead': 25.0, 'UnqDay': 17.0, 'UnqVideosWatched': 21, 'UnqWeeknd': 6.0, 'UserID': 1639700, 'VideosWatched': 23}\n",
      "1639700\n",
      "{'ArticlesVisited': 29, 'AvgQuizGrade': 7.21, 'CourseGrade': 6.7, 'FinalResult': 'Pass', 'FirstLoginDate': '06-09-23', 'NumSessions': 24.0, 'Quiz1': 77.0, 'Quiz10': 67.0, 'Quiz2': 69.0, 'Quiz3': 56.0, 'Quiz4': 96.0, 'Quiz5': 62.0, 'Quiz6': 56.0, 'Quiz7': 75.0, 'Quiz8': 79.0, 'Quiz9': 84.0, 'QuizAttempted': 10, 'QuizReviewed': 7.0, 'UnqArticlesRead': 29.0, 'UnqDay': 23.0, 'UnqVideosWatched': 25, 'UnqWeeknd': 6.0, 'UserID': 7774413, 'VideosWatched': 34}\n",
      "7774413\n",
      "{'ArticlesVisited': 27, 'AvgQuizGrade': 6.98, 'CourseGrade': 6.8, 'FinalResult': 'Pass', 'FirstLoginDate': '05-09-23', 'NumSessions': 8.0, 'Quiz1': 77.0, 'Quiz10': 71.0, 'Quiz2': 65.0, 'Quiz3': 80.0, 'Quiz4': 43.0, 'Quiz5': 50.0, 'Quiz6': 72.0, 'Quiz7': 76.0, 'Quiz8': 88.0, 'Quiz9': 76.0, 'QuizAttempted': 10, 'QuizReviewed': 3.0, 'UnqArticlesRead': 20.0, 'UnqDay': 7.0, 'UnqVideosWatched': 14, 'UnqWeeknd': 7.0, 'UserID': 7958392, 'VideosWatched': 14}\n",
      "7958392\n",
      "{'ArticlesVisited': 77, 'AvgQuizGrade': 5.988, 'CourseGrade': 6.4, 'FinalResult': 'Pass', 'FirstLoginDate': '15-09-23', 'NumSessions': 21.0, 'Quiz1': nan, 'Quiz10': 57.0, 'Quiz2': 79.0, 'Quiz3': 56.0, 'Quiz4': 70.0, 'Quiz5': 100.0, 'Quiz6': 52.0, 'Quiz7': 27.0, 'Quiz8': 38.0, 'Quiz9': nan, 'QuizAttempted': 8, 'QuizReviewed': 5.0, 'UnqArticlesRead': 32.0, 'UnqDay': 21.0, 'UnqVideosWatched': 18, 'UnqWeeknd': nan, 'UserID': 695898, 'VideosWatched': 34}\n",
      "695898\n",
      "{'ArticlesVisited': 35, 'AvgQuizGrade': 2.0, 'CourseGrade': 5.1, 'FinalResult': 'Fail', 'FirstLoginDate': '21-09-23', 'NumSessions': 5.0, 'Quiz1': nan, 'Quiz10': nan, 'Quiz2': nan, 'Quiz3': nan, 'Quiz4': 20.0, 'Quiz5': nan, 'Quiz6': nan, 'Quiz7': nan, 'Quiz8': nan, 'Quiz9': nan, 'QuizAttempted': 1, 'QuizReviewed': 0.0, 'UnqArticlesRead': 15.0, 'UnqDay': 7.0, 'UnqVideosWatched': 8, 'UnqWeeknd': 7.0, 'UserID': 2583502, 'VideosWatched': 10}\n",
      "2583502\n",
      "{'ArticlesVisited': 79, 'AvgQuizGrade': 7.2, 'CourseGrade': 6.9, 'FinalResult': 'Pass', 'FirstLoginDate': '09-09-23', 'NumSessions': 15.0, 'Quiz1': 46.0, 'Quiz10': nan, 'Quiz2': 80.0, 'Quiz3': 87.0, 'Quiz4': 35.0, 'Quiz5': 53.0, 'Quiz6': 90.0, 'Quiz7': 80.0, 'Quiz8': 84.0, 'Quiz9': 93.0, 'QuizAttempted': 9, 'QuizReviewed': 5.0, 'UnqArticlesRead': 40.0, 'UnqDay': 17.0, 'UnqVideosWatched': 23, 'UnqWeeknd': 10.0, 'UserID': 3343325, 'VideosWatched': 23}\n",
      "3343325\n",
      "{'ArticlesVisited': 15, 'AvgQuizGrade': 7.025, 'CourseGrade': 8.9, 'FinalResult': 'Pass', 'FirstLoginDate': '06-09-23', 'NumSessions': 18.0, 'Quiz1': nan, 'Quiz10': nan, 'Quiz2': 57.0, 'Quiz3': 81.0, 'Quiz4': 85.0, 'Quiz5': 58.0, 'Quiz6': nan, 'Quiz7': nan, 'Quiz8': nan, 'Quiz9': nan, 'QuizAttempted': 4, 'QuizReviewed': 3.0, 'UnqArticlesRead': 6.0, 'UnqDay': 18.0, 'UnqVideosWatched': 19, 'UnqWeeknd': 3.0, 'UserID': 3999205, 'VideosWatched': 38}\n",
      "3999205\n",
      "{'ArticlesVisited': 45, 'AvgQuizGrade': 5.512, 'CourseGrade': 6.7, 'FinalResult': 'Pass', 'FirstLoginDate': '06-09-23', 'NumSessions': 24.0, 'Quiz1': 52.0, 'Quiz10': 61.0, 'Quiz2': 35.0, 'Quiz3': 57.0, 'Quiz4': 60.0, 'Quiz5': 54.0, 'Quiz6': 42.0, 'Quiz7': nan, 'Quiz8': nan, 'Quiz9': 80.0, 'QuizAttempted': 8, 'QuizReviewed': 8.0, 'UnqArticlesRead': 25.0, 'UnqDay': 26.0, 'UnqVideosWatched': 14, 'UnqWeeknd': 9.0, 'UserID': 4327145, 'VideosWatched': 18}\n",
      "4327145\n",
      "{'ArticlesVisited': 24, 'AvgQuizGrade': 7.45, 'CourseGrade': 8.3, 'FinalResult': 'Pass', 'FirstLoginDate': '22-09-23', 'NumSessions': 15.0, 'Quiz1': 79.0, 'Quiz10': nan, 'Quiz2': nan, 'Quiz3': 70.0, 'Quiz4': nan, 'Quiz5': nan, 'Quiz6': nan, 'Quiz7': nan, 'Quiz8': nan, 'Quiz9': nan, 'QuizAttempted': 2, 'QuizReviewed': 1.0, 'UnqArticlesRead': 10.0, 'UnqDay': 15.0, 'UnqVideosWatched': 20, 'UnqWeeknd': 2.0, 'UserID': 2871424, 'VideosWatched': 33}\n",
      "2871424\n",
      "{'ArticlesVisited': 67, 'AvgQuizGrade': 6.9, 'CourseGrade': 6.9, 'FinalResult': 'Pass', 'FirstLoginDate': '08-09-23', 'NumSessions': 12.0, 'Quiz1': 73.0, 'Quiz10': nan, 'Quiz2': 64.0, 'Quiz3': 54.0, 'Quiz4': 68.0, 'Quiz5': 77.0, 'Quiz6': 71.0, 'Quiz7': 74.0, 'Quiz8': 76.0, 'Quiz9': 64.0, 'QuizAttempted': 9, 'QuizReviewed': 6.0, 'UnqArticlesRead': 30.0, 'UnqDay': 9.0, 'UnqVideosWatched': 12, 'UnqWeeknd': 7.0, 'UserID': 9414113, 'VideosWatched': 16}\n",
      "9414113\n",
      "{'ArticlesVisited': 68, 'AvgQuizGrade': 4.414, 'CourseGrade': 6.1, 'FinalResult': 'Pass', 'FirstLoginDate': '06-09-23', 'NumSessions': 16.0, 'Quiz1': 34.0, 'Quiz10': 42.0, 'Quiz2': 19.0, 'Quiz3': nan, 'Quiz4': 36.0, 'Quiz5': 83.0, 'Quiz6': nan, 'Quiz7': 53.0, 'Quiz8': 42.0, 'Quiz9': nan, 'QuizAttempted': 7, 'QuizReviewed': 4.0, 'UnqArticlesRead': 34.0, 'UnqDay': 18.0, 'UnqVideosWatched': 13, 'UnqWeeknd': 7.0, 'UserID': 839859, 'VideosWatched': 19}\n",
      "839859\n",
      "{'ArticlesVisited': 0, 'AvgQuizGrade': 5.52, 'CourseGrade': 5.9, 'FinalResult': 'Pass', 'FirstLoginDate': '07-09-23', 'NumSessions': 7.0, 'Quiz1': 55.0, 'Quiz10': 40.0, 'Quiz2': 53.0, 'Quiz3': 33.0, 'Quiz4': 73.0, 'Quiz5': 40.0, 'Quiz6': 67.0, 'Quiz7': 70.0, 'Quiz8': 28.0, 'Quiz9': 93.0, 'QuizAttempted': 10, 'QuizReviewed': 4.0, 'UnqArticlesRead': 0.0, 'UnqDay': 5.0, 'UnqVideosWatched': 8, 'UnqWeeknd': 4.0, 'UserID': 1271742, 'VideosWatched': 8}\n",
      "1271742\n",
      "{'ArticlesVisited': 55, 'AvgQuizGrade': 7.2, 'CourseGrade': 7.5, 'FinalResult': 'Pass', 'FirstLoginDate': '05-09-23', 'NumSessions': 9.0, 'Quiz1': 69.0, 'Quiz10': nan, 'Quiz2': 80.0, 'Quiz3': 71.0, 'Quiz4': nan, 'Quiz5': 70.0, 'Quiz6': 81.0, 'Quiz7': 66.0, 'Quiz8': 55.0, 'Quiz9': 84.0, 'QuizAttempted': 8, 'QuizReviewed': 4.0, 'UnqArticlesRead': 23.0, 'UnqDay': 7.0, 'UnqVideosWatched': 25, 'UnqWeeknd': 5.0, 'UserID': 2727463, 'VideosWatched': 48}\n",
      "2727463\n",
      "{'ArticlesVisited': 86, 'AvgQuizGrade': 6.54, 'CourseGrade': 7.4, 'FinalResult': 'Pass', 'FirstLoginDate': '09-09-23', 'NumSessions': 1.0, 'Quiz1': 59.0, 'Quiz10': nan, 'Quiz2': nan, 'Quiz3': 75.0, 'Quiz4': nan, 'Quiz5': nan, 'Quiz6': 73.0, 'Quiz7': nan, 'Quiz8': 53.0, 'Quiz9': 67.0, 'QuizAttempted': 5, 'QuizReviewed': 4.0, 'UnqArticlesRead': 38.0, 'UnqDay': 1.0, 'UnqVideosWatched': 23, 'UnqWeeknd': nan, 'UserID': 8614272, 'VideosWatched': 33}\n",
      "8614272\n",
      "{'ArticlesVisited': 18, 'AvgQuizGrade': 4.933, 'CourseGrade': 5.4, 'FinalResult': 'Fail', 'FirstLoginDate': '20-09-23', 'NumSessions': 7.0, 'Quiz1': nan, 'Quiz10': nan, 'Quiz2': 56.0, 'Quiz3': 47.0, 'Quiz4': nan, 'Quiz5': nan, 'Quiz6': nan, 'Quiz7': 45.0, 'Quiz8': nan, 'Quiz9': nan, 'QuizAttempted': 3, 'QuizReviewed': 2.0, 'UnqArticlesRead': 12.0, 'UnqDay': 8.0, 'UnqVideosWatched': 9, 'UnqWeeknd': 3.0, 'UserID': 5598887, 'VideosWatched': 9}\n",
      "5598887\n",
      "{'ArticlesVisited': 59, 'AvgQuizGrade': 7.36, 'CourseGrade': 10.0, 'FinalResult': 'Pass', 'FirstLoginDate': '12-09-23', 'NumSessions': 18.0, 'Quiz1': nan, 'Quiz10': 79.0, 'Quiz2': nan, 'Quiz3': 48.0, 'Quiz4': nan, 'Quiz5': 75.0, 'Quiz6': nan, 'Quiz7': 85.0, 'Quiz8': nan, 'Quiz9': 81.0, 'QuizAttempted': 5, 'QuizReviewed': 4.0, 'UnqArticlesRead': 30.0, 'UnqDay': 19.0, 'UnqVideosWatched': 16, 'UnqWeeknd': 3.0, 'UserID': 183979, 'VideosWatched': 22}\n",
      "183979\n",
      "{'ArticlesVisited': 65, 'AvgQuizGrade': 5.61, 'CourseGrade': 6.1, 'FinalResult': 'Pass', 'FirstLoginDate': '08-09-23', 'NumSessions': 15.0, 'Quiz1': 64.0, 'Quiz10': 31.0, 'Quiz2': 81.0, 'Quiz3': 41.0, 'Quiz4': 55.0, 'Quiz5': 48.0, 'Quiz6': 47.0, 'Quiz7': 92.0, 'Quiz8': 42.0, 'Quiz9': 60.0, 'QuizAttempted': 10, 'QuizReviewed': 8.0, 'UnqArticlesRead': 40.0, 'UnqDay': 13.0, 'UnqVideosWatched': 13, 'UnqWeeknd': 3.0, 'UserID': 8942212, 'VideosWatched': 19}\n",
      "8942212\n",
      "{'ArticlesVisited': 0, 'AvgQuizGrade': 6.511, 'CourseGrade': 7.3, 'FinalResult': 'Pass', 'FirstLoginDate': '12-09-23', 'NumSessions': 5.0, 'Quiz1': 57.0, 'Quiz10': 44.0, 'Quiz2': 66.0, 'Quiz3': nan, 'Quiz4': 69.0, 'Quiz5': 58.0, 'Quiz6': 100.0, 'Quiz7': 80.0, 'Quiz8': 51.0, 'Quiz9': 61.0, 'QuizAttempted': 9, 'QuizReviewed': 7.0, 'UnqArticlesRead': 0.0, 'UnqDay': 3.0, 'UnqVideosWatched': 5, 'UnqWeeknd': 2.0, 'UserID': 1127781, 'VideosWatched': 7}\n",
      "1127781\n",
      "{'ArticlesVisited': 65, 'AvgQuizGrade': 9.6, 'CourseGrade': 3.2, 'FinalResult': 'Fail', 'FirstLoginDate': '19-09-23', 'NumSessions': 5.0, 'Quiz1': nan, 'Quiz10': nan, 'Quiz2': nan, 'Quiz3': 92.0, 'Quiz4': nan, 'Quiz5': nan, 'Quiz6': nan, 'Quiz7': nan, 'Quiz8': 100.0, 'Quiz9': nan, 'QuizAttempted': 2, 'QuizReviewed': 0.0, 'UnqArticlesRead': 37.0, 'UnqDay': 3.0, 'UnqVideosWatched': 14, 'UnqWeeknd': 2.0, 'UserID': 7158551, 'VideosWatched': 23}\n",
      "7158551\n",
      "{'ArticlesVisited': 60, 'AvgQuizGrade': 7.45, 'CourseGrade': 7.4, 'FinalResult': 'Pass', 'FirstLoginDate': '01-10-23', 'NumSessions': 19.0, 'Quiz1': 47.0, 'Quiz10': 89.0, 'Quiz2': 84.0, 'Quiz3': 66.0, 'Quiz4': 100.0, 'Quiz5': 52.0, 'Quiz6': 62.0, 'Quiz7': 85.0, 'Quiz8': 89.0, 'Quiz9': 71.0, 'QuizAttempted': 10, 'QuizReviewed': 8.0, 'UnqArticlesRead': 32.0, 'UnqDay': 16.0, 'UnqVideosWatched': 22, 'UnqWeeknd': 9.0, 'UserID': 2071583, 'VideosWatched': 39}\n",
      "2071583\n",
      "{'ArticlesVisited': 55, 'AvgQuizGrade': 9.278, 'CourseGrade': 7.2, 'FinalResult': 'Pass', 'FirstLoginDate': '10-09-23', 'NumSessions': 13.0, 'Quiz1': 100.0, 'Quiz10': 100.0, 'Quiz2': 100.0, 'Quiz3': 81.0, 'Quiz4': 70.0, 'Quiz5': 100.0, 'Quiz6': 84.0, 'Quiz7': nan, 'Quiz8': 100.0, 'Quiz9': 100.0, 'QuizAttempted': 9, 'QuizReviewed': 2.0, 'UnqArticlesRead': 34.0, 'UnqDay': 13.0, 'UnqVideosWatched': 8, 'UnqWeeknd': 8.0, 'UserID': 5454926, 'VideosWatched': 12}\n",
      "5454926\n",
      "{'ArticlesVisited': 11, 'AvgQuizGrade': 6.689, 'CourseGrade': 6.8, 'FinalResult': 'Pass', 'FirstLoginDate': '07-09-23', 'NumSessions': 4.0, 'Quiz1': 44.0, 'Quiz10': 71.0, 'Quiz2': 81.0, 'Quiz3': 100.0, 'Quiz4': 66.0, 'Quiz5': 72.0, 'Quiz6': 40.0, 'Quiz7': nan, 'Quiz8': 65.0, 'Quiz9': 63.0, 'QuizAttempted': 9, 'QuizReviewed': 4.0, 'UnqArticlesRead': 5.0, 'UnqDay': 5.0, 'UnqVideosWatched': 4, 'UnqWeeknd': 4.0, 'UserID': 7014590, 'VideosWatched': 4}\n",
      "7014590\n",
      "{'ArticlesVisited': 63, 'AvgQuizGrade': 8.144, 'CourseGrade': 7.4, 'FinalResult': 'Pass', 'FirstLoginDate': '12-09-23', 'NumSessions': 16.0, 'Quiz1': 65.0, 'Quiz10': 77.0, 'Quiz2': 67.0, 'Quiz3': 100.0, 'Quiz4': 100.0, 'Quiz5': 83.0, 'Quiz6': 72.0, 'Quiz7': 83.0, 'Quiz8': nan, 'Quiz9': 86.0, 'QuizAttempted': 9, 'QuizReviewed': 6.0, 'UnqArticlesRead': 34.0, 'UnqDay': 17.0, 'UnqVideosWatched': 15, 'UnqWeeknd': 4.0, 'UserID': 2255562, 'VideosWatched': 15}\n",
      "2255562\n",
      "{'ArticlesVisited': 4, 'AvgQuizGrade': 6.957, 'CourseGrade': 6.1, 'FinalResult': 'Pass', 'FirstLoginDate': '15-09-23', 'NumSessions': 8.0, 'Quiz1': nan, 'Quiz10': 75.0, 'Quiz2': 86.0, 'Quiz3': 80.0, 'Quiz4': 50.0, 'Quiz5': nan, 'Quiz6': nan, 'Quiz7': 56.0, 'Quiz8': 67.0, 'Quiz9': 73.0, 'QuizAttempted': 7, 'QuizReviewed': 4.0, 'UnqArticlesRead': 2.0, 'UnqDay': 5.0, 'UnqVideosWatched': 10, 'UnqWeeknd': 2.0, 'UserID': 1783661, 'VideosWatched': 10}\n",
      "1783661\n",
      "{'ArticlesVisited': 53, 'AvgQuizGrade': 8.95, 'CourseGrade': 8.9, 'FinalResult': 'Pass', 'FirstLoginDate': '06-09-23', 'NumSessions': 14.0, 'Quiz1': 96.0, 'Quiz10': nan, 'Quiz2': 88.0, 'Quiz3': 96.0, 'Quiz4': 91.0, 'Quiz5': nan, 'Quiz6': 70.0, 'Quiz7': 100.0, 'Quiz8': 75.0, 'Quiz9': 100.0, 'QuizAttempted': 8, 'QuizReviewed': 6.0, 'UnqArticlesRead': 41.0, 'UnqDay': 13.0, 'UnqVideosWatched': 22, 'UnqWeeknd': 10.0, 'UserID': 7302512, 'VideosWatched': 32}\n",
      "7302512\n",
      "{'ArticlesVisited': 45, 'AvgQuizGrade': 4.312, 'CourseGrade': 8.7, 'FinalResult': 'Pass', 'FirstLoginDate': '05-09-23', 'NumSessions': 12.0, 'Quiz1': 57.0, 'Quiz10': 83.0, 'Quiz2': nan, 'Quiz3': 45.0, 'Quiz4': 52.0, 'Quiz5': 12.0, 'Quiz6': 10.0, 'Quiz7': 86.0, 'Quiz8': 0.0, 'Quiz9': nan, 'QuizAttempted': 8, 'QuizReviewed': 8.0, 'UnqArticlesRead': 31.0, 'UnqDay': 9.0, 'UnqVideosWatched': 10, 'UnqWeeknd': 4.0, 'UserID': 4655085, 'VideosWatched': 10}\n",
      "4655085\n",
      "{'ArticlesVisited': 10, 'AvgQuizGrade': 2.556, 'CourseGrade': 2.6, 'FinalResult': 'Fail', 'FirstLoginDate': '14-09-23', 'NumSessions': 2.0, 'Quiz1': 31.0, 'Quiz10': 35.0, 'Quiz2': 14.0, 'Quiz3': 27.0, 'Quiz4': 26.0, 'Quiz5': 26.0, 'Quiz6': nan, 'Quiz7': 23.0, 'Quiz8': 22.0, 'Quiz9': 26.0, 'QuizAttempted': 9, 'QuizReviewed': 0.0, 'UnqArticlesRead': 6.0, 'UnqDay': 3.0, 'UnqVideosWatched': 2, 'UnqWeeknd': 2.0, 'UserID': 3527304, 'VideosWatched': 2}\n",
      "3527304\n",
      "{'ArticlesVisited': 15, 'AvgQuizGrade': 5.9, 'CourseGrade': 6.0, 'FinalResult': 'Pass', 'FirstLoginDate': '15-09-23', 'NumSessions': 4.0, 'Quiz1': nan, 'Quiz10': nan, 'Quiz2': nan, 'Quiz3': nan, 'Quiz4': nan, 'Quiz5': 47.0, 'Quiz6': nan, 'Quiz7': nan, 'Quiz8': 51.0, 'Quiz9': 79.0, 'QuizAttempted': 3, 'QuizReviewed': 1.0, 'UnqArticlesRead': 8.0, 'UnqDay': 5.0, 'UnqVideosWatched': 6, 'UnqWeeknd': 0.0, 'UserID': 1599682, 'VideosWatched': 6}\n",
      "1599682\n",
      "{'error': 'Student not found'}\n",
      "5263456\n"
     ]
    }
   ],
   "source": [
    "url = api_endpoint+\"getstudentrecord\"\n",
    "\n",
    "student_data = []\n",
    "for student in studentids:\n",
    "    params = {'appid': APP, 'key': KEY, 'studentid':str(student)}\n",
    "    response = requests.get(url, params=params)\n",
    "    \n",
    "    print (response.json())\n",
    "    print (student)\n",
    "    \n",
    "    student_data.append(response.json())"
   ]
  },
  {
   "cell_type": "markdown",
   "id": "67038749",
   "metadata": {},
   "source": [
    "### Convert to a dataframe and save as a CSV file\n",
    "\n",
    "It is timeconsuming to approach an API whenever you need a piece of data. It is better to not send request for the same data item multiple times. Some APIs restrict you to the number of requests you can send per hour, or each request might cost something. In some government applications, if you are accessing sensitive data, your API key may be valid only for a short amount of time.\n",
    "\n",
    "Let's convert all the data to a Dataframe, that can be stored as a CSV for the future use."
   ]
  },
  {
   "cell_type": "code",
   "execution_count": 85,
   "id": "f3966e22",
   "metadata": {},
   "outputs": [],
   "source": [
    "import pandas as pd\n",
    "df = pd.DataFrame(student_data, columns = ['UserID','FirstLoginDate','UnqDay','UnqWeeknd','NumSessions','UnqArticlesRead','UnqVideosWatched','QuizAttempted','QuizReviewed','ArticlesVisited','VideosWatched','Quiz1','Quiz2','Quiz3','Quiz4','Quiz5','Quiz6','Quiz7','Quiz8','Quiz9','Quiz10','AvgQuizGrade','CourseGrade','FinalResult'])\n",
    "df.to_csv('mydata.csv')"
   ]
  },
  {
   "cell_type": "code",
   "execution_count": 86,
   "id": "e100c39d",
   "metadata": {},
   "outputs": [],
   "source": [
    "df = pd.read_csv('mydata.csv')"
   ]
  },
  {
   "cell_type": "markdown",
   "id": "07d12304",
   "metadata": {},
   "source": [
    "# Visualizing the Dataset\n",
    "\n",
    "Visualising and graphing data is an integral part of Data analysis. Visual cues can often convey the information better compared to textual info and more over, more information can also be conveyed using visuals. Visualizing data is useful because it allows us to see relationships in data in a fast and intuitive way. It's especially helpful in exploring data and deciding what to dig into next, because it can point to places where significant patterns might be present.\n",
    "\n",
    "EDA or `Exploratory Data Analysis` is the process of critically analysing data so as to dig out hidden and meaningful insights.\n",
    "- Understanding and gaining insights into the data before moving on to building a model are important tasks.\n",
    "- Understanding each variable and their relationships is also necessary. \n",
    "\n",
    "The following are the major steps:\n",
    "- Visualize the data and gain simple insights.\n",
    "- Perform simple descriptive statistics.\n",
    "- Perform univariate analysis for each variable.\n",
    "- Create derived variables and metrics if necessary.\n",
    "- Find the correlation between the variables.\n"
   ]
  },
  {
   "cell_type": "markdown",
   "id": "75c12e5c",
   "metadata": {},
   "source": [
    "## Univariate Analysis\n",
    "\n",
    "Univariate analysis is the simplest form of data analysis where the data being analyzed contains only one variable. Since it's a single variable it doesn’t deal with causes or relationships.  The main purpose of univariate analysis is to describe the data and find patterns that exist within it.\n",
    "\n",
    "You can think of the variable as a category that your data falls into. One example of a variable in univariate analysis might be \"age\". Another might be \"height\". Univariate analysis would not look at these two variables at the same time, nor would it look at the relationship between them.\n",
    "\n",
    "Some ways you can describe patterns found in univariate data include looking at mean, mode, median, range, variance, maximum, minimum, quartiles, and standard deviation. Additionally, some ways you may display univariate data include frequency distribution tables, bar charts, histograms, frequency polygons, and pie charts.\n",
    "\n",
    "\n",
    "## Bivariate Analysis\n",
    "Bivariate analysis is used to find out if there is a relationship between two different variables. Something as simple as creating a scatterplot by plotting one variable against another on a Cartesian plane (think X and Y axis) can sometimes give you a picture of what the data is trying to tell you. If the data seems to fit a line or curve then there is a relationship or correlation between the two variables.  For example, one might choose to plot caloric intake versus weight.\n",
    "\n",
    "## Multivariate Analysis\n",
    "Multivariate analysis is the analysis of three or more variables.  There are many ways to perform multivariate analysis depending on your goals.\n",
    "\n",
    "This is relatively more complex and requires advanced understanding of statistics and data analysis methods.\n",
    "\n",
    "## Univariate Analysis vs Bivariate Analysis\n",
    "| **Univariate Analysis**                           | **Bivariate Analysis**                                           |\n",
    "|-----------------------------------------------|--------------------------------------------------------------|\n",
    "| Involves a single variable                    | Involves two variables                                       |\n",
    "| Deals with intrinsic property of the data     | Deals with cause and relationships between the two variables |\n",
    "| Major purpose is to describe                  | Major purpose is to explain                                  |\n",
    "| Mean, Median, Mode, Range, Standard Deviation | Correlation, Relationships, Causal Explanations              |"
   ]
  },
  {
   "cell_type": "markdown",
   "id": "ff02d2fd",
   "metadata": {},
   "source": [
    "Classical statistics focused almost exclusively on inference, a sometimes complex set of procedures for drawing conclusions about large populations based on small samples. In 1962, John W. Tukey called for a reformation of statistics in his seminal paper “The Future of Data Analysis”. He proposed a new scientific discipline called data analysis that included statistical inference as just one component. Tukey forged links to the engineering and computer science communities (he coined the terms bit, short for binary digit, and software), and his original tenets are suprisingly durable and form part of the foundation for data science. The field of exploratory data analysis was established with Tukey’s 1977 now-classic book Exploratory Data Analysis\n",
    "\n",
    "People are not very good at looking at a column of numbers or a whole spreadsheet and then determining important characteristics of the data. They find looking at numbers to be tedious, boring, and/or overwhelming. Exploratory data analysis is generally cross-classified in two ways. First, each method is either non-graphical or graphical. And second, each method is either\n",
    "univariate or multivariate (usually just bivariate). Each of the categories of EDA have further divisions based on the role (outcome or explanatory) and type (categorical or quantitative) of the variable(s) being examined."
   ]
  },
  {
   "cell_type": "code",
   "execution_count": 87,
   "id": "b1dccb23",
   "metadata": {},
   "outputs": [],
   "source": [
    "import seaborn as sns\n",
    "import pandas as pd\n",
    "\n",
    "df = pd.read_csv('mydata.csv')"
   ]
  },
  {
   "cell_type": "markdown",
   "id": "43ecba8c",
   "metadata": {},
   "source": [
    "### How is Course Grade Distributed"
   ]
  },
  {
   "cell_type": "code",
   "execution_count": 88,
   "id": "b1c81cd2",
   "metadata": {},
   "outputs": [
    {
     "data": {
      "text/plain": [
       "<Axes: xlabel='CourseGrade', ylabel='Count'>"
      ]
     },
     "execution_count": 88,
     "metadata": {},
     "output_type": "execute_result"
    },
    {
     "data": {
      "image/png": "[encoded data removed]",
      "text/plain": [
       "<Figure size 640x480 with 1 Axes>"
      ]
     },
     "metadata": {},
     "output_type": "display_data"
    }
   ],
   "source": [
    "sns.histplot(df['CourseGrade'], color='Green')"
   ]
  },
  {
   "cell_type": "markdown",
   "id": "7cee29c0",
   "metadata": {},
   "source": [
    "### How are the number of sessions Distributed"
   ]
  },
  {
   "cell_type": "code",
   "execution_count": 89,
   "id": "bc1c75fc",
   "metadata": {},
   "outputs": [
    {
     "data": {
      "text/plain": [
       "<Axes: xlabel='NumSessions', ylabel='Count'>"
      ]
     },
     "execution_count": 89,
     "metadata": {},
     "output_type": "execute_result"
    },
    {
     "data": {
      "image/png": "[encoded data removed]",
      "text/plain": [
       "<Figure size 640x480 with 1 Axes>"
      ]
     },
     "metadata": {},
     "output_type": "display_data"
    }
   ],
   "source": [
    "sns.histplot(df['NumSessions'], color='Green')"
   ]
  },
  {
   "cell_type": "markdown",
   "id": "af85e247",
   "metadata": {},
   "source": [
    "### Boxplot - another look at the distribution"
   ]
  },
  {
   "cell_type": "code",
   "execution_count": 90,
   "id": "d73a1dbe",
   "metadata": {},
   "outputs": [
    {
     "data": {
      "image/png": "[encoded data removed]",
      "text/plain": [
       "<Figure size 1200x1000 with 1 Axes>"
      ]
     },
     "metadata": {},
     "output_type": "display_data"
    }
   ],
   "source": [
    "plt.figure(figsize=(12,10))\n",
    "sns.boxplot(y='NumSessions',data=df)\n",
    "plt.xticks(rotation=45)\n",
    "plt.show()\n"
   ]
  },
  {
   "cell_type": "markdown",
   "id": "9443cdf5",
   "metadata": {},
   "source": [
    "### Scatterplot - relationship between two variables\n",
    "\n",
    "Does how many times (sessions) a student logged-in affect their final coursegrade?"
   ]
  },
  {
   "cell_type": "code",
   "execution_count": 91,
   "id": "a81018ed",
   "metadata": {},
   "outputs": [
    {
     "data": {
      "text/plain": [
       "<Axes: xlabel='NumSessions', ylabel='CourseGrade'>"
      ]
     },
     "execution_count": 91,
     "metadata": {},
     "output_type": "execute_result"
    },
    {
     "data": {
      "image/png": "[encoded data removed]",
      "text/plain": [
       "<Figure size 640x480 with 1 Axes>"
      ]
     },
     "metadata": {},
     "output_type": "display_data"
    }
   ],
   "source": [
    "sns.scatterplot(data = df, x='NumSessions', y='CourseGrade')"
   ]
  },
  {
   "cell_type": "markdown",
   "id": "b065e74c",
   "metadata": {},
   "source": [
    "### Heatmap - are some variables correlated with each other?"
   ]
  },
  {
   "cell_type": "code",
   "execution_count": 92,
   "id": "c8d199ba",
   "metadata": {},
   "outputs": [
    {
     "data": {
      "text/plain": [
       "<Axes: >"
      ]
     },
     "execution_count": 92,
     "metadata": {},
     "output_type": "execute_result"
    },
    {
     "data": {
      "image/png": "[encoded data removed]",
      "text/plain": [
       "<Figure size 640x480 with 2 Axes>"
      ]
     },
     "metadata": {},
     "output_type": "display_data"
    }
   ],
   "source": [
    "\n",
    "sns.heatmap(df[[\"UnqDay\",\"UnqWeeknd\",\"NumSessions\",\"UnqArticlesRead\",\"UnqVideosWatched\",\"QuizAttempted\",\"QuizReviewed\"]].corr(), cmap='Blues', annot =True )"
   ]
  },
  {
   "cell_type": "code",
   "execution_count": null,
   "id": "fc5d4f37-42fd-432a-8f34-74233d266dde",
   "metadata": {},
   "outputs": [],
   "source": []
  },
  {
   "cell_type": "code",
   "execution_count": null,
   "id": "f4216efa-f78f-43cf-9764-97e04776b50e",
   "metadata": {},
   "outputs": [],
   "source": []
  }
 ],
 "metadata": {
  "kernelspec": {
   "display_name": "Python 3 (ipykernel)",
   "language": "python",
   "name": "python3"
  },
  "language_info": {
   "codemirror_mode": {
    "name": "ipython",
    "version": 3
   },
   "file_extension": ".py",
   "mimetype": "text/x-python",
   "name": "python",
   "nbconvert_exporter": "python",
   "pygments_lexer": "ipython3",
   "version": "3.12.4"
  }
 },
 "nbformat": 4,
 "nbformat_minor": 5
}
